{
 "cells": [
  {
   "cell_type": "code",
   "execution_count": 1,
   "id": "3451d4ba",
   "metadata": {},
   "outputs": [],
   "source": [
    "import pandas as pd\n",
    "import numpy as np\n",
    "import scipy\n",
    "from scipy import stats\n",
    "import matplotlib.pyplot as plt"
   ]
  },
  {
   "cell_type": "code",
   "execution_count": 2,
   "id": "418a00cf",
   "metadata": {},
   "outputs": [],
   "source": [
    "from sklearn.model_selection import train_test_split\n",
    "from sklift.metrics import uplift_at_k\n",
    "from sklift.viz import plot_uplift_preds\n",
    "from sklift.models import SoloModel\n",
    "from sklift.models import ClassTransformation\n",
    "from sklift.models import TwoModels"
   ]
  },
  {
   "cell_type": "code",
   "execution_count": 3,
   "id": "626f6752",
   "metadata": {},
   "outputs": [],
   "source": [
    "from catboost import CatBoostClassifier"
   ]
  },
  {
   "cell_type": "code",
   "execution_count": 4,
   "id": "c03a4b7b",
   "metadata": {},
   "outputs": [
    {
     "data": {
      "text/plain": [
       "Buy One Get One    21387\n",
       "Discount           21307\n",
       "No Offer           21306\n",
       "Name: treatment, dtype: int64"
      ]
     },
     "execution_count": 4,
     "metadata": {},
     "output_type": "execute_result"
    }
   ],
   "source": [
    "df = pd.read_csv('data.csv')\n",
    "df.rename(columns = {'offer':'treatment', 'conversion':'target'},\n",
    "          inplace = True )\n",
    "df['treatment'].value_counts()"
   ]
  },
  {
   "cell_type": "code",
   "execution_count": 5,
   "id": "e5de2a97",
   "metadata": {},
   "outputs": [
    {
     "data": {
      "text/html": [
       "<div>\n",
       "<style scoped>\n",
       "    .dataframe tbody tr th:only-of-type {\n",
       "        vertical-align: middle;\n",
       "    }\n",
       "\n",
       "    .dataframe tbody tr th {\n",
       "        vertical-align: top;\n",
       "    }\n",
       "\n",
       "    .dataframe thead th {\n",
       "        text-align: right;\n",
       "    }\n",
       "</style>\n",
       "<table border=\"1\" class=\"dataframe\">\n",
       "  <thead>\n",
       "    <tr style=\"text-align: right;\">\n",
       "      <th></th>\n",
       "      <th>recency</th>\n",
       "      <th>history</th>\n",
       "      <th>used_discount</th>\n",
       "      <th>used_bogo</th>\n",
       "      <th>zip_code</th>\n",
       "      <th>is_referral</th>\n",
       "      <th>channel</th>\n",
       "      <th>treatment</th>\n",
       "      <th>target</th>\n",
       "    </tr>\n",
       "  </thead>\n",
       "  <tbody>\n",
       "    <tr>\n",
       "      <th>0</th>\n",
       "      <td>10</td>\n",
       "      <td>142.44</td>\n",
       "      <td>1</td>\n",
       "      <td>0</td>\n",
       "      <td>Surburban</td>\n",
       "      <td>0</td>\n",
       "      <td>Phone</td>\n",
       "      <td>1</td>\n",
       "      <td>0</td>\n",
       "    </tr>\n",
       "    <tr>\n",
       "      <th>1</th>\n",
       "      <td>6</td>\n",
       "      <td>329.08</td>\n",
       "      <td>1</td>\n",
       "      <td>1</td>\n",
       "      <td>Rural</td>\n",
       "      <td>1</td>\n",
       "      <td>Web</td>\n",
       "      <td>0</td>\n",
       "      <td>0</td>\n",
       "    </tr>\n",
       "    <tr>\n",
       "      <th>2</th>\n",
       "      <td>7</td>\n",
       "      <td>180.65</td>\n",
       "      <td>0</td>\n",
       "      <td>1</td>\n",
       "      <td>Surburban</td>\n",
       "      <td>1</td>\n",
       "      <td>Web</td>\n",
       "      <td>1</td>\n",
       "      <td>0</td>\n",
       "    </tr>\n",
       "  </tbody>\n",
       "</table>\n",
       "</div>"
      ],
      "text/plain": [
       "   recency  history  used_discount  used_bogo   zip_code  is_referral channel  \\\n",
       "0       10   142.44              1          0  Surburban            0   Phone   \n",
       "1        6   329.08              1          1      Rural            1     Web   \n",
       "2        7   180.65              0          1  Surburban            1     Web   \n",
       "\n",
       "   treatment  target  \n",
       "0          1       0  \n",
       "1          0       0  \n",
       "2          1       0  "
      ]
     },
     "execution_count": 5,
     "metadata": {},
     "output_type": "execute_result"
    }
   ],
   "source": [
    "df = df.replace(to_replace=\"Buy One Get One\",value=1)\n",
    "df = df.replace(to_replace=\"No Offer\",value=0)\n",
    "df = df.replace(to_replace=\"Discount\",value=0)\n",
    "df.head(3)"
   ]
  },
  {
   "cell_type": "code",
   "execution_count": 6,
   "id": "cabb55e8",
   "metadata": {},
   "outputs": [
    {
     "data": {
      "text/plain": [
       "recency            int64\n",
       "history          float64\n",
       "used_discount      int64\n",
       "used_bogo          int64\n",
       "zip_code          object\n",
       "is_referral        int64\n",
       "channel           object\n",
       "treatment          int64\n",
       "target             int64\n",
       "dtype: object"
      ]
     },
     "execution_count": 6,
     "metadata": {},
     "output_type": "execute_result"
    }
   ],
   "source": [
    "df.dtypes"
   ]
  },
  {
   "cell_type": "code",
   "execution_count": 7,
   "id": "8dfb0d12",
   "metadata": {},
   "outputs": [
    {
     "data": {
      "text/html": [
       "<div>\n",
       "<style scoped>\n",
       "    .dataframe tbody tr th:only-of-type {\n",
       "        vertical-align: middle;\n",
       "    }\n",
       "\n",
       "    .dataframe tbody tr th {\n",
       "        vertical-align: top;\n",
       "    }\n",
       "\n",
       "    .dataframe thead th {\n",
       "        text-align: right;\n",
       "    }\n",
       "</style>\n",
       "<table border=\"1\" class=\"dataframe\">\n",
       "  <thead>\n",
       "    <tr style=\"text-align: right;\">\n",
       "      <th></th>\n",
       "      <th>recency</th>\n",
       "      <th>history</th>\n",
       "      <th>used_discount</th>\n",
       "      <th>used_bogo</th>\n",
       "      <th>is_referral</th>\n",
       "      <th>treatment</th>\n",
       "      <th>target</th>\n",
       "    </tr>\n",
       "  </thead>\n",
       "  <tbody>\n",
       "    <tr>\n",
       "      <th>0</th>\n",
       "      <td>1.207751</td>\n",
       "      <td>-0.389003</td>\n",
       "      <td>1</td>\n",
       "      <td>0</td>\n",
       "      <td>0</td>\n",
       "      <td>1</td>\n",
       "      <td>0</td>\n",
       "    </tr>\n",
       "    <tr>\n",
       "      <th>1</th>\n",
       "      <td>0.067359</td>\n",
       "      <td>0.339614</td>\n",
       "      <td>1</td>\n",
       "      <td>1</td>\n",
       "      <td>1</td>\n",
       "      <td>0</td>\n",
       "      <td>0</td>\n",
       "    </tr>\n",
       "    <tr>\n",
       "      <th>2</th>\n",
       "      <td>0.352457</td>\n",
       "      <td>-0.239836</td>\n",
       "      <td>0</td>\n",
       "      <td>1</td>\n",
       "      <td>1</td>\n",
       "      <td>1</td>\n",
       "      <td>0</td>\n",
       "    </tr>\n",
       "  </tbody>\n",
       "</table>\n",
       "</div>"
      ],
      "text/plain": [
       "    recency   history  used_discount  used_bogo  is_referral  treatment  \\\n",
       "0  1.207751 -0.389003              1          0            0          1   \n",
       "1  0.067359  0.339614              1          1            1          0   \n",
       "2  0.352457 -0.239836              0          1            1          1   \n",
       "\n",
       "   target  \n",
       "0       0  \n",
       "1       0  \n",
       "2       0  "
      ]
     },
     "execution_count": 7,
     "metadata": {},
     "output_type": "execute_result"
    }
   ],
   "source": [
    "df.drop(['zip_code', 'channel'], axis= 1 , inplace= True )\n",
    "df['history'] = stats.zscore(df['history'])\n",
    "df['recency'] = stats.zscore(df['recency'])\n",
    "df.head(3)"
   ]
  },
  {
   "cell_type": "code",
   "execution_count": 8,
   "id": "8bd41a89",
   "metadata": {},
   "outputs": [],
   "source": [
    "train_cols = df.columns.difference(['target'])\n",
    "X = df[train_cols]\n",
    "y = df['target']"
   ]
  },
  {
   "cell_type": "code",
   "execution_count": 9,
   "id": "ecd1f7ac",
   "metadata": {},
   "outputs": [],
   "source": [
    "X_train, X_test, y_train, y_test = train_test_split(X, y, test_size=0.25,\n",
    "                                                    random_state=16)"
   ]
  },
  {
   "cell_type": "markdown",
   "id": "63f9a78e",
   "metadata": {},
   "source": [
    "### 1) С признаком коммуникации"
   ]
  },
  {
   "cell_type": "code",
   "execution_count": 10,
   "id": "31e87bfd",
   "metadata": {},
   "outputs": [],
   "source": [
    "indices_learn, indices_valid = train_test_split(df.index, test_size=0.25,\n",
    "                                                random_state=16)\n",
    "treat_train = df.loc[indices_learn, 'treatment']\n",
    "treat_val =  df.loc[indices_valid, 'treatment']"
   ]
  },
  {
   "cell_type": "code",
   "execution_count": 11,
   "id": "c1ff2b2d",
   "metadata": {},
   "outputs": [],
   "source": [
    "models_results1 = {\n",
    "    'approach': [],\n",
    "    'uplift@10%': []\n",
    "}"
   ]
  },
  {
   "cell_type": "code",
   "execution_count": 12,
   "id": "7b51ebb8",
   "metadata": {},
   "outputs": [],
   "source": [
    "models_results2 = {\n",
    "    'uplift@20%': []\n",
    "}"
   ]
  },
  {
   "cell_type": "code",
   "execution_count": 13,
   "id": "63afe267",
   "metadata": {},
   "outputs": [],
   "source": [
    "sm = SoloModel(CatBoostClassifier(iterations=20, thread_count=2, random_state=16, silent=True))\n",
    "sm = sm.fit(X_train, y_train, treat_train)\n",
    "\n",
    "uplift_sm = sm.predict(X_test)\n",
    "\n",
    "sm_score = uplift_at_k(y_true=y_test, uplift=uplift_sm, treatment=treat_val, strategy='by_group', k=0.1)\n",
    "models_results1['approach'].append('SoloModel')\n",
    "models_results1['uplift@10%'].append(sm_score)\n",
    "sm_score = uplift_at_k(y_true=y_test, uplift=uplift_sm, treatment=treat_val, strategy='by_group', k=0.2)\n",
    "models_results2['uplift@20%'].append(sm_score)"
   ]
  },
  {
   "cell_type": "code",
   "execution_count": 14,
   "id": "89b49b8a",
   "metadata": {},
   "outputs": [
    {
     "data": {
      "text/plain": [
       "array([<AxesSubplot:title={'center':'Treatment predictions'}, ylabel='Probability hist'>,\n",
       "       <AxesSubplot:title={'center':'Control predictions'}>,\n",
       "       <AxesSubplot:title={'center':'Uplift predictions'}>], dtype=object)"
      ]
     },
     "execution_count": 14,
     "metadata": {},
     "output_type": "execute_result"
    },
    {
     "data": {
      "image/png": "[encoded data removed]",
      "text/plain": [
       "<Figure size 1440x504 with 3 Axes>"
      ]
     },
     "metadata": {
      "needs_background": "light"
     },
     "output_type": "display_data"
    }
   ],
   "source": [
    "sm_trmnt_preds = sm.trmnt_preds_\n",
    "sm_ctrl_preds = sm.ctrl_preds_\n",
    "\n",
    "plot_uplift_preds(trmnt_preds=sm_trmnt_preds, ctrl_preds=sm_ctrl_preds)"
   ]
  },
  {
   "cell_type": "code",
   "execution_count": 15,
   "id": "36fa9edc",
   "metadata": {},
   "outputs": [
    {
     "data": {
      "text/html": [
       "<div>\n",
       "<style scoped>\n",
       "    .dataframe tbody tr th:only-of-type {\n",
       "        vertical-align: middle;\n",
       "    }\n",
       "\n",
       "    .dataframe tbody tr th {\n",
       "        vertical-align: top;\n",
       "    }\n",
       "\n",
       "    .dataframe thead th {\n",
       "        text-align: right;\n",
       "    }\n",
       "</style>\n",
       "<table border=\"1\" class=\"dataframe\">\n",
       "  <thead>\n",
       "    <tr style=\"text-align: right;\">\n",
       "      <th></th>\n",
       "      <th>feature_name</th>\n",
       "      <th>feature_score</th>\n",
       "    </tr>\n",
       "  </thead>\n",
       "  <tbody>\n",
       "    <tr>\n",
       "      <th>0</th>\n",
       "      <td>is_referral</td>\n",
       "      <td>23.499159</td>\n",
       "    </tr>\n",
       "    <tr>\n",
       "      <th>1</th>\n",
       "      <td>history</td>\n",
       "      <td>20.841906</td>\n",
       "    </tr>\n",
       "    <tr>\n",
       "      <th>2</th>\n",
       "      <td>recency</td>\n",
       "      <td>17.789403</td>\n",
       "    </tr>\n",
       "    <tr>\n",
       "      <th>3</th>\n",
       "      <td>used_bogo</td>\n",
       "      <td>14.198690</td>\n",
       "    </tr>\n",
       "    <tr>\n",
       "      <th>4</th>\n",
       "      <td>used_discount</td>\n",
       "      <td>13.601673</td>\n",
       "    </tr>\n",
       "    <tr>\n",
       "      <th>5</th>\n",
       "      <td>treatment</td>\n",
       "      <td>10.069169</td>\n",
       "    </tr>\n",
       "  </tbody>\n",
       "</table>\n",
       "</div>"
      ],
      "text/plain": [
       "    feature_name  feature_score\n",
       "0    is_referral      23.499159\n",
       "1        history      20.841906\n",
       "2        recency      17.789403\n",
       "3      used_bogo      14.198690\n",
       "4  used_discount      13.601673\n",
       "5      treatment      10.069169"
      ]
     },
     "execution_count": 15,
     "metadata": {},
     "output_type": "execute_result"
    }
   ],
   "source": [
    "sm_fi = pd.DataFrame({\n",
    "    'feature_name': sm.estimator.feature_names_,\n",
    "    'feature_score': sm.estimator.feature_importances_\n",
    "}).sort_values('feature_score', ascending=False).reset_index(drop=True)\n",
    "\n",
    "sm_fi"
   ]
  },
  {
   "cell_type": "markdown",
   "id": "9845d370",
   "metadata": {},
   "source": [
    "### 2) Трансформация классов"
   ]
  },
  {
   "cell_type": "code",
   "execution_count": 16,
   "id": "afd48aac",
   "metadata": {},
   "outputs": [],
   "source": [
    "ct = ClassTransformation(CatBoostClassifier(iterations=20, thread_count=2, random_state=16, silent=True))\n",
    "ct = ct.fit(X_train, y_train, treat_train)\n",
    "\n",
    "uplift_ct = ct.predict(X_test)\n",
    "\n",
    "ct_score = uplift_at_k(y_true=y_test, uplift=uplift_ct, treatment=treat_val, strategy='by_group', k=0.1)\n",
    "\n",
    "models_results1['approach'].append('ClassTransformation')\n",
    "models_results1['uplift@10%'].append(ct_score)\n",
    "ct_score = uplift_at_k(y_true=y_test, uplift=uplift_ct, treatment=treat_val, strategy='by_group', k=0.2)\n",
    "models_results2['uplift@20%'].append(ct_score)"
   ]
  },
  {
   "cell_type": "markdown",
   "id": "a8ae0d6d",
   "metadata": {},
   "source": [
    "### 3) Две независимые модели"
   ]
  },
  {
   "cell_type": "code",
   "execution_count": 17,
   "id": "e90cc586",
   "metadata": {},
   "outputs": [
    {
     "data": {
      "text/plain": [
       "array([<AxesSubplot:title={'center':'Treatment predictions'}, ylabel='Probability hist'>,\n",
       "       <AxesSubplot:title={'center':'Control predictions'}>,\n",
       "       <AxesSubplot:title={'center':'Uplift predictions'}>], dtype=object)"
      ]
     },
     "execution_count": 17,
     "metadata": {},
     "output_type": "execute_result"
    },
    {
     "data": {
      "image/png": "[encoded data removed]",
      "text/plain": [
       "<Figure size 1440x504 with 3 Axes>"
      ]
     },
     "metadata": {
      "needs_background": "light"
     },
     "output_type": "display_data"
    }
   ],
   "source": [
    "tm = TwoModels(\n",
    "    estimator_trmnt=CatBoostClassifier(iterations=20, thread_count=2, random_state=16, silent=True), \n",
    "    estimator_ctrl=CatBoostClassifier(iterations=20, thread_count=2, random_state=16, silent=True), \n",
    "    method='vanilla'\n",
    ")\n",
    "tm = tm.fit(\n",
    "    X_train, y_train, treat_train)\n",
    "\n",
    "uplift_tm = tm.predict(X_test)\n",
    "\n",
    "tm_score = uplift_at_k(y_true=y_test, uplift=uplift_tm, treatment=treat_val, strategy='by_group', k=0.1)\n",
    "\n",
    "models_results1['approach'].append('TwoModels')\n",
    "models_results1['uplift@10%'].append(tm_score)\n",
    "tm_score = uplift_at_k(y_true=y_test, uplift=uplift_tm, treatment=treat_val, strategy='by_group', k=0.2)\n",
    "models_results2['uplift@20%'].append(tm_score)\n",
    "plot_uplift_preds(trmnt_preds=tm.trmnt_preds_, ctrl_preds=tm.ctrl_preds_)"
   ]
  },
  {
   "cell_type": "code",
   "execution_count": 18,
   "id": "368f953e",
   "metadata": {},
   "outputs": [],
   "source": [
    "df1 = pd.DataFrame(data=models_results1).sort_values('uplift@10%', ascending=False)\n",
    "df2 = pd.DataFrame(data=models_results2).sort_values('uplift@20%', ascending=False)"
   ]
  },
  {
   "cell_type": "code",
   "execution_count": 19,
   "id": "8f111edd",
   "metadata": {},
   "outputs": [
    {
     "data": {
      "text/html": [
       "<style type=\"text/css\">\n",
       "</style>\n",
       "<table id=\"T_ca913\">\n",
       "  <thead>\n",
       "    <tr>\n",
       "      <th id=\"T_ca913_level0_col0\" class=\"col_heading level0 col0\" >approach</th>\n",
       "      <th id=\"T_ca913_level0_col1\" class=\"col_heading level0 col1\" >uplift@10%</th>\n",
       "      <th id=\"T_ca913_level0_col2\" class=\"col_heading level0 col2\" >uplift@20%</th>\n",
       "    </tr>\n",
       "  </thead>\n",
       "  <tbody>\n",
       "    <tr>\n",
       "      <td id=\"T_ca913_row0_col0\" class=\"data row0 col0\" >ClassTransformation</td>\n",
       "      <td id=\"T_ca913_row0_col1\" class=\"data row0 col1\" >0.211108</td>\n",
       "      <td id=\"T_ca913_row0_col2\" class=\"data row0 col2\" >0.167943</td>\n",
       "    </tr>\n",
       "    <tr>\n",
       "      <td id=\"T_ca913_row1_col0\" class=\"data row1 col0\" >TwoModels</td>\n",
       "      <td id=\"T_ca913_row1_col1\" class=\"data row1 col1\" >0.059480</td>\n",
       "      <td id=\"T_ca913_row1_col2\" class=\"data row1 col2\" >0.025195</td>\n",
       "    </tr>\n",
       "    <tr>\n",
       "      <td id=\"T_ca913_row2_col0\" class=\"data row2 col0\" >SoloModel</td>\n",
       "      <td id=\"T_ca913_row2_col1\" class=\"data row2 col1\" >0.037192</td>\n",
       "      <td id=\"T_ca913_row2_col2\" class=\"data row2 col2\" >0.037646</td>\n",
       "    </tr>\n",
       "  </tbody>\n",
       "</table>\n"
      ],
      "text/plain": [
       "<pandas.io.formats.style.Styler at 0x1b222d51730>"
      ]
     },
     "execution_count": 19,
     "metadata": {},
     "output_type": "execute_result"
    }
   ],
   "source": [
    "frames = [df1, df2]\n",
    "result = pd.concat((frames), axis=1)\n",
    "result.style.hide(axis=\"index\")"
   ]
  }
 ],
 "metadata": {
  "kernelspec": {
   "display_name": "Python 3 (ipykernel)",
   "language": "python",
   "name": "python3"
  },
  "language_info": {
   "codemirror_mode": {
    "name": "ipython",
    "version": 3
   },
   "file_extension": ".py",
   "mimetype": "text/x-python",
   "name": "python",
   "nbconvert_exporter": "python",
   "pygments_lexer": "ipython3",
   "version": "3.9.12"
  }
 },
 "nbformat": 4,
 "nbformat_minor": 5
}
