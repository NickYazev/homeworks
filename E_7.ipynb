{
 "cells": [
  {
   "cell_type": "code",
   "execution_count": 1,
   "id": "b360b709",
   "metadata": {},
   "outputs": [],
   "source": [
    "import numpy as np\n",
    "import pandas as pd"
   ]
  },
  {
   "cell_type": "code",
   "execution_count": 2,
   "id": "f47c49a2",
   "metadata": {},
   "outputs": [],
   "source": [
    "import keras\n",
    "from keras.models import Sequential, Model\n",
    "from keras.layers import Dense, Dropout, Activation, Input, Embedding, Conv1D, GlobalMaxPool1D \n",
    "from keras.preprocessing.text import Tokenizer"
   ]
  },
  {
   "cell_type": "code",
   "execution_count": 3,
   "id": "51e65b07",
   "metadata": {},
   "outputs": [
    {
     "name": "stderr",
     "output_type": "stream",
     "text": [
      "[nltk_data] Downloading package punkt to\n",
      "[nltk_data]     C:\\Users\\Николай\\AppData\\Roaming\\nltk_data...\n",
      "[nltk_data]   Package punkt is already up-to-date!\n"
     ]
    }
   ],
   "source": [
    "import nltk\n",
    "from nltk.tokenize import word_tokenize\n",
    "nltk.download(\"punkt\")\n",
    "from nltk.probability import FreqDist"
   ]
  },
  {
   "cell_type": "code",
   "execution_count": 25,
   "id": "f5d94ceb",
   "metadata": {},
   "outputs": [],
   "source": [
    "import warnings\n",
    "warnings.filterwarnings('ignore')"
   ]
  },
  {
   "cell_type": "code",
   "execution_count": 26,
   "id": "d55dfcdb",
   "metadata": {},
   "outputs": [],
   "source": [
    "import gensim"
   ]
  },
  {
   "cell_type": "code",
   "execution_count": 5,
   "id": "4d729718",
   "metadata": {},
   "outputs": [],
   "source": [
    "from string import punctuation\n",
    "from stop_words import get_stop_words\n",
    "from pymorphy2 import MorphAnalyzer\n",
    "import re"
   ]
  },
  {
   "cell_type": "markdown",
   "id": "11c09a57",
   "metadata": {},
   "source": [
    "## 1) структурирование датафрейма"
   ]
  },
  {
   "cell_type": "code",
   "execution_count": 7,
   "id": "3c1c0527",
   "metadata": {},
   "outputs": [
    {
     "data": {
      "text/html": [
       "<div>\n",
       "<style scoped>\n",
       "    .dataframe tbody tr th:only-of-type {\n",
       "        vertical-align: middle;\n",
       "    }\n",
       "\n",
       "    .dataframe tbody tr th {\n",
       "        vertical-align: top;\n",
       "    }\n",
       "\n",
       "    .dataframe thead th {\n",
       "        text-align: right;\n",
       "    }\n",
       "</style>\n",
       "<table border=\"1\" class=\"dataframe\">\n",
       "  <thead>\n",
       "    <tr style=\"text-align: right;\">\n",
       "      <th></th>\n",
       "      <th>text</th>\n",
       "      <th>class</th>\n",
       "    </tr>\n",
       "  </thead>\n",
       "  <tbody>\n",
       "    <tr>\n",
       "      <th>0</th>\n",
       "      <td>It just works!</td>\n",
       "      <td>1</td>\n",
       "    </tr>\n",
       "    <tr>\n",
       "      <th>1</th>\n",
       "      <td>В целом удобноное приложение...из минусов хотя...</td>\n",
       "      <td>1</td>\n",
       "    </tr>\n",
       "    <tr>\n",
       "      <th>2</th>\n",
       "      <td>Отлично все</td>\n",
       "      <td>1</td>\n",
       "    </tr>\n",
       "    <tr>\n",
       "      <th>3</th>\n",
       "      <td>Стал зависать на 1% работы антивируса. Дальше ...</td>\n",
       "      <td>1</td>\n",
       "    </tr>\n",
       "    <tr>\n",
       "      <th>4</th>\n",
       "      <td>Очень удобно, работает быстро.</td>\n",
       "      <td>1</td>\n",
       "    </tr>\n",
       "  </tbody>\n",
       "</table>\n",
       "</div>"
      ],
      "text/plain": [
       "                                                text  class\n",
       "0                                     It just works!      1\n",
       "1  В целом удобноное приложение...из минусов хотя...      1\n",
       "2                                        Отлично все      1\n",
       "3  Стал зависать на 1% работы антивируса. Дальше ...      1\n",
       "4                     Очень удобно, работает быстро.      1"
      ]
     },
     "execution_count": 7,
     "metadata": {},
     "output_type": "execute_result"
    }
   ],
   "source": [
    "df_row = pd.read_csv(\"leto.csv\")\n",
    "df_row = df_row.rename(columns = {'Rating':'class', 'Content':'text'})\n",
    "df_train = df_row.drop(columns=['Date'])\n",
    "\n",
    "df_train[\"class\"] = np.where(df_train[\"class\"] >= 4, 1, 0)\n",
    "df_test = df_train.iloc[0:4000]\n",
    "df_test = df_test[['text', 'class']]\n",
    "df_train = df_train[['text', 'class']]\n",
    "\n",
    "df_train = df_train.dropna()\n",
    "df_test = df_test.dropna()\n",
    "\n",
    "df_train.head()"
   ]
  },
  {
   "cell_type": "markdown",
   "id": "1e782986",
   "metadata": {},
   "source": [
    "## 2) Предобработка"
   ]
  },
  {
   "cell_type": "code",
   "execution_count": 8,
   "id": "a8596d4d",
   "metadata": {},
   "outputs": [],
   "source": [
    "sw = set(get_stop_words(\"ru\"))\n",
    "exclude = set(punctuation)\n",
    "morpher = MorphAnalyzer()\n",
    "\n",
    "def preprocess_text(txt):\n",
    "    txt = str(txt)\n",
    "    txt = \"\".join(c for c in txt if c not in exclude)\n",
    "    txt = txt.lower()\n",
    "    txt = re.sub(\"\\sне\", \"не\", txt)\n",
    "    txt = [morpher.parse(word)[0].normal_form for word in txt.split() if word not in sw]\n",
    "    return \" \".join(txt)\n",
    "\n",
    "df_train['text'] = df_train['text'].apply(preprocess_text)\n",
    "df_test['text'] = df_test['text'].apply(preprocess_text)"
   ]
  },
  {
   "cell_type": "code",
   "execution_count": 9,
   "id": "325ba958",
   "metadata": {},
   "outputs": [],
   "source": [
    "train_corpus = \" \".join(df_train[\"text\"])\n",
    "train_corpus = train_corpus.lower()"
   ]
  },
  {
   "cell_type": "code",
   "execution_count": 10,
   "id": "7b7ed667",
   "metadata": {},
   "outputs": [],
   "source": [
    "tokens = word_tokenize(train_corpus)\n",
    "tokens_filtered = [word for word in tokens if word.isalnum()]"
   ]
  },
  {
   "cell_type": "code",
   "execution_count": 11,
   "id": "8cea58ec",
   "metadata": {},
   "outputs": [
    {
     "data": {
      "text/plain": [
       "['приложение',\n",
       " 'удобно',\n",
       " 'работать',\n",
       " 'удобный',\n",
       " 'отлично',\n",
       " 'нравиться',\n",
       " 'хороший',\n",
       " 'отличный',\n",
       " 'телефон',\n",
       " 'супер']"
      ]
     },
     "execution_count": 11,
     "metadata": {},
     "output_type": "execute_result"
    }
   ],
   "source": [
    "max_words = 100\n",
    "dist = FreqDist(tokens_filtered)\n",
    "tokens_filtered_top = [pair[0] for pair in dist.most_common(max_words-1)]\n",
    "tokens_filtered_top[:10]"
   ]
  },
  {
   "cell_type": "code",
   "execution_count": 12,
   "id": "827017b1",
   "metadata": {},
   "outputs": [
    {
     "data": {
      "text/plain": [
       "{'приложение': 1,\n",
       " 'удобно': 2,\n",
       " 'работать': 3,\n",
       " 'удобный': 4,\n",
       " 'отлично': 5,\n",
       " 'нравиться': 6,\n",
       " 'хороший': 7,\n",
       " 'отличный': 8,\n",
       " 'телефон': 9,\n",
       " 'супер': 10,\n",
       " 'быстро': 11,\n",
       " 'обновление': 12,\n",
       " 'мочь': 13,\n",
       " 'пароль': 14,\n",
       " 'антивирус': 15,\n",
       " 'пользоваться': 16,\n",
       " 'банк': 17,\n",
       " 'сбербанк': 18,\n",
       " 'устраивать': 19,\n",
       " 'вход': 20,\n",
       " 'раз': 21,\n",
       " 'карта': 22,\n",
       " 'прошивка': 23,\n",
       " 'рута': 24,\n",
       " 'проблема': 25,\n",
       " 'программа': 26,\n",
       " 'писать': 27,\n",
       " 'сделать': 28,\n",
       " 'счёт': 29,\n",
       " 'перевод': 30,\n",
       " 'разработчик': 31,\n",
       " 'приходиться': 32,\n",
       " 'деньга': 33,\n",
       " 'норма': 34,\n",
       " 'ошибка': 35,\n",
       " 'вводить': 36,\n",
       " 'нормально': 37,\n",
       " 'платёж': 38,\n",
       " 'постоянно': 39,\n",
       " 'около': 40,\n",
       " 'довольный': 41,\n",
       " 'исправить': 42,\n",
       " 'понятно': 43,\n",
       " 'смс': 44,\n",
       " 'код': 45,\n",
       " 'функция': 46,\n",
       " 'свой': 47,\n",
       " 'шаблон': 48,\n",
       " 'вылетать': 49,\n",
       " 'последний': 50,\n",
       " 'зайти': 51,\n",
       " 'мобильный': 52,\n",
       " 'возможность': 53,\n",
       " 'стать': 54,\n",
       " 'право': 55,\n",
       " 'приходить': 56,\n",
       " 'делать': 57,\n",
       " 'иня': 58,\n",
       " 'установить': 59,\n",
       " 'класс': 60,\n",
       " 'заходить': 61,\n",
       " 'проверка': 62,\n",
       " 'root': 63,\n",
       " 'операция': 64,\n",
       " 'работа': 65,\n",
       " 'meizu': 66,\n",
       " 'оплата': 67,\n",
       " 'ввод': 68,\n",
       " 'онлайн': 69,\n",
       " '5': 70,\n",
       " 'нужный': 71,\n",
       " 'удалить': 72,\n",
       " 'функционал': 73,\n",
       " 'мой': 74,\n",
       " 'версия': 75,\n",
       " 'войти': 76,\n",
       " 'доступ': 77,\n",
       " 'молодец': 78,\n",
       " 'первый': 79,\n",
       " 'полный': 80,\n",
       " 'один': 81,\n",
       " 'новый': 82,\n",
       " 'номер': 83,\n",
       " 'вообще': 84,\n",
       " 'приложениен': 85,\n",
       " '2': 86,\n",
       " 'круто': 87,\n",
       " 'самый': 88,\n",
       " 'интернет': 89,\n",
       " 'отпечаток': 90,\n",
       " 'уведомление': 91,\n",
       " 'изз': 92,\n",
       " 'какой': 93,\n",
       " 'клиент': 94,\n",
       " 'рука': 95,\n",
       " 'просить': 96,\n",
       " 'перестать': 97,\n",
       " 'ян': 98,\n",
       " 'вирус': 99}"
      ]
     },
     "execution_count": 12,
     "metadata": {},
     "output_type": "execute_result"
    }
   ],
   "source": [
    "vocabulary = {v: k for k, v in dict(enumerate(tokens_filtered_top, 1)).items()}\n",
    "vocabulary"
   ]
  },
  {
   "cell_type": "code",
   "execution_count": 13,
   "id": "91f154bf",
   "metadata": {},
   "outputs": [],
   "source": [
    "def text_to_sequence(text, maxlen):\n",
    "    result = []\n",
    "    tokens = word_tokenize(text.lower())\n",
    "    tokens_filtered = [word for word in tokens if word.isalnum()]\n",
    "    for word in tokens_filtered:\n",
    "        if word in vocabulary:\n",
    "            result.append(vocabulary[word])\n",
    "    padding = [0]*(maxlen-len(result))\n",
    "    return padding + result[-maxlen:]"
   ]
  },
  {
   "cell_type": "code",
   "execution_count": 14,
   "id": "e3eba69c",
   "metadata": {},
   "outputs": [],
   "source": [
    "max_len = 30\n",
    "x_train = np.asarray([text_to_sequence(text, max_len) for text in df_train[\"text\"]], dtype=np.int32)\n",
    "x_test = np.asarray([text_to_sequence(text, max_len) for text in df_test[\"text\"]], dtype=np.int32)"
   ]
  },
  {
   "cell_type": "markdown",
   "id": "884acfb9",
   "metadata": {},
   "source": [
    "## 3) Keras без предобучения"
   ]
  },
  {
   "cell_type": "code",
   "execution_count": 15,
   "id": "c5025359",
   "metadata": {},
   "outputs": [],
   "source": [
    "num_classes = 2\n",
    "y_train = keras.utils.to_categorical(df_train[\"class\"], num_classes)\n",
    "y_test = keras.utils.to_categorical(df_test[\"class\"], num_classes)"
   ]
  },
  {
   "cell_type": "code",
   "execution_count": 16,
   "id": "275b8d78",
   "metadata": {},
   "outputs": [],
   "source": [
    "model = Sequential()\n",
    "model.add(Embedding(input_dim=max_words, output_dim=128, input_length=max_len))\n",
    "model.add(Conv1D(128, 3))\n",
    "model.add(Activation(\"relu\"))\n",
    "model.add(GlobalMaxPool1D())\n",
    "model.add(Dense(10))\n",
    "model.add(Activation(\"relu\"))\n",
    "model.add(Dense(num_classes))\n",
    "model.add(Activation('softmax'))"
   ]
  },
  {
   "cell_type": "code",
   "execution_count": 17,
   "id": "ec68f513",
   "metadata": {},
   "outputs": [],
   "source": [
    "model.compile(loss='categorical_crossentropy',\n",
    "              optimizer='adam',\n",
    "              metrics=['accuracy'])"
   ]
  },
  {
   "cell_type": "code",
   "execution_count": 18,
   "id": "e6a2f567",
   "metadata": {},
   "outputs": [
    {
     "name": "stdout",
     "output_type": "stream",
     "text": [
      "Epoch 1/10\n",
      "62/62 [==============================] - 2s 20ms/step - loss: 0.3646 - accuracy: 0.8557 - val_loss: 0.3380 - val_accuracy: 0.8591\n",
      "Epoch 2/10\n",
      "62/62 [==============================] - 1s 18ms/step - loss: 0.2496 - accuracy: 0.8940 - val_loss: 0.3414 - val_accuracy: 0.8621\n",
      "Epoch 3/10\n",
      "62/62 [==============================] - 1s 17ms/step - loss: 0.2440 - accuracy: 0.8965 - val_loss: 0.3320 - val_accuracy: 0.8664\n",
      "Epoch 4/10\n",
      "62/62 [==============================] - 1s 18ms/step - loss: 0.2421 - accuracy: 0.8977 - val_loss: 0.3257 - val_accuracy: 0.8659\n",
      "Epoch 5/10\n",
      "62/62 [==============================] - 1s 17ms/step - loss: 0.2385 - accuracy: 0.8995 - val_loss: 0.3343 - val_accuracy: 0.8679\n",
      "Epoch 6/10\n",
      "62/62 [==============================] - 1s 17ms/step - loss: 0.2356 - accuracy: 0.9009 - val_loss: 0.3337 - val_accuracy: 0.8693\n",
      "Epoch 7/10\n",
      "62/62 [==============================] - 1s 16ms/step - loss: 0.2329 - accuracy: 0.9020 - val_loss: 0.3379 - val_accuracy: 0.8669\n",
      "Epoch 8/10\n",
      "62/62 [==============================] - 1s 16ms/step - loss: 0.2303 - accuracy: 0.9052 - val_loss: 0.3338 - val_accuracy: 0.8664\n",
      "Epoch 9/10\n",
      "62/62 [==============================] - 1s 17ms/step - loss: 0.2267 - accuracy: 0.9072 - val_loss: 0.3316 - val_accuracy: 0.8669\n",
      "Epoch 10/10\n",
      "62/62 [==============================] - 1s 16ms/step - loss: 0.2232 - accuracy: 0.9093 - val_loss: 0.3292 - val_accuracy: 0.8659\n"
     ]
    }
   ],
   "source": [
    "epochs = 10\n",
    "batch_size = 300\n",
    "\n",
    "history = model.fit(x_train, y_train,\n",
    "                    batch_size=batch_size,\n",
    "                    epochs=epochs,\n",
    "                    verbose=1,\n",
    "                    validation_split=0.1)"
   ]
  },
  {
   "cell_type": "markdown",
   "id": "b29e5f53",
   "metadata": {},
   "source": [
    "## 3) Keras с предобучением"
   ]
  },
  {
   "cell_type": "code",
   "execution_count": 19,
   "id": "631e6e54",
   "metadata": {},
   "outputs": [],
   "source": [
    "# 2Гб весов\n",
    "vectors = gensim.models.KeyedVectors.load_word2vec_format('boost.vec') .vectors"
   ]
  },
  {
   "cell_type": "code",
   "execution_count": 20,
   "id": "94d73892",
   "metadata": {},
   "outputs": [],
   "source": [
    "matrix = [vectors[i][:128] for i in range(100)]"
   ]
  },
  {
   "cell_type": "code",
   "execution_count": 21,
   "id": "9bc6b31c",
   "metadata": {},
   "outputs": [],
   "source": [
    "initial = keras.initializers.Constant(matrix)"
   ]
  },
  {
   "cell_type": "code",
   "execution_count": 22,
   "id": "72a83f11",
   "metadata": {},
   "outputs": [],
   "source": [
    "model = Sequential()\n",
    "model.add(Embedding(input_dim=max_words, output_dim=128, embeddings_initializer=initial, input_length=max_len))\n",
    "model.add(Conv1D(128, 3))\n",
    "model.add(Activation(\"relu\"))\n",
    "model.add(GlobalMaxPool1D())\n",
    "model.add(Dense(10))\n",
    "model.add(Activation(\"relu\"))\n",
    "model.add(Dense(num_classes))\n",
    "model.add(Activation('softmax'))"
   ]
  },
  {
   "cell_type": "code",
   "execution_count": 23,
   "id": "b23ec793",
   "metadata": {},
   "outputs": [],
   "source": [
    "model.compile(loss='categorical_crossentropy',\n",
    "              optimizer='adam',\n",
    "              metrics=['accuracy'])"
   ]
  },
  {
   "cell_type": "code",
   "execution_count": 24,
   "id": "faa76317",
   "metadata": {},
   "outputs": [
    {
     "name": "stdout",
     "output_type": "stream",
     "text": [
      "Epoch 1/20\n",
      "186/186 [==============================] - 2s 7ms/step - loss: 0.3068 - accuracy: 0.8732 - val_loss: 0.3574 - val_accuracy: 0.8504\n",
      "Epoch 2/20\n",
      "186/186 [==============================] - 1s 6ms/step - loss: 0.2500 - accuracy: 0.8922 - val_loss: 0.3333 - val_accuracy: 0.8630\n",
      "Epoch 3/20\n",
      "186/186 [==============================] - 1s 6ms/step - loss: 0.2420 - accuracy: 0.8967 - val_loss: 0.3394 - val_accuracy: 0.8587\n",
      "Epoch 4/20\n",
      "186/186 [==============================] - 1s 7ms/step - loss: 0.2389 - accuracy: 0.8991 - val_loss: 0.3544 - val_accuracy: 0.8577\n",
      "Epoch 5/20\n",
      "186/186 [==============================] - 1s 7ms/step - loss: 0.2328 - accuracy: 0.9013 - val_loss: 0.3344 - val_accuracy: 0.8616\n",
      "Epoch 6/20\n",
      "186/186 [==============================] - 1s 7ms/step - loss: 0.2270 - accuracy: 0.9046 - val_loss: 0.3256 - val_accuracy: 0.8664\n",
      "Epoch 7/20\n",
      "186/186 [==============================] - 1s 7ms/step - loss: 0.2211 - accuracy: 0.9105 - val_loss: 0.3345 - val_accuracy: 0.8572\n",
      "Epoch 8/20\n",
      "186/186 [==============================] - 1s 7ms/step - loss: 0.2141 - accuracy: 0.9139 - val_loss: 0.3426 - val_accuracy: 0.8572\n",
      "Epoch 9/20\n",
      "186/186 [==============================] - 1s 7ms/step - loss: 0.2071 - accuracy: 0.9186 - val_loss: 0.3530 - val_accuracy: 0.8514\n",
      "Epoch 10/20\n",
      "186/186 [==============================] - 1s 7ms/step - loss: 0.1989 - accuracy: 0.9232 - val_loss: 0.3586 - val_accuracy: 0.8553\n",
      "Epoch 11/20\n",
      "186/186 [==============================] - 1s 7ms/step - loss: 0.1905 - accuracy: 0.9259 - val_loss: 0.3903 - val_accuracy: 0.8379\n",
      "Epoch 12/20\n",
      "186/186 [==============================] - 1s 7ms/step - loss: 0.1818 - accuracy: 0.9326 - val_loss: 0.3728 - val_accuracy: 0.8432\n",
      "Epoch 13/20\n",
      "186/186 [==============================] - 1s 7ms/step - loss: 0.1735 - accuracy: 0.9351 - val_loss: 0.4337 - val_accuracy: 0.8291\n",
      "Epoch 14/20\n",
      "186/186 [==============================] - 1s 7ms/step - loss: 0.1677 - accuracy: 0.9379 - val_loss: 0.4246 - val_accuracy: 0.8461\n",
      "Epoch 15/20\n",
      "186/186 [==============================] - 1s 7ms/step - loss: 0.1628 - accuracy: 0.9387 - val_loss: 0.4728 - val_accuracy: 0.8253\n",
      "Epoch 16/20\n",
      "186/186 [==============================] - 1s 7ms/step - loss: 0.1552 - accuracy: 0.9434 - val_loss: 0.5014 - val_accuracy: 0.8296\n",
      "Epoch 17/20\n",
      "186/186 [==============================] - 1s 7ms/step - loss: 0.1520 - accuracy: 0.9445 - val_loss: 0.5050 - val_accuracy: 0.8296\n",
      "Epoch 18/20\n",
      "186/186 [==============================] - 1s 7ms/step - loss: 0.1498 - accuracy: 0.9449 - val_loss: 0.5426 - val_accuracy: 0.8311\n",
      "Epoch 19/20\n",
      "186/186 [==============================] - 1s 7ms/step - loss: 0.1463 - accuracy: 0.9471 - val_loss: 0.5154 - val_accuracy: 0.8408\n",
      "Epoch 20/20\n",
      "186/186 [==============================] - 1s 7ms/step - loss: 0.1425 - accuracy: 0.9480 - val_loss: 0.5142 - val_accuracy: 0.8403\n"
     ]
    }
   ],
   "source": [
    "epochs = 20\n",
    "batch_size = 100\n",
    "\n",
    "history = model.fit(x_train, y_train,\n",
    "                    batch_size=batch_size,\n",
    "                    epochs=epochs,\n",
    "                    verbose=1,\n",
    "                    validation_split=0.1)"
   ]
  }
 ],
 "metadata": {
  "kernelspec": {
   "display_name": "Python 3 (ipykernel)",
   "language": "python",
   "name": "python3"
  },
  "language_info": {
   "codemirror_mode": {
    "name": "ipython",
    "version": 3
   },
   "file_extension": ".py",
   "mimetype": "text/x-python",
   "name": "python",
   "nbconvert_exporter": "python",
   "pygments_lexer": "ipython3",
   "version": "3.9.12"
  }
 },
 "nbformat": 4,
 "nbformat_minor": 5
}
