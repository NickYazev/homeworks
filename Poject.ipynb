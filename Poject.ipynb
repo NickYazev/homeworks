{
 "cells": [
  {
   "cell_type": "markdown",
   "id": "44527eb5",
   "metadata": {},
   "source": [
    "# Part I"
   ]
  },
  {
   "cell_type": "markdown",
   "id": "6862391a",
   "metadata": {},
   "source": [
    "## Описание"
   ]
  },
  {
   "cell_type": "markdown",
   "id": "480fc419",
   "metadata": {},
   "source": [
    "В проекте будет использоваться простая архитектура нейронной сети с\n",
    "использованием библиотеки KERAS. Датасет представлен REUTERS, который ранее\n",
    "не использовался в программе обучения. Решается задача классификации с количеством классов равным 46, т.е. имеется столько же тем (топиков) и как минимум 10 примеров по каждой теме представлены в обучающей выборке."
   ]
  },
  {
   "cell_type": "markdown",
   "id": "cdb1d439",
   "metadata": {},
   "source": [
    "## Основная часть"
   ]
  },
  {
   "cell_type": "code",
   "execution_count": 1,
   "id": "84d203d1",
   "metadata": {},
   "outputs": [],
   "source": [
    "from keras.datasets import reuters"
   ]
  },
  {
   "cell_type": "code",
   "execution_count": 2,
   "id": "fe3e3b5b",
   "metadata": {},
   "outputs": [],
   "source": [
    "# импортируем основные библиотеки\n",
    "import numpy as np\n",
    "import matplotlib.pyplot as plt\n",
    "from keras import models\n",
    "from keras import layers\n",
    "from keras.utils import to_categorical"
   ]
  },
  {
   "cell_type": "code",
   "execution_count": 3,
   "id": "e1e2d141",
   "metadata": {},
   "outputs": [],
   "source": [
    "# ограничимся 10.000 самыми частотными словами\n",
    "(x_train, y_train), (x_test, y_test) = reuters.load_data(num_words=10000)"
   ]
  },
  {
   "cell_type": "code",
   "execution_count": 4,
   "id": "13a68550",
   "metadata": {},
   "outputs": [],
   "source": [
    "word_index = reuters.get_word_index()"
   ]
  },
  {
   "cell_type": "code",
   "execution_count": 5,
   "id": "d8b4f307",
   "metadata": {},
   "outputs": [
    {
     "data": {
      "text/plain": [
       "['mdbl',\n",
       " 'fawc',\n",
       " 'degussa',\n",
       " 'woods',\n",
       " 'hanging',\n",
       " 'localized',\n",
       " 'sation',\n",
       " 'chanthaburi',\n",
       " 'refunding',\n",
       " 'hermann']"
      ]
     },
     "execution_count": 5,
     "metadata": {},
     "output_type": "execute_result"
    }
   ],
   "source": [
    "# посмотрим на содержание\n",
    "l = []\n",
    "for i in word_index:\n",
    "    l.append(i)\n",
    "l[:10]"
   ]
  },
  {
   "cell_type": "code",
   "execution_count": 6,
   "id": "258e77ca",
   "metadata": {},
   "outputs": [
    {
     "data": {
      "text/plain": [
       "(8982,)"
      ]
     },
     "execution_count": 6,
     "metadata": {},
     "output_type": "execute_result"
    }
   ],
   "source": [
    "x_train.shape"
   ]
  },
  {
   "cell_type": "code",
   "execution_count": 7,
   "id": "4124cf94",
   "metadata": {},
   "outputs": [
    {
     "data": {
      "text/plain": [
       "(2246,)"
      ]
     },
     "execution_count": 7,
     "metadata": {},
     "output_type": "execute_result"
    }
   ],
   "source": [
    "x_test.shape"
   ]
  },
  {
   "cell_type": "code",
   "execution_count": 8,
   "id": "aad8dde9",
   "metadata": {},
   "outputs": [],
   "source": [
    "# представим слова в виде векторов\n",
    "def vectorize(sequences, dimension=10000):\n",
    " results = np.zeros((len(sequences), dimension))\n",
    " for i, sequence in enumerate(sequences):\n",
    "  results[i, sequence] = 1.\n",
    " return results\n",
    "x_train = vectorize(x_train) \n",
    "x_test = vectorize(x_test)"
   ]
  },
  {
   "cell_type": "code",
   "execution_count": 9,
   "id": "f71ca3aa",
   "metadata": {},
   "outputs": [],
   "source": [
    "# представим также лейблы в векторном виде\n",
    "def to_one_hot(labels, dimension=46):\n",
    " results = np.zeros((len(labels), dimension))\n",
    " for i, label in enumerate(labels):\n",
    "  results[i, label] = 1.\n",
    " return results\n",
    "y_train = to_one_hot(y_train) \n",
    "y_test = to_one_hot(y_test)"
   ]
  },
  {
   "cell_type": "code",
   "execution_count": 10,
   "id": "e20a833a",
   "metadata": {},
   "outputs": [],
   "source": [
    "# выделим проверочный набор\n",
    "x_val = x_train[:1000]\n",
    "partial_x_train = x_train[1000:]\n",
    "y_val = y_train[:1000]\n",
    "partial_y_train = y_train[1000:]"
   ]
  },
  {
   "cell_type": "code",
   "execution_count": 11,
   "id": "1c614a43",
   "metadata": {},
   "outputs": [],
   "source": [
    "# создадим конфигурацию сети\n",
    "model = models.Sequential()\n",
    "model.add(layers.Dense(128, activation='relu', input_shape=(10000,)))\n",
    "model.add(layers.Dense(64, activation='relu'))\n",
    "model.add(layers.Dense(64, activation='tanh'))\n",
    "model.add(layers.Dense(46, activation='softmax'))"
   ]
  },
  {
   "cell_type": "code",
   "execution_count": 12,
   "id": "4cafa04f",
   "metadata": {},
   "outputs": [],
   "source": [
    "# компиляция с выбранными optimizer, функцией потерь и метрикой качества\n",
    "model.compile(optimizer='rmsprop',\n",
    " loss='categorical_crossentropy',\n",
    " metrics=['accuracy'])"
   ]
  },
  {
   "cell_type": "code",
   "execution_count": 13,
   "id": "27a6d538",
   "metadata": {},
   "outputs": [
    {
     "name": "stdout",
     "output_type": "stream",
     "text": [
      "Epoch 1/100\n",
      "32/32 [==============================] - 2s 37ms/step - loss: 1.9078 - accuracy: 0.6027 - val_loss: 1.2845 - val_accuracy: 0.7040\n",
      "Epoch 2/100\n",
      "32/32 [==============================] - 1s 21ms/step - loss: 1.0112 - accuracy: 0.7794 - val_loss: 1.0328 - val_accuracy: 0.7750\n",
      "Epoch 3/100\n",
      "32/32 [==============================] - 1s 20ms/step - loss: 0.6903 - accuracy: 0.8569 - val_loss: 0.9058 - val_accuracy: 0.8090\n",
      "Epoch 4/100\n",
      "32/32 [==============================] - 1s 20ms/step - loss: 0.4813 - accuracy: 0.9054 - val_loss: 0.8904 - val_accuracy: 0.8020\n",
      "Epoch 5/100\n",
      "32/32 [==============================] - 1s 21ms/step - loss: 0.3515 - accuracy: 0.9318 - val_loss: 0.8529 - val_accuracy: 0.8210\n",
      "Epoch 6/100\n",
      "32/32 [==============================] - 1s 22ms/step - loss: 0.2656 - accuracy: 0.9442 - val_loss: 0.8504 - val_accuracy: 0.8180\n",
      "Epoch 7/100\n",
      "32/32 [==============================] - 1s 22ms/step - loss: 0.2101 - accuracy: 0.9508 - val_loss: 0.8947 - val_accuracy: 0.8210\n",
      "Epoch 8/100\n",
      "32/32 [==============================] - 1s 22ms/step - loss: 0.1735 - accuracy: 0.9520 - val_loss: 0.8935 - val_accuracy: 0.8010\n",
      "Epoch 9/100\n",
      "32/32 [==============================] - 1s 23ms/step - loss: 0.1490 - accuracy: 0.9535 - val_loss: 0.9116 - val_accuracy: 0.8140\n",
      "Epoch 10/100\n",
      "32/32 [==============================] - 1s 23ms/step - loss: 0.1353 - accuracy: 0.9553 - val_loss: 0.9147 - val_accuracy: 0.8000\n",
      "Epoch 11/100\n",
      "32/32 [==============================] - 1s 21ms/step - loss: 0.1198 - accuracy: 0.9568 - val_loss: 0.9844 - val_accuracy: 0.8000\n",
      "Epoch 12/100\n",
      "32/32 [==============================] - 1s 21ms/step - loss: 0.1109 - accuracy: 0.9575 - val_loss: 0.9476 - val_accuracy: 0.8130\n",
      "Epoch 13/100\n",
      "32/32 [==============================] - 1s 23ms/step - loss: 0.1029 - accuracy: 0.9577 - val_loss: 0.9595 - val_accuracy: 0.8120\n",
      "Epoch 14/100\n",
      "32/32 [==============================] - 1s 20ms/step - loss: 0.0984 - accuracy: 0.9579 - val_loss: 0.9873 - val_accuracy: 0.7990\n",
      "Epoch 15/100\n",
      "32/32 [==============================] - 1s 21ms/step - loss: 0.0917 - accuracy: 0.9588 - val_loss: 0.9795 - val_accuracy: 0.8100\n",
      "Epoch 16/100\n",
      "32/32 [==============================] - 1s 23ms/step - loss: 0.0895 - accuracy: 0.9567 - val_loss: 1.0483 - val_accuracy: 0.7890\n",
      "Epoch 17/100\n",
      "32/32 [==============================] - 1s 21ms/step - loss: 0.0853 - accuracy: 0.9572 - val_loss: 1.0013 - val_accuracy: 0.8010\n",
      "Epoch 18/100\n",
      "32/32 [==============================] - 1s 20ms/step - loss: 0.0815 - accuracy: 0.9592 - val_loss: 1.0755 - val_accuracy: 0.7970\n",
      "Epoch 19/100\n",
      "32/32 [==============================] - 1s 20ms/step - loss: 0.0809 - accuracy: 0.9579 - val_loss: 1.0787 - val_accuracy: 0.7940\n",
      "Epoch 20/100\n",
      "32/32 [==============================] - 1s 20ms/step - loss: 0.0778 - accuracy: 0.9567 - val_loss: 1.0571 - val_accuracy: 0.8040\n",
      "Epoch 21/100\n",
      "32/32 [==============================] - 1s 22ms/step - loss: 0.0740 - accuracy: 0.9583 - val_loss: 1.0969 - val_accuracy: 0.7970\n",
      "Epoch 22/100\n",
      "32/32 [==============================] - 1s 20ms/step - loss: 0.0749 - accuracy: 0.9598 - val_loss: 1.0840 - val_accuracy: 0.8030\n",
      "Epoch 23/100\n",
      "32/32 [==============================] - 1s 21ms/step - loss: 0.0720 - accuracy: 0.9597 - val_loss: 1.0860 - val_accuracy: 0.7980\n",
      "Epoch 24/100\n",
      "32/32 [==============================] - 1s 22ms/step - loss: 0.0711 - accuracy: 0.9574 - val_loss: 1.1433 - val_accuracy: 0.7890\n",
      "Epoch 25/100\n",
      "32/32 [==============================] - 1s 21ms/step - loss: 0.0699 - accuracy: 0.9590 - val_loss: 1.0899 - val_accuracy: 0.8020\n",
      "Epoch 26/100\n",
      "32/32 [==============================] - 1s 20ms/step - loss: 0.0680 - accuracy: 0.9594 - val_loss: 1.1021 - val_accuracy: 0.7960\n",
      "Epoch 27/100\n",
      "32/32 [==============================] - 1s 23ms/step - loss: 0.0670 - accuracy: 0.9589 - val_loss: 1.1510 - val_accuracy: 0.7850\n",
      "Epoch 28/100\n",
      "32/32 [==============================] - 1s 21ms/step - loss: 0.0666 - accuracy: 0.9579 - val_loss: 1.1368 - val_accuracy: 0.7880\n",
      "Epoch 29/100\n",
      "32/32 [==============================] - 1s 23ms/step - loss: 0.0649 - accuracy: 0.9605 - val_loss: 1.1977 - val_accuracy: 0.7820\n",
      "Epoch 30/100\n",
      "32/32 [==============================] - 1s 22ms/step - loss: 0.0646 - accuracy: 0.9612 - val_loss: 1.1831 - val_accuracy: 0.7820\n",
      "Epoch 31/100\n",
      "32/32 [==============================] - 1s 21ms/step - loss: 0.0641 - accuracy: 0.9598 - val_loss: 1.1873 - val_accuracy: 0.7900\n",
      "Epoch 32/100\n",
      "32/32 [==============================] - 1s 20ms/step - loss: 0.0633 - accuracy: 0.9610 - val_loss: 1.1576 - val_accuracy: 0.7920\n",
      "Epoch 33/100\n",
      "32/32 [==============================] - 1s 22ms/step - loss: 0.0626 - accuracy: 0.9585 - val_loss: 1.1771 - val_accuracy: 0.7930\n",
      "Epoch 34/100\n",
      "32/32 [==============================] - 1s 21ms/step - loss: 0.0621 - accuracy: 0.9623 - val_loss: 1.2291 - val_accuracy: 0.7840\n",
      "Epoch 35/100\n",
      "32/32 [==============================] - 1s 22ms/step - loss: 0.0612 - accuracy: 0.9613 - val_loss: 1.1786 - val_accuracy: 0.7910\n",
      "Epoch 36/100\n",
      "32/32 [==============================] - 1s 22ms/step - loss: 0.0606 - accuracy: 0.9610 - val_loss: 1.2068 - val_accuracy: 0.7890\n",
      "Epoch 37/100\n",
      "32/32 [==============================] - 1s 22ms/step - loss: 0.0605 - accuracy: 0.9614 - val_loss: 1.1957 - val_accuracy: 0.7930\n",
      "Epoch 38/100\n",
      "32/32 [==============================] - 1s 23ms/step - loss: 0.0595 - accuracy: 0.9597 - val_loss: 1.2470 - val_accuracy: 0.7890\n",
      "Epoch 39/100\n",
      "32/32 [==============================] - 1s 22ms/step - loss: 0.0593 - accuracy: 0.9613 - val_loss: 1.2230 - val_accuracy: 0.7830\n",
      "Epoch 40/100\n",
      "32/32 [==============================] - 1s 22ms/step - loss: 0.0582 - accuracy: 0.9615 - val_loss: 1.2368 - val_accuracy: 0.7880\n",
      "Epoch 41/100\n",
      "32/32 [==============================] - 1s 21ms/step - loss: 0.0583 - accuracy: 0.9610 - val_loss: 1.2460 - val_accuracy: 0.7870\n",
      "Epoch 42/100\n",
      "32/32 [==============================] - 1s 22ms/step - loss: 0.0581 - accuracy: 0.9609 - val_loss: 1.2797 - val_accuracy: 0.7820\n",
      "Epoch 43/100\n",
      "32/32 [==============================] - 1s 22ms/step - loss: 0.0575 - accuracy: 0.9633 - val_loss: 1.2711 - val_accuracy: 0.7790\n",
      "Epoch 44/100\n",
      "32/32 [==============================] - 1s 22ms/step - loss: 0.0579 - accuracy: 0.9612 - val_loss: 1.2790 - val_accuracy: 0.7810\n",
      "Epoch 45/100\n",
      "32/32 [==============================] - 1s 20ms/step - loss: 0.0576 - accuracy: 0.9623 - val_loss: 1.2377 - val_accuracy: 0.7840\n",
      "Epoch 46/100\n",
      "32/32 [==============================] - 1s 21ms/step - loss: 0.0568 - accuracy: 0.9598 - val_loss: 1.2672 - val_accuracy: 0.7850\n",
      "Epoch 47/100\n",
      "32/32 [==============================] - 1s 22ms/step - loss: 0.0568 - accuracy: 0.9630 - val_loss: 1.2685 - val_accuracy: 0.7770\n",
      "Epoch 48/100\n",
      "32/32 [==============================] - 1s 21ms/step - loss: 0.0568 - accuracy: 0.9622 - val_loss: 1.2668 - val_accuracy: 0.7720\n",
      "Epoch 49/100\n",
      "32/32 [==============================] - 1s 20ms/step - loss: 0.0562 - accuracy: 0.9627 - val_loss: 1.2763 - val_accuracy: 0.7810\n",
      "Epoch 50/100\n",
      "32/32 [==============================] - 1s 20ms/step - loss: 0.0559 - accuracy: 0.9630 - val_loss: 1.2928 - val_accuracy: 0.7830\n",
      "Epoch 51/100\n",
      "32/32 [==============================] - 1s 20ms/step - loss: 0.0551 - accuracy: 0.9620 - val_loss: 1.2846 - val_accuracy: 0.7810\n",
      "Epoch 52/100\n",
      "32/32 [==============================] - 1s 20ms/step - loss: 0.0546 - accuracy: 0.9625 - val_loss: 1.2958 - val_accuracy: 0.7720\n",
      "Epoch 53/100\n",
      "32/32 [==============================] - 1s 21ms/step - loss: 0.0560 - accuracy: 0.9615 - val_loss: 1.2791 - val_accuracy: 0.7820\n",
      "Epoch 54/100\n",
      "32/32 [==============================] - 1s 21ms/step - loss: 0.0552 - accuracy: 0.9613 - val_loss: 1.3156 - val_accuracy: 0.7730\n",
      "Epoch 55/100\n",
      "32/32 [==============================] - 1s 21ms/step - loss: 0.0546 - accuracy: 0.9635 - val_loss: 1.2916 - val_accuracy: 0.7720\n",
      "Epoch 56/100\n",
      "32/32 [==============================] - 1s 22ms/step - loss: 0.0543 - accuracy: 0.9628 - val_loss: 1.3181 - val_accuracy: 0.7810\n",
      "Epoch 57/100\n",
      "32/32 [==============================] - 1s 21ms/step - loss: 0.0550 - accuracy: 0.9635 - val_loss: 1.2833 - val_accuracy: 0.7830\n",
      "Epoch 58/100\n"
     ]
    },
    {
     "name": "stdout",
     "output_type": "stream",
     "text": [
      "32/32 [==============================] - 1s 20ms/step - loss: 0.0536 - accuracy: 0.9619 - val_loss: 1.3281 - val_accuracy: 0.7750\n",
      "Epoch 59/100\n",
      "32/32 [==============================] - 1s 20ms/step - loss: 0.0552 - accuracy: 0.9620 - val_loss: 1.3097 - val_accuracy: 0.7860\n",
      "Epoch 60/100\n",
      "32/32 [==============================] - 1s 20ms/step - loss: 0.0538 - accuracy: 0.9622 - val_loss: 1.3533 - val_accuracy: 0.7730\n",
      "Epoch 61/100\n",
      "32/32 [==============================] - 1s 20ms/step - loss: 0.0542 - accuracy: 0.9619 - val_loss: 1.2936 - val_accuracy: 0.7840\n",
      "Epoch 62/100\n",
      "32/32 [==============================] - 1s 20ms/step - loss: 0.0537 - accuracy: 0.9605 - val_loss: 1.3433 - val_accuracy: 0.7710\n",
      "Epoch 63/100\n",
      "32/32 [==============================] - 1s 20ms/step - loss: 0.0536 - accuracy: 0.9628 - val_loss: 1.3379 - val_accuracy: 0.7800\n",
      "Epoch 64/100\n",
      "32/32 [==============================] - 1s 20ms/step - loss: 0.0531 - accuracy: 0.9635 - val_loss: 1.3488 - val_accuracy: 0.7790\n",
      "Epoch 65/100\n",
      "32/32 [==============================] - 1s 21ms/step - loss: 0.0531 - accuracy: 0.9629 - val_loss: 1.3376 - val_accuracy: 0.7770\n",
      "Epoch 66/100\n",
      "32/32 [==============================] - 1s 20ms/step - loss: 0.0531 - accuracy: 0.9643 - val_loss: 1.3519 - val_accuracy: 0.7860\n",
      "Epoch 67/100\n",
      "32/32 [==============================] - 1s 20ms/step - loss: 0.0535 - accuracy: 0.9623 - val_loss: 1.3878 - val_accuracy: 0.7770\n",
      "Epoch 68/100\n",
      "32/32 [==============================] - 1s 20ms/step - loss: 0.0540 - accuracy: 0.9620 - val_loss: 1.3541 - val_accuracy: 0.7720\n",
      "Epoch 69/100\n",
      "32/32 [==============================] - 1s 20ms/step - loss: 0.0536 - accuracy: 0.9625 - val_loss: 1.3982 - val_accuracy: 0.7750\n",
      "Epoch 70/100\n",
      "32/32 [==============================] - 1s 20ms/step - loss: 0.0541 - accuracy: 0.9628 - val_loss: 1.3885 - val_accuracy: 0.7730\n",
      "Epoch 71/100\n",
      "32/32 [==============================] - 1s 20ms/step - loss: 0.0527 - accuracy: 0.9627 - val_loss: 1.3674 - val_accuracy: 0.7710\n",
      "Epoch 72/100\n",
      "32/32 [==============================] - 1s 20ms/step - loss: 0.0523 - accuracy: 0.9635 - val_loss: 1.3972 - val_accuracy: 0.7720\n",
      "Epoch 73/100\n",
      "32/32 [==============================] - 1s 20ms/step - loss: 0.0521 - accuracy: 0.9640 - val_loss: 1.3638 - val_accuracy: 0.7810\n",
      "Epoch 74/100\n",
      "32/32 [==============================] - 1s 20ms/step - loss: 0.0529 - accuracy: 0.9650 - val_loss: 1.4055 - val_accuracy: 0.7740\n",
      "Epoch 75/100\n",
      "32/32 [==============================] - 1s 20ms/step - loss: 0.0529 - accuracy: 0.9633 - val_loss: 1.4120 - val_accuracy: 0.7670\n",
      "Epoch 76/100\n",
      "32/32 [==============================] - 1s 20ms/step - loss: 0.0527 - accuracy: 0.9627 - val_loss: 1.4190 - val_accuracy: 0.7710\n",
      "Epoch 77/100\n",
      "32/32 [==============================] - 1s 20ms/step - loss: 0.0527 - accuracy: 0.9624 - val_loss: 1.3813 - val_accuracy: 0.7810\n",
      "Epoch 78/100\n",
      "32/32 [==============================] - 1s 20ms/step - loss: 0.0517 - accuracy: 0.9640 - val_loss: 1.3828 - val_accuracy: 0.7780\n",
      "Epoch 79/100\n",
      "32/32 [==============================] - 1s 20ms/step - loss: 0.0530 - accuracy: 0.9632 - val_loss: 1.3761 - val_accuracy: 0.7780\n",
      "Epoch 80/100\n",
      "32/32 [==============================] - 1s 20ms/step - loss: 0.0523 - accuracy: 0.9645 - val_loss: 1.4164 - val_accuracy: 0.7650\n",
      "Epoch 81/100\n",
      "32/32 [==============================] - 1s 21ms/step - loss: 0.0526 - accuracy: 0.9647 - val_loss: 1.3828 - val_accuracy: 0.7830\n",
      "Epoch 82/100\n",
      "32/32 [==============================] - 1s 21ms/step - loss: 0.0518 - accuracy: 0.9643 - val_loss: 1.4086 - val_accuracy: 0.7770\n",
      "Epoch 83/100\n",
      "32/32 [==============================] - 1s 21ms/step - loss: 0.0522 - accuracy: 0.9628 - val_loss: 1.3820 - val_accuracy: 0.7800\n",
      "Epoch 84/100\n",
      "32/32 [==============================] - 1s 21ms/step - loss: 0.0514 - accuracy: 0.9637 - val_loss: 1.4347 - val_accuracy: 0.7750\n",
      "Epoch 85/100\n",
      "32/32 [==============================] - 1s 20ms/step - loss: 0.0522 - accuracy: 0.9647 - val_loss: 1.4199 - val_accuracy: 0.7720\n",
      "Epoch 86/100\n",
      "32/32 [==============================] - 1s 20ms/step - loss: 0.0523 - accuracy: 0.9653 - val_loss: 1.4253 - val_accuracy: 0.7790\n",
      "Epoch 87/100\n",
      "32/32 [==============================] - 1s 20ms/step - loss: 0.0529 - accuracy: 0.9624 - val_loss: 1.4525 - val_accuracy: 0.7690\n",
      "Epoch 88/100\n",
      "32/32 [==============================] - 1s 21ms/step - loss: 0.0520 - accuracy: 0.9630 - val_loss: 1.4004 - val_accuracy: 0.7790\n",
      "Epoch 89/100\n",
      "32/32 [==============================] - 1s 20ms/step - loss: 0.0518 - accuracy: 0.9634 - val_loss: 1.4146 - val_accuracy: 0.7790\n",
      "Epoch 90/100\n",
      "32/32 [==============================] - 1s 20ms/step - loss: 0.0527 - accuracy: 0.9639 - val_loss: 1.3958 - val_accuracy: 0.7730\n",
      "Epoch 91/100\n",
      "32/32 [==============================] - 1s 20ms/step - loss: 0.0517 - accuracy: 0.9624 - val_loss: 1.4142 - val_accuracy: 0.7790\n",
      "Epoch 92/100\n",
      "32/32 [==============================] - 1s 20ms/step - loss: 0.0517 - accuracy: 0.9639 - val_loss: 1.3751 - val_accuracy: 0.7810\n",
      "Epoch 93/100\n",
      "32/32 [==============================] - 1s 20ms/step - loss: 0.0520 - accuracy: 0.9630 - val_loss: 1.4151 - val_accuracy: 0.7720\n",
      "Epoch 94/100\n",
      "32/32 [==============================] - 1s 20ms/step - loss: 0.0520 - accuracy: 0.9622 - val_loss: 1.4196 - val_accuracy: 0.7810\n",
      "Epoch 95/100\n",
      "32/32 [==============================] - 1s 20ms/step - loss: 0.0516 - accuracy: 0.9647 - val_loss: 1.3826 - val_accuracy: 0.7810\n",
      "Epoch 96/100\n",
      "32/32 [==============================] - 1s 20ms/step - loss: 0.0510 - accuracy: 0.9640 - val_loss: 1.4125 - val_accuracy: 0.7720\n",
      "Epoch 97/100\n",
      "32/32 [==============================] - 1s 20ms/step - loss: 0.0517 - accuracy: 0.9637 - val_loss: 1.3939 - val_accuracy: 0.7850\n",
      "Epoch 98/100\n",
      "32/32 [==============================] - 1s 20ms/step - loss: 0.0512 - accuracy: 0.9662 - val_loss: 1.4647 - val_accuracy: 0.7780\n",
      "Epoch 99/100\n",
      "32/32 [==============================] - 1s 20ms/step - loss: 0.0510 - accuracy: 0.9648 - val_loss: 1.4457 - val_accuracy: 0.7690\n",
      "Epoch 100/100\n",
      "32/32 [==============================] - 1s 20ms/step - loss: 0.0518 - accuracy: 0.9625 - val_loss: 1.4429 - val_accuracy: 0.7730\n"
     ]
    }
   ],
   "source": [
    "# собственно само обучение\n",
    "history = model.fit(partial_x_train,\n",
    " partial_y_train,\n",
    " epochs=100,\n",
    " batch_size=250,\n",
    " validation_data=(x_val, y_val))"
   ]
  },
  {
   "cell_type": "code",
   "execution_count": 14,
   "id": "07db4d23",
   "metadata": {},
   "outputs": [
    {
     "data": {
      "image/png": "[encoded data removed]",
      "text/plain": [
       "<Figure size 432x288 with 1 Axes>"
      ]
     },
     "metadata": {
      "needs_background": "light"
     },
     "output_type": "display_data"
    }
   ],
   "source": [
    "# визуализация потерь \n",
    "import matplotlib.pyplot as plt\n",
    "loss = history.history['loss']\n",
    "val_loss = history.history['val_loss']\n",
    "epochs = range(1, len(loss) + 1)\n",
    "plt.plot(epochs, loss, 'go--', label='Training loss')\n",
    "plt.plot(epochs, val_loss, 'r+', label='Validation loss')\n",
    "plt.title('Training and validation loss')\n",
    "plt.xlabel('Epochs')\n",
    "plt.ylabel('Loss')\n",
    "plt.legend()\n",
    "plt.show()"
   ]
  },
  {
   "cell_type": "code",
   "execution_count": 15,
   "id": "f6dd3c84",
   "metadata": {},
   "outputs": [
    {
     "name": "stdout",
     "output_type": "stream",
     "text": [
      "71/71 [==============================] - 0s 3ms/step - loss: 1.7389 - accuracy: 0.7551\n",
      "[1.7388598918914795, 0.7551202178001404]\n"
     ]
    }
   ],
   "source": [
    "# оцениваем\n",
    "results = model.evaluate(x_test, y_test)\n",
    "print(results)"
   ]
  },
  {
   "cell_type": "code",
   "execution_count": 16,
   "id": "ff5dbf91",
   "metadata": {},
   "outputs": [
    {
     "name": "stdout",
     "output_type": "stream",
     "text": [
      "71/71 [==============================] - 0s 3ms/step\n",
      "[[8.0265809e-06 1.9504567e-05 5.0529152e-06 ... 1.5937543e-05\n",
      "  7.2798340e-10 5.3233522e-05]\n",
      " [1.0162386e-02 4.6578074e-01 1.2953255e-03 ... 8.0759355e-06\n",
      "  4.4971384e-06 1.7989268e-04]\n",
      " [4.6315561e-03 7.8786105e-01 4.8434988e-04 ... 3.9598686e-07\n",
      "  1.1024639e-08 1.0857726e-04]\n",
      " ...\n",
      " [5.3217974e-07 2.3803888e-05 2.5964509e-05 ... 1.6735426e-06\n",
      "  2.2188347e-10 1.3698218e-06]\n",
      " [4.2977526e-06 3.9291091e-04 1.0259359e-05 ... 2.0544317e-07\n",
      "  3.5318866e-09 2.4108485e-06]\n",
      " [5.2017938e-05 6.8945050e-01 4.5988355e-03 ... 1.0738537e-04\n",
      "  3.0120026e-07 1.1546534e-05]]\n"
     ]
    }
   ],
   "source": [
    "# предсказываем\n",
    "predictions = model.predict(x_test)\n",
    "print(predictions)"
   ]
  },
  {
   "cell_type": "markdown",
   "id": "9538a469",
   "metadata": {},
   "source": [
    "## Замечания"
   ]
  },
  {
   "cell_type": "markdown",
   "id": "cf5adfd7",
   "metadata": {},
   "source": [
    "Эксперементально были подобраны гиперпараметры, которые увеличивали предска\n",
    "зательную силу нейросети: в частности углубили сеть, увеличили количество \n",
    "эпох обучения, остановились на выбранном оптимайзере. Чтобы сберечь ресурсы \n",
    "машины также увеличили batch_size."
   ]
  },
  {
   "cell_type": "markdown",
   "id": "d7c760ec",
   "metadata": {},
   "source": [
    "# Part II"
   ]
  },
  {
   "cell_type": "markdown",
   "id": "91c62724",
   "metadata": {},
   "source": [
    "Нейро́нная сеть Хо́пфилда — полносвязная нейронная сеть с симметричной матрицей\n",
    "связей. Некоторые авторы относят сеть Хопфилда к обучению без учителя. В процессе работы динамика таких сетей сходится к одному из положений\n",
    "равновесия. Такая сеть может быть использована как автоассоциативная память,\n",
    "как фильтр, а также для решения некоторых задач оптимизации."
   ]
  },
  {
   "cell_type": "markdown",
   "id": "04313ec3",
   "metadata": {},
   "source": [
    "Сеть Хопфилда однослойная и состоит из\n",
    "N искусственных нейронов. Каждый нейрон системы может принимать на входе\n",
    "и на выходе одно из двух состояний (что аналогично выходу нейрона с пороговой\n",
    "функцией активации):"
   ]
  },
  {
   "attachments": {
    "Hopfield's_net.png": {
     "image/png": "[encoded data removed]"
    }
   },
   "cell_type": "markdown",
   "id": "8b3e1eed",
   "metadata": {},
   "source": [
    "![Hopfield's_net.png](attachment:Hopfield's_net.png)"
   ]
  },
  {
   "attachments": {
    "1.svg": {
     "image/svg+xml": [
      "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"
     ]
    }
   },
   "cell_type": "markdown",
   "id": "4be30f9f",
   "metadata": {},
   "source": [
    "![1.svg](attachment:1.svg)"
   ]
  },
  {
   "attachments": {
    "2.svg": {
     "image/svg+xml": [
      "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"
     ]
    }
   },
   "cell_type": "markdown",
   "id": "dd59a536",
   "metadata": {},
   "source": [
    "Каждый нейрон связан со всеми остальными нейронами. Взаимодействие нейронов\n",
    "сети описывается выражением:\n",
    "![2.svg](attachment:2.svg)"
   ]
  },
  {
   "attachments": {
    "3.svg": {
     "image/svg+xml": [
      "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"
     ]
    }
   },
   "cell_type": "markdown",
   "id": "553fa9d7",
   "metadata": {},
   "source": [
    "Обучение сети заключается в том, что находятся веса матрицы взаимодействий так,\n",
    "чтобы запомнить несколько векторов (эталонных образов, составляющих \"память\"\n",
    "системы). Запоминаемые векторы должны иметь бинарный вид. Расчёт весовых коэффициентов проводится по следующей формуле:\n",
    "![3.svg](attachment:3.svg)\n",
    "где N — размерность векторов, m — число запоминаемых выходных векторов, \n",
    "d — номер запоминаемого выходного вектора, \n",
    "Xij — i-я компонента запоминаемого выходного j-го вектора."
   ]
  },
  {
   "cell_type": "markdown",
   "id": "34a2fc64",
   "metadata": {},
   "source": [
    "Алгоритм обучения сети Хопфилда существенно отличается от таких классических\n",
    "алгоритмов обучения перцептронов, как метод коррекции ошибки или метод\n",
    "обратного распространения ошибки. Отличие заключается в том, что вместо\n",
    "последовательного приближения к нужному состоянию с вычислением ошибок,\n",
    "все коэффициенты матрицы рассчитываются по одной формуле, за один цикл,\n",
    "после чего сеть сразу готова к работе."
   ]
  },
  {
   "cell_type": "markdown",
   "id": "aa0fc112",
   "metadata": {},
   "source": [
    "Как только веса заданы, обученная сеть становится способной \"распознавать\" \n",
    "входные сигналы - то есть, определять, к какому из запомненных образцов\n",
    "они относятся. Входной вектор проходит некоторое количество итераций до\n",
    "достижения сходимости. При этом должны распознаваться частично\n",
    "искажённые или неполные образцы. На вход сети сначала придают значения\n",
    "исходного вектора (поэтому обозначение на схеме сети входных синапсов в явном\n",
    "виде носит чисто условный характер)."
   ]
  },
  {
   "cell_type": "markdown",
   "id": "372e7948",
   "metadata": {},
   "source": [
    "Для сети Хопфилда могут существовать две модификации, отличающиеся по времени\n",
    "передачи сигнала: асинхронный и синхронный режимы. Практически используется\n",
    "только асинхронный режим."
   ]
  },
  {
   "attachments": {
    "HopfieldDogNoised.jpg": {
     "image/jpeg": "[encoded data removed]"
    }
   },
   "cell_type": "markdown",
   "id": "d3f7e550",
   "metadata": {},
   "source": [
    "Пример восстановления повреждённого изображения:\n",
    "![HopfieldDogNoised.jpg](attachment:HopfieldDogNoised.jpg)\n"
   ]
  },
  {
   "attachments": {
    "5.jpg": {
     "image/jpeg": "[encoded data removed]"
    }
   },
   "cell_type": "markdown",
   "id": "aa16c404",
   "metadata": {},
   "source": [
    "![5.jpg](attachment:5.jpg)"
   ]
  },
  {
   "attachments": {},
   "cell_type": "markdown",
   "id": "b3d2d39d",
   "metadata": {},
   "source": [
    "Задачу коммивояжера с помощью нейронной сети Хопфилда решить в общем виде нельзя. Сеть Хопфилда может использоваться для решения подзадачи коммивояжера (нужно обойти все n городов и вернуться в исходный так, чтобы длина пройденного маршрута была минимальной). "
   ]
  },
  {
   "attachments": {
    "6.svg": {
     "image/svg+xml": [
      "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"
     ]
    }
   },
   "cell_type": "markdown",
   "id": "c41b00c8",
   "metadata": {},
   "source": [
    "К сожалению, у нейронной сети Хопфилда есть ряд недостатков.\n",
    "1. Относительно небольшой объём памяти, величину которого можно оценить\n",
    "выражением:\n",
    "![6.svg](attachment:6.svg)"
   ]
  },
  {
   "cell_type": "markdown",
   "id": "383e38c4",
   "metadata": {},
   "source": [
    "2. Достижение устойчивого состояния не гарантирует правильный ответ сети.\n",
    "Это происходит из-за того, что сеть может сойтись к так называемым ложным\n",
    "аттракторам, иногда называемым «химерами» (как правило, химеры склеены из\n",
    "фрагментов различных образов)."
   ]
  }
 ],
 "metadata": {
  "kernelspec": {
   "display_name": "Python 3 (ipykernel)",
   "language": "python",
   "name": "python3"
  },
  "language_info": {
   "codemirror_mode": {
    "name": "ipython",
    "version": 3
   },
   "file_extension": ".py",
   "mimetype": "text/x-python",
   "name": "python",
   "nbconvert_exporter": "python",
   "pygments_lexer": "ipython3",
   "version": "3.9.12"
  }
 },
 "nbformat": 4,
 "nbformat_minor": 5
}
