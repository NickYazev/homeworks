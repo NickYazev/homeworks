{
 "cells": [
  {
   "cell_type": "code",
   "execution_count": 1,
   "id": "f8490fdf",
   "metadata": {},
   "outputs": [
    {
     "name": "stdout",
     "output_type": "stream",
     "text": [
      "Requirement already satisfied: torch in c:\\programdata\\anaconda3\\lib\\site-packages (2.0.0)\n",
      "Requirement already satisfied: sympy in c:\\programdata\\anaconda3\\lib\\site-packages (from torch) (1.10.1)\n",
      "Requirement already satisfied: jinja2 in c:\\programdata\\anaconda3\\lib\\site-packages (from torch) (2.11.3)\n",
      "Requirement already satisfied: filelock in c:\\programdata\\anaconda3\\lib\\site-packages (from torch) (3.6.0)\n",
      "Requirement already satisfied: networkx in c:\\programdata\\anaconda3\\lib\\site-packages (from torch) (2.7.1)\n",
      "Requirement already satisfied: typing-extensions in c:\\programdata\\anaconda3\\lib\\site-packages (from torch) (4.1.1)\n",
      "Requirement already satisfied: MarkupSafe>=0.23 in c:\\programdata\\anaconda3\\lib\\site-packages (from jinja2->torch) (2.0.1)\n",
      "Requirement already satisfied: mpmath>=0.19 in c:\\programdata\\anaconda3\\lib\\site-packages (from sympy->torch) (1.2.1)\n"
     ]
    }
   ],
   "source": [
    "!pip install torch"
   ]
  },
  {
   "cell_type": "code",
   "execution_count": 2,
   "id": "b00645a7",
   "metadata": {},
   "outputs": [],
   "source": [
    "import torch"
   ]
  },
  {
   "cell_type": "markdown",
   "id": "f48df4c5",
   "metadata": {},
   "source": [
    "1) Создайте случайный FloatTensor размера 3x4x5"
   ]
  },
  {
   "cell_type": "code",
   "execution_count": 3,
   "id": "998b732e",
   "metadata": {},
   "outputs": [],
   "source": [
    "t = torch.Tensor(3,4,5)"
   ]
  },
  {
   "cell_type": "code",
   "execution_count": 4,
   "id": "8d9dc9f8",
   "metadata": {},
   "outputs": [
    {
     "data": {
      "text/plain": [
       "tensor([[[4.9593e+28, 4.2320e+21, 8.6276e+00, 4.6317e+27, 4.3065e+21],\n",
       "         [7.6724e+34, 3.0345e+32, 4.9639e+28, 2.7946e+20, 2.0535e-19],\n",
       "         [7.2128e+22, 1.4755e+31, 4.2321e+21, 4.4894e+21, 7.2150e+22],\n",
       "         [3.2483e+33, 1.9690e-19, 6.8589e+22, 1.3340e+31, 1.1708e-19]],\n",
       "\n",
       "        [[7.2128e+22, 1.4755e+31, 4.2321e+21, 4.4894e+21, 7.2150e+22],\n",
       "         [6.2618e+22, 4.7428e+30, 1.1096e+27, 2.7518e+12, 7.5338e+28],\n",
       "         [4.8156e+30, 1.2102e+25, 1.1839e+22, 1.4605e-19, 9.7269e+05],\n",
       "         [1.2124e+25, 1.8611e+34, 1.6907e-01, 1.7743e+28, 1.1673e-32]],\n",
       "\n",
       "        [[7.1345e+31, 7.1118e-04, 6.9772e+22, 1.7704e+31, 7.7447e+31],\n",
       "         [5.3989e+28, 2.8940e+12, 7.5338e+28, 7.1758e+22, 1.4603e-19],\n",
       "         [1.8888e+31, 1.2712e+31, 1.4602e-19, 2.0704e-19, 3.3738e-12],\n",
       "         [4.8226e+27, 2.0704e-19, 6.7421e+22, 1.4226e-13, 6.2608e+22]]])"
      ]
     },
     "execution_count": 4,
     "metadata": {},
     "output_type": "execute_result"
    }
   ],
   "source": [
    "t"
   ]
  },
  {
   "cell_type": "code",
   "execution_count": 5,
   "id": "a4f2e83d",
   "metadata": {},
   "outputs": [
    {
     "data": {
      "text/plain": [
       "'torch.FloatTensor'"
      ]
     },
     "execution_count": 5,
     "metadata": {},
     "output_type": "execute_result"
    }
   ],
   "source": [
    "t.type()"
   ]
  },
  {
   "cell_type": "markdown",
   "id": "3a461d1a",
   "metadata": {},
   "source": [
    "2) Выведите его форму (shape)"
   ]
  },
  {
   "cell_type": "code",
   "execution_count": 6,
   "id": "8d905e34",
   "metadata": {},
   "outputs": [
    {
     "data": {
      "text/plain": [
       "torch.Size([3, 4, 5])"
      ]
     },
     "execution_count": 6,
     "metadata": {},
     "output_type": "execute_result"
    }
   ],
   "source": [
    "t.shape"
   ]
  },
  {
   "cell_type": "markdown",
   "id": "055a89e1",
   "metadata": {},
   "source": [
    "3) Приведите его к форме 6х10 "
   ]
  },
  {
   "cell_type": "code",
   "execution_count": 7,
   "id": "924fad3d",
   "metadata": {},
   "outputs": [],
   "source": [
    "t = t.reshape(6, 10)"
   ]
  },
  {
   "cell_type": "code",
   "execution_count": 8,
   "id": "1a3c7d14",
   "metadata": {},
   "outputs": [
    {
     "data": {
      "text/plain": [
       "torch.Size([6, 10])"
      ]
     },
     "execution_count": 8,
     "metadata": {},
     "output_type": "execute_result"
    }
   ],
   "source": [
    "t.shape"
   ]
  },
  {
   "cell_type": "markdown",
   "id": "6851ea79",
   "metadata": {},
   "source": [
    "4) Создайте случайный IntTensor размера 10"
   ]
  },
  {
   "cell_type": "code",
   "execution_count": 9,
   "id": "87f4f610",
   "metadata": {},
   "outputs": [
    {
     "data": {
      "text/plain": [
       "tensor([431, 535, 776,  52, 636, 666, 237, 815, 608, 958])"
      ]
     },
     "execution_count": 9,
     "metadata": {},
     "output_type": "execute_result"
    }
   ],
   "source": [
    "x = torch.randint(1000, size=(10,))\n",
    "x"
   ]
  },
  {
   "cell_type": "markdown",
   "id": "b6373516",
   "metadata": {},
   "source": [
    "5) Умножьте созданный FloatTensor на созданный IntTensor поэлементно"
   ]
  },
  {
   "cell_type": "code",
   "execution_count": 13,
   "id": "0864da97",
   "metadata": {},
   "outputs": [
    {
     "data": {
      "text/plain": [
       "tensor([[2.1374e+31, 2.2641e+24, 6.6950e+03, 2.4085e+29, 2.7389e+24, 5.1098e+37,\n",
       "         7.1919e+34, 4.0456e+31, 1.6991e+23, 1.9673e-16],\n",
       "        [3.1087e+25, 7.8937e+33, 3.2841e+24, 2.3345e+23, 4.5888e+25, 2.1634e+36,\n",
       "         4.6665e-17, 5.5900e+25, 8.1110e+33, 1.1217e-16],\n",
       "        [3.1087e+25, 7.8937e+33, 3.2841e+24, 2.3345e+23, 4.5888e+25, 4.1704e+25,\n",
       "         1.1240e+33, 9.0428e+29, 1.6731e+15, 7.2174e+31],\n",
       "        [2.0755e+33, 6.4748e+27, 9.1874e+24, 7.5947e-18, 6.1863e+08, 8.0743e+27,\n",
       "         4.4107e+36, 1.3779e+02, 1.0788e+31, 1.1183e-29],\n",
       "        [3.0750e+34, 3.8048e-01, 5.4143e+25, 9.2060e+32, 4.9256e+34, 3.5956e+31,\n",
       "         6.8589e+14, 6.1401e+31, 4.3629e+25, 1.3990e-16],\n",
       "        [8.1406e+33, 6.8009e+33, 1.1331e-16, 1.0766e-17, 2.1458e-09, 3.2119e+30,\n",
       "         4.9069e-17, 5.4948e+25, 8.6496e-11, 5.9979e+25]])"
      ]
     },
     "execution_count": 13,
     "metadata": {},
     "output_type": "execute_result"
    }
   ],
   "source": [
    "y = torch.mul(t,x)\n",
    "y"
   ]
  },
  {
   "cell_type": "code",
   "execution_count": 14,
   "id": "ad66e414",
   "metadata": {},
   "outputs": [
    {
     "data": {
      "text/plain": [
       "torch.Size([6, 10])"
      ]
     },
     "execution_count": 14,
     "metadata": {},
     "output_type": "execute_result"
    }
   ],
   "source": [
    "y.shape"
   ]
  },
  {
   "cell_type": "markdown",
   "id": "9f119447",
   "metadata": {},
   "source": [
    "6) Умножьте тензор матрично на себя, чтобы результат был размерности 6x6"
   ]
  },
  {
   "cell_type": "code",
   "execution_count": 23,
   "id": "fcc47ae1",
   "metadata": {},
   "outputs": [],
   "source": [
    "a = torch.Tensor(6,6)\n",
    "b = torch.Tensor (6,6)"
   ]
  },
  {
   "cell_type": "code",
   "execution_count": 25,
   "id": "dce1f1dd",
   "metadata": {},
   "outputs": [
    {
     "data": {
      "text/plain": [
       "tensor([[3.0874e-06, 7.7183e-07, 1.1077e-05, 6.9845e-10, 7.0049e-04, 1.6351e-09],\n",
       "        [2.8342e-06, 6.7458e-07, 1.2160e-05, 3.7151e-10, 6.4469e-04, 1.2683e-09],\n",
       "        [1.3066e-06, 7.9945e-07, 1.2171e-05, 6.9205e-10, 2.9635e-04, 1.6547e-09],\n",
       "        [3.2276e-06, 7.9983e-07, 1.1637e-05, 7.4857e-10, 7.3269e-04, 1.7043e-09],\n",
       "        [3.2548e-06, 6.7493e-07, 1.2587e-05, 6.8487e-10, 7.4009e-04, 1.6079e-09],\n",
       "        [2.6923e-06, 6.8885e-07, 1.2814e-05, 8.0336e-10, 6.1367e-04, 1.6343e-09]])"
      ]
     },
     "execution_count": 25,
     "metadata": {},
     "output_type": "execute_result"
    }
   ],
   "source": [
    "c = a.mm(b)\n",
    "c"
   ]
  },
  {
   "cell_type": "code",
   "execution_count": 26,
   "id": "c7492747",
   "metadata": {},
   "outputs": [
    {
     "data": {
      "text/plain": [
       "torch.Size([6, 6])"
      ]
     },
     "execution_count": 26,
     "metadata": {},
     "output_type": "execute_result"
    }
   ],
   "source": [
    "c.shape"
   ]
  },
  {
   "cell_type": "markdown",
   "id": "6e472391",
   "metadata": {},
   "source": [
    "7) Посчитайте производную функции y = x**3 + z - 75t в точке (1, 0.5, 2)"
   ]
  },
  {
   "cell_type": "code",
   "execution_count": 36,
   "id": "980fe034",
   "metadata": {},
   "outputs": [],
   "source": [
    "q = torch.Tensor([1, 0.5, 2])"
   ]
  },
  {
   "cell_type": "code",
   "execution_count": 37,
   "id": "21e181ac",
   "metadata": {},
   "outputs": [],
   "source": [
    "q.requires_grad = True"
   ]
  },
  {
   "cell_type": "code",
   "execution_count": 46,
   "id": "05168f15",
   "metadata": {},
   "outputs": [
    {
     "data": {
      "text/plain": [
       "tensor([ -73.0000,  -36.8750, -140.0000], grad_fn=<SubBackward0>)"
      ]
     },
     "execution_count": 46,
     "metadata": {},
     "output_type": "execute_result"
    }
   ],
   "source": [
    "f = q**3 + q - 75 * q\n",
    "f"
   ]
  },
  {
   "cell_type": "code",
   "execution_count": 48,
   "id": "37ba090c",
   "metadata": {},
   "outputs": [],
   "source": [
    "f.backward(q)"
   ]
  },
  {
   "cell_type": "code",
   "execution_count": 50,
   "id": "4ee49bee",
   "metadata": {},
   "outputs": [
    {
     "data": {
      "text/plain": [
       "tensor([-142.0000,  -73.2500, -248.0000])"
      ]
     },
     "execution_count": 50,
     "metadata": {},
     "output_type": "execute_result"
    }
   ],
   "source": [
    "q.grad"
   ]
  },
  {
   "cell_type": "markdown",
   "id": "bed0ea4f",
   "metadata": {},
   "source": [
    "8) Создайте единичный тензор размера 5x6"
   ]
  },
  {
   "cell_type": "code",
   "execution_count": 29,
   "id": "e2ad0cc9",
   "metadata": {},
   "outputs": [
    {
     "data": {
      "text/plain": [
       "tensor([[1., 1., 1., 1., 1., 1.],\n",
       "        [1., 1., 1., 1., 1., 1.],\n",
       "        [1., 1., 1., 1., 1., 1.],\n",
       "        [1., 1., 1., 1., 1., 1.],\n",
       "        [1., 1., 1., 1., 1., 1.]])"
      ]
     },
     "execution_count": 29,
     "metadata": {},
     "output_type": "execute_result"
    }
   ],
   "source": [
    "e = torch.ones(5,6)\n",
    "e"
   ]
  },
  {
   "cell_type": "markdown",
   "id": "97880f53",
   "metadata": {},
   "source": [
    "9) Переведите его в формат numpy"
   ]
  },
  {
   "cell_type": "code",
   "execution_count": 35,
   "id": "5e0eeb97",
   "metadata": {},
   "outputs": [
    {
     "data": {
      "text/plain": [
       "array([[1., 1., 1., 1., 1., 1.],\n",
       "       [1., 1., 1., 1., 1., 1.],\n",
       "       [1., 1., 1., 1., 1., 1.],\n",
       "       [1., 1., 1., 1., 1., 1.],\n",
       "       [1., 1., 1., 1., 1., 1.]], dtype=float32)"
      ]
     },
     "execution_count": 35,
     "metadata": {},
     "output_type": "execute_result"
    }
   ],
   "source": [
    "e = e.numpy()\n",
    "e"
   ]
  }
 ],
 "metadata": {
  "kernelspec": {
   "display_name": "Python 3 (ipykernel)",
   "language": "python",
   "name": "python3"
  },
  "language_info": {
   "codemirror_mode": {
    "name": "ipython",
    "version": 3
   },
   "file_extension": ".py",
   "mimetype": "text/x-python",
   "name": "python",
   "nbconvert_exporter": "python",
   "pygments_lexer": "ipython3",
   "version": "3.9.12"
  }
 },
 "nbformat": 4,
 "nbformat_minor": 5
}
