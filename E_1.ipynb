{
 "cells": [
  {
   "cell_type": "code",
   "execution_count": 1,
   "id": "bdab0db3",
   "metadata": {},
   "outputs": [],
   "source": [
    "import numpy as np\n",
    "import pandas as pd\n",
    "import matplotlib.pyplot as plt\n",
    "import seaborn as sns"
   ]
  },
  {
   "cell_type": "code",
   "execution_count": 2,
   "id": "ce9f0c27",
   "metadata": {},
   "outputs": [],
   "source": [
    "import nltk\n",
    "from nltk import word_tokenize\n",
    "from nltk.corpus import stopwords\n",
    "from nltk.stem import PorterStemmer\n",
    "from nltk.stem import WordNetLemmatizer"
   ]
  },
  {
   "cell_type": "code",
   "execution_count": 3,
   "id": "a69e50ef",
   "metadata": {},
   "outputs": [],
   "source": [
    "import re\n",
    "import pickle\n",
    "import warnings \n",
    "warnings.filterwarnings(\"ignore\")"
   ]
  },
  {
   "cell_type": "code",
   "execution_count": 4,
   "id": "335916c4",
   "metadata": {},
   "outputs": [
    {
     "data": {
      "text/html": [
       "<div>\n",
       "<style scoped>\n",
       "    .dataframe tbody tr th:only-of-type {\n",
       "        vertical-align: middle;\n",
       "    }\n",
       "\n",
       "    .dataframe tbody tr th {\n",
       "        vertical-align: top;\n",
       "    }\n",
       "\n",
       "    .dataframe thead th {\n",
       "        text-align: right;\n",
       "    }\n",
       "</style>\n",
       "<table border=\"1\" class=\"dataframe\">\n",
       "  <thead>\n",
       "    <tr style=\"text-align: right;\">\n",
       "      <th></th>\n",
       "      <th>id</th>\n",
       "      <th>label</th>\n",
       "      <th>tweet</th>\n",
       "    </tr>\n",
       "  </thead>\n",
       "  <tbody>\n",
       "    <tr>\n",
       "      <th>0</th>\n",
       "      <td>1</td>\n",
       "      <td>0</td>\n",
       "      <td>@user when a father is dysfunctional and is s...</td>\n",
       "    </tr>\n",
       "    <tr>\n",
       "      <th>1</th>\n",
       "      <td>2</td>\n",
       "      <td>0</td>\n",
       "      <td>@user @user thanks for #lyft credit i can't us...</td>\n",
       "    </tr>\n",
       "    <tr>\n",
       "      <th>2</th>\n",
       "      <td>3</td>\n",
       "      <td>0</td>\n",
       "      <td>bihday your majesty</td>\n",
       "    </tr>\n",
       "    <tr>\n",
       "      <th>3</th>\n",
       "      <td>4</td>\n",
       "      <td>0</td>\n",
       "      <td>#model   i love u take with u all the time in ...</td>\n",
       "    </tr>\n",
       "    <tr>\n",
       "      <th>4</th>\n",
       "      <td>5</td>\n",
       "      <td>0</td>\n",
       "      <td>factsguide: society now    #motivation</td>\n",
       "    </tr>\n",
       "  </tbody>\n",
       "</table>\n",
       "</div>"
      ],
      "text/plain": [
       "   id  label                                              tweet\n",
       "0   1      0   @user when a father is dysfunctional and is s...\n",
       "1   2      0  @user @user thanks for #lyft credit i can't us...\n",
       "2   3      0                                bihday your majesty\n",
       "3   4      0  #model   i love u take with u all the time in ...\n",
       "4   5      0             factsguide: society now    #motivation"
      ]
     },
     "execution_count": 4,
     "metadata": {},
     "output_type": "execute_result"
    }
   ],
   "source": [
    "train_df = pd.read_csv('train_tweets.csv')\n",
    "train_df.drop(columns=['id'])\n",
    "train_df.head()"
   ]
  },
  {
   "cell_type": "code",
   "execution_count": 5,
   "id": "96253c3a",
   "metadata": {},
   "outputs": [],
   "source": [
    "#1 Удалим @user из всех твитов с помощью паттерна \"@[\\w]*\".\n",
    "\n",
    "def del_sub(tweet, pattern):\n",
    "    r = re.findall(pattern, tweet)\n",
    "    for i in r:\n",
    "        tweet = re.sub(i, '', tweet)\n",
    "    return tweet\n",
    "\n",
    "train_df[\"tweet\"] = np.vectorize(del_sub)(train_df['tweet'], \"@[\\w]*\")"
   ]
  },
  {
   "cell_type": "code",
   "execution_count": 6,
   "id": "11d5c9d4",
   "metadata": {},
   "outputs": [
    {
     "data": {
      "text/plain": [
       "0      when a father is dysfunctional and is so sel...\n",
       "1      thanks for #lyft credit i can't use cause th...\n",
       "2                                  bihday your majesty\n",
       "3    #model   i love u take with u all the time in ...\n",
       "4               factsguide: society now    #motivation\n",
       "Name: tweet, dtype: object"
      ]
     },
     "execution_count": 6,
     "metadata": {},
     "output_type": "execute_result"
    }
   ],
   "source": [
    "#2 Изменим регистр твитов на нижний с помощью .lower()\n",
    "train_df['tweet'].str.lower().head()"
   ]
  },
  {
   "cell_type": "code",
   "execution_count": 7,
   "id": "6bcf8a0c",
   "metadata": {},
   "outputs": [
    {
     "data": {
      "text/plain": [
       "0      when a father is dysfunctional and is so sel...\n",
       "1      thanks for #lyft credit i cannot use cause t...\n",
       "2                                  bihday your majesty\n",
       "3    #model   i love u take with u all the time in ...\n",
       "4               factsguide: society now    #motivation\n",
       "Name: tweet, dtype: object"
      ]
     },
     "execution_count": 7,
     "metadata": {},
     "output_type": "execute_result"
    }
   ],
   "source": [
    "#3 Заменим сокращения с апострофами (пример: ain't, can't) на пробел,\n",
    "#  используя apostrophe_dict. Для этого необходимо сделать функцию:\n",
    "#  для каждого слова в тексте проверить (for word in text.split()), если\n",
    "# слово есть в словаре apostrophe_dict в качестве ключа (сокращенного слова),\n",
    "# то заменить ключ на значение (полную версию слова).\n",
    "\n",
    "apostrophe_dict = {\n",
    "\"ain't\": \"am not / are not\",\n",
    "\"aren't\": \"are not / am not\",\n",
    "\"can't\": \"cannot\",\n",
    "\"can't've\": \"cannot have\",\n",
    "\"'cause\": \"because\",\n",
    "\"could've\": \"could have\",\n",
    "\"couldn't\": \"could not\",\n",
    "\"couldn't've\": \"could not have\",\n",
    "\"didn't\": \"did not\",\n",
    "\"doesn't\": \"does not\",\n",
    "\"don't\": \"do not\",\n",
    "\"hadn't\": \"had not\",\n",
    "\"hadn't've\": \"had not have\",\n",
    "\"hasn't\": \"has not\",\n",
    "\"haven't\": \"have not\",\n",
    "\"he'd\": \"he had / he would\",\n",
    "\"he'd've\": \"he would have\",\n",
    "\"he'll\": \"he shall / he will\",\n",
    "\"he'll've\": \"he shall have / he will have\",\n",
    "\"he's\": \"he has / he is\",\n",
    "\"how'd\": \"how did\",\n",
    "\"how'd'y\": \"how do you\",\n",
    "\"how'll\": \"how will\",\n",
    "\"how's\": \"how has / how is\",\n",
    "\"i'd\": \"I had / I would\",\n",
    "\"i'd've\": \"I would have\",\n",
    "\"i'll\": \"I shall / I will\",\n",
    "\"i'll've\": \"I shall have / I will have\",\n",
    "\"i'm\": \"I am\",\n",
    "\"i've\": \"I have\",\n",
    "\"isn't\": \"is not\",\n",
    "\"it'd\": \"it had / it would\",\n",
    "\"it'd've\": \"it would have\",\n",
    "\"it'll\": \"it shall / it will\",\n",
    "\"it'll've\": \"it shall have / it will have\",\n",
    "\"it's\": \"it has / it is\",\n",
    "\"let's\": \"let us\",\n",
    "\"ma'am\": \"madam\",\n",
    "\"mayn't\": \"may not\",\n",
    "\"might've\": \"might have\",\n",
    "\"mightn't\": \"might not\",\n",
    "\"mightn't've\": \"might not have\",\n",
    "\"must've\": \"must have\",\n",
    "\"mustn't\": \"must not\",\n",
    "\"mustn't've\": \"must not have\",\n",
    "\"needn't\": \"need not\",\n",
    "\"needn't've\": \"need not have\",\n",
    "\"o'clock\": \"of the clock\",\n",
    "\"oughtn't\": \"ought not\",\n",
    "\"oughtn't've\": \"ought not have\",\n",
    "\"shan't\": \"shall not\",\n",
    "\"sha'n't\": \"shall not\",\n",
    "\"shan't've\": \"shall not have\",\n",
    "\"she'd\": \"she had / she would\",\n",
    "\"she'd've\": \"she would have\",\n",
    "\"she'll\": \"she shall / she will\",\n",
    "\"she'll've\": \"she shall have / she will have\",\n",
    "\"she's\": \"she has / she is\",\n",
    "\"should've\": \"should have\",\n",
    "\"shouldn't\": \"should not\",\n",
    "\"shouldn't've\": \"should not have\",\n",
    "\"so've\": \"so have\",\n",
    "\"so's\": \"so as / so is\",\n",
    "\"that'd\": \"that would / that had\",\n",
    "\"that'd've\": \"that would have\",\n",
    "\"that's\": \"that has / that is\",\n",
    "\"there'd\": \"there had / there would\",\n",
    "\"there'd've\": \"there would have\",\n",
    "\"there's\": \"there has / there is\",\n",
    "\"they'd\": \"they had / they would\",\n",
    "\"they'd've\": \"they would have\",\n",
    "\"they'll\": \"they shall / they will\",\n",
    "\"they'll've\": \"they shall have / they will have\",\n",
    "\"they're\": \"they are\",\n",
    "\"they've\": \"they have\",\n",
    "\"to've\": \"to have\",\n",
    "\"wasn't\": \"was not\",\n",
    "\"we'd\": \"we had / we would\",\n",
    "\"we'd've\": \"we would have\",\n",
    "\"we'll\": \"we will\",\n",
    "\"we'll've\": \"we will have\",\n",
    "\"we're\": \"we are\",\n",
    "\"we've\": \"we have\",\n",
    "\"weren't\": \"were not\",\n",
    "\"what'll\": \"what shall / what will\",\n",
    "\"what'll've\": \"what shall have / what will have\",\n",
    "\"what're\": \"what are\",\n",
    "\"what's\": \"what has / what is\",\n",
    "\"what've\": \"what have\",\n",
    "\"when's\": \"when has / when is\",\n",
    "\"when've\": \"when have\",\n",
    "\"where'd\": \"where did\",\n",
    "\"where's\": \"where has / where is\",\n",
    "\"where've\": \"where have\",\n",
    "\"who'll\": \"who shall / who will\",\n",
    "\"who'll've\": \"who shall have / who will have\",\n",
    "\"who's\": \"who has / who is\",\n",
    "\"who've\": \"who have\",\n",
    "\"why's\": \"why has / why is\",\n",
    "\"why've\": \"why have\",\n",
    "\"will've\": \"will have\",\n",
    "\"won't\": \"will not\",\n",
    "\"won't've\": \"will not have\",\n",
    "\"would've\": \"would have\",\n",
    "\"wouldn't\": \"would not\",\n",
    "\"wouldn't've\": \"would not have\",\n",
    "\"y'all\": \"you all\",\n",
    "\"y'all'd\": \"you all would\",\n",
    "\"y'all'd've\": \"you all would have\",\n",
    "\"y'all're\": \"you all are\",\n",
    "\"y'all've\": \"you all have\",\n",
    "\"you'd\": \"you had / you would\",\n",
    "\"you'd've\": \"you would have\",\n",
    "\"you'll\": \"you shall / you will\",\n",
    "\"you'll've\": \"you shall have / you will have\",\n",
    "\"you're\": \"you are\",\n",
    "\"you've\": \"you have\"\n",
    "}\n",
    "\n",
    "def rep_words(tweet):\n",
    "    \n",
    "    for word in tweet.split():\n",
    "        if word.lower() in apostrophe_dict:\n",
    "            tweet = tweet.replace(word, apostrophe_dict[word.lower()])\n",
    "    return tweet\n",
    "\n",
    "train_df['tweet'] = train_df['tweet'].apply(rep_words)\n",
    "train_df['tweet'].head()"
   ]
  },
  {
   "cell_type": "code",
   "execution_count": 8,
   "id": "a916cce8",
   "metadata": {},
   "outputs": [
    {
     "data": {
      "text/plain": [
       "0      when a father is dysfunctional and is so sel...\n",
       "1      thanks for #lyft credit i cannot use cause t...\n",
       "2                                  bihday your majesty\n",
       "3    #model   i love yoyou take with yoyou all the ...\n",
       "4               factsguide: society now    #motivation\n",
       "Name: tweet, dtype: object"
      ]
     },
     "execution_count": 8,
     "metadata": {},
     "output_type": "execute_result"
    }
   ],
   "source": [
    "#4 Заменим сокращения на их полные формы, используя short_word_dict.\n",
    "#  Для этого воспользуемся функцией, используемой в предыдущем пункте.\n",
    "\n",
    "short_word_dict = {\n",
    "\"121\": \"one to one\",\n",
    "\"a/s/l\": \"age, sex, location\",\n",
    "\"adn\": \"any day now\",\n",
    "\"afaik\": \"as far as I know\",\n",
    "\"afk\": \"away from keyboard\",\n",
    "\"aight\": \"alright\",\n",
    "\"alol\": \"actually laughing out loud\",\n",
    "\"b4\": \"before\",\n",
    "\"b4n\": \"bye for now\",\n",
    "\"bak\": \"back at the keyboard\",\n",
    "\"bf\": \"boyfriend\",\n",
    "\"bff\": \"best friends forever\",\n",
    "\"bfn\": \"bye for now\",\n",
    "\"bg\": \"big grin\",\n",
    "\"bta\": \"but then again\",\n",
    "\"btw\": \"by the way\",\n",
    "\"cid\": \"crying in disgrace\",\n",
    "\"cnp\": \"continued in my next post\",\n",
    "\"cp\": \"chat post\",\n",
    "\"cu\": \"see you\",\n",
    "\"cul\": \"see you later\",\n",
    "\"cul8r\": \"see you later\",\n",
    "\"cya\": \"bye\",\n",
    "\"cyo\": \"see you online\",\n",
    "\"dbau\": \"doing business as usual\",\n",
    "\"fud\": \"fear, uncertainty, and doubt\",\n",
    "\"fwiw\": \"for what it's worth\",\n",
    "\"fyi\": \"for your information\",\n",
    "\"g\": \"grin\",\n",
    "\"g2g\": \"got to go\",\n",
    "\"ga\": \"go ahead\",\n",
    "\"gal\": \"get a life\",\n",
    "\"gf\": \"girlfriend\",\n",
    "\"gfn\": \"gone for now\",\n",
    "\"gmbo\": \"giggling my butt off\",\n",
    "\"gmta\": \"great minds think alike\",\n",
    "\"h8\": \"hate\",\n",
    "\"hagn\": \"have a good night\",\n",
    "\"hdop\": \"help delete online predators\",\n",
    "\"hhis\": \"hanging head in shame\",\n",
    "\"iac\": \"in any case\",\n",
    "\"ianal\": \"I am not a lawyer\",\n",
    "\"ic\": \"I see\",\n",
    "\"idk\": \"I don't know\",\n",
    "\"imao\": \"in my arrogant opinion\",\n",
    "\"imnsho\": \"in my not so humble opinion\",\n",
    "\"imo\": \"in my opinion\",\n",
    "\"iow\": \"in other words\",\n",
    "\"ipn\": \"I’m posting naked\",\n",
    "\"irl\": \"in real life\",\n",
    "\"jk\": \"just kidding\",\n",
    "\"l8r\": \"later\",\n",
    "\"ld\": \"later, dude\",\n",
    "\"ldr\": \"long distance relationship\",\n",
    "\"llta\": \"lots and lots of thunderous applause\",\n",
    "\"lmao\": \"laugh my ass off\",\n",
    "\"lmirl\": \"let's meet in real life\",\n",
    "\"lol\": \"laugh out loud\",\n",
    "\"ltr\": \"longterm relationship\",\n",
    "\"lulab\": \"love you like a brother\",\n",
    "\"lulas\": \"love you like a sister\",\n",
    "\"luv\": \"love\",\n",
    "\"m/f\": \"male or female\",\n",
    "\"m8\": \"mate\",\n",
    "\"milf\": \"mother I would like to fuck\",\n",
    "\"oll\": \"online love\",\n",
    "\"omg\": \"oh my god\",\n",
    "\"otoh\": \"on the other hand\",\n",
    "\"pir\": \"parent in room\",\n",
    "\"ppl\": \"people\",\n",
    "\"r\": \"are\",\n",
    "\"rofl\": \"roll on the floor laughing\",\n",
    "\"rpg\": \"role playing games\",\n",
    "\"ru\": \"are you\",\n",
    "\"shid\": \"slaps head in disgust\",\n",
    "\"somy\": \"sick of me yet\",\n",
    "\"sot\": \"short of time\",\n",
    "\"thanx\": \"thanks\",\n",
    "\"thx\": \"thanks\",\n",
    "\"ttyl\": \"talk to you later\",\n",
    "\"u\": \"you\",\n",
    "\"ur\": \"you are\",\n",
    "\"uw\": \"you’re welcome\",\n",
    "\"wb\": \"welcome back\",\n",
    "\"wfm\": \"works for me\",\n",
    "\"wibni\": \"wouldn't it be nice if\",\n",
    "\"wtf\": \"what the fuck\",\n",
    "\"wtg\": \"way to go\",\n",
    "\"wtgp\": \"want to go private\",\n",
    "\"ym\": \"young man\",\n",
    "\"gr8\": \"great\"\n",
    "}\n",
    "\n",
    "def short_words(tweet):\n",
    "    \n",
    "    for word in tweet.split():\n",
    "        if word.lower() in short_word_dict:\n",
    "            tweet = tweet.replace(word, short_word_dict[word.lower()])\n",
    "    return tweet\n",
    "\n",
    "train_df['tweet'] = train_df['tweet'].apply(short_words)\n",
    "train_df['tweet'].head()"
   ]
  },
  {
   "cell_type": "code",
   "execution_count": 9,
   "id": "d052e761",
   "metadata": {},
   "outputs": [
    {
     "data": {
      "text/plain": [
       "0      when a father is dysfunctional and is so sel...\n",
       "1      thanks for #lyft credit i cannot use cause t...\n",
       "2                                  bihday your majesty\n",
       "3    #model   i love yoyou take with yoyou all the ...\n",
       "4               factsguide: society now    #motivation\n",
       "Name: tweet, dtype: object"
      ]
     },
     "execution_count": 9,
     "metadata": {},
     "output_type": "execute_result"
    }
   ],
   "source": [
    "#5 Заменим эмотиконы (пример: \":)\" = \"happy\") на пробелы, используя\n",
    "#  emoticon_dict. Для этого воспользуемся функцией, используемой в предыдущем\n",
    "#  пункте.\n",
    "\n",
    "emoticon_dict = {\n",
    "\":)\": \"happy\",\n",
    "\":‑)\": \"happy\",\n",
    "\":-]\": \"happy\",\n",
    "\":-3\": \"happy\",\n",
    "\":->\": \"happy\",\n",
    "\"8-)\": \"happy\",\n",
    "\":-}\": \"happy\",\n",
    "\":o)\": \"happy\",\n",
    "\":c)\": \"happy\",\n",
    "\":^)\": \"happy\",\n",
    "\"=]\": \"happy\",\n",
    "\"=)\": \"happy\",\n",
    "\"<3\": \"happy\",\n",
    "\":-(\": \"sad\",\n",
    "\":(\": \"sad\",\n",
    "\":c\": \"sad\",\n",
    "\":<\": \"sad\",\n",
    "\":[\": \"sad\",\n",
    "\">:[\": \"sad\",\n",
    "\":{\": \"sad\",\n",
    "\">:(\": \"sad\",\n",
    "\":-c\": \"sad\",\n",
    "\":-< \": \"sad\",\n",
    "\":-[\": \"sad\",\n",
    "\":-||\": \"sad\"\n",
    "}\n",
    "\n",
    "def emoticon(tweet):\n",
    "    \n",
    "    for word in tweet.split():\n",
    "        if word.lower() in emoticon_dict:\n",
    "            tweet = tweet.replace(word, emoticon_dict[word.lower()])\n",
    "    return tweet\n",
    "\n",
    "train_df['tweet'] = train_df['tweet'].apply(emoticon)\n",
    "train_df['tweet'].head()"
   ]
  },
  {
   "cell_type": "code",
   "execution_count": 10,
   "id": "94350889",
   "metadata": {},
   "outputs": [
    {
     "data": {
      "text/plain": [
       "0      when a father is dysfunctional and is so sel...\n",
       "1      thanks for lyft credit i cannot use cause th...\n",
       "2                                  bihday your majesty\n",
       "3    model   i love yoyou take with yoyou all the t...\n",
       "4                 factsguide society now    motivation\n",
       "Name: tweet, dtype: object"
      ]
     },
     "execution_count": 10,
     "metadata": {},
     "output_type": "execute_result"
    }
   ],
   "source": [
    "#6 Заменим пунктуацию на пробелы, используя re.sub() и паттерн r'[^\\w\\s]'\n",
    "\n",
    "def del_punct(tweet):\n",
    "    for word in tweet.split():\n",
    "        tweet = re.sub(r'[^\\w\\s]', '', tweet)\n",
    "    return tweet\n",
    "\n",
    "train_df[\"tweet\"] = train_df[\"tweet\"].apply(del_punct)\n",
    "train_df[\"tweet\"].head()"
   ]
  },
  {
   "cell_type": "code",
   "execution_count": 11,
   "id": "92781a14",
   "metadata": {},
   "outputs": [
    {
     "data": {
      "text/plain": [
       "0      when a father is dysfunctional and is so sel...\n",
       "1      thanks for lyft credit i cannot use cause th...\n",
       "2                                  bihday your majesty\n",
       "3    model   i love yoyou take with yoyou all the t...\n",
       "4                 factsguide society now    motivation\n",
       "Name: tweet, dtype: object"
      ]
     },
     "execution_count": 11,
     "metadata": {},
     "output_type": "execute_result"
    }
   ],
   "source": [
    "#7 Заменим спец. символы на пробелы, используя re.sub() и паттерн\n",
    "#  r'[^a-zA-Z0-9]'\n",
    "\n",
    "def del_sp_char(tweet):\n",
    "    for word in tweet.split():\n",
    "        tweet = re.sub(r'[^a-zA-Z0-9]', ' ', tweet)\n",
    "    return tweet\n",
    "\n",
    "train_df[\"tweet\"] = train_df[\"tweet\"].apply(del_sp_char)\n",
    "train_df[\"tweet\"].head()"
   ]
  },
  {
   "cell_type": "code",
   "execution_count": 12,
   "id": "7b983b90",
   "metadata": {},
   "outputs": [
    {
     "data": {
      "text/plain": [
       "0      when a father is dysfunctional and is so sel...\n",
       "1      thanks for lyft credit i cannot use cause th...\n",
       "2                                  bihday your majesty\n",
       "3    model   i love yoyou take with yoyou all the t...\n",
       "4                 factsguide society now    motivation\n",
       "Name: tweet, dtype: object"
      ]
     },
     "execution_count": 12,
     "metadata": {},
     "output_type": "execute_result"
    }
   ],
   "source": [
    "#8 Заменим числа на пробелы, используя re.sub() и паттерн r'[^a-zA-Z]'\n",
    "\n",
    "def del_dig(tweet):\n",
    "    for word in tweet.split():\n",
    "        tweet = re.sub(r'[^a-zA-Z]', ' ', tweet)\n",
    "    return tweet\n",
    "\n",
    "train_df[\"tweet\"] = train_df[\"tweet\"].apply(del_dig)\n",
    "train_df[\"tweet\"].head()"
   ]
  },
  {
   "cell_type": "code",
   "execution_count": 13,
   "id": "b25c1c4b",
   "metadata": {},
   "outputs": [
    {
     "data": {
      "text/plain": [
       "0    when father is dysfunctional and is so selfish...\n",
       "1    thanks for lyft credit cannot use cause they d...\n",
       "2                                  bihday your majesty\n",
       "3    model love yoyou take with yoyou all the time ...\n",
       "4                    factsguide society now motivation\n",
       "Name: tweet, dtype: object"
      ]
     },
     "execution_count": 13,
     "metadata": {},
     "output_type": "execute_result"
    }
   ],
   "source": [
    "#9 Удалим из текста слова длиной в 1 символ, используя \n",
    "#  ' '.join([w for w in x.split() if len(w)>1])\n",
    "\n",
    "train_df[\"tweet\"] = train_df[\"tweet\"].apply(lambda x: ' '.join([w for w in x.split() if len(w)>1]))\n",
    "train_df[\"tweet\"].head()"
   ]
  },
  {
   "cell_type": "code",
   "execution_count": 14,
   "id": "97fe73b0",
   "metadata": {},
   "outputs": [
    {
     "data": {
      "text/plain": [
       "0    [when, father, is, dysfunctional, and, is, so,...\n",
       "1    [thanks, for, lyft, credit, can, not, use, cau...\n",
       "2                              [bihday, your, majesty]\n",
       "3    [model, love, yoyou, take, with, yoyou, all, t...\n",
       "4               [factsguide, society, now, motivation]\n",
       "Name: tweet_token, dtype: object"
      ]
     },
     "execution_count": 14,
     "metadata": {},
     "output_type": "execute_result"
    }
   ],
   "source": [
    "#10 Поделим твиты на токены с помощью nltk.tokenize.word_tokenize, создав\n",
    "#   новый столбец 'tweet_token'.\n",
    "\n",
    "train_df[\"tweet_token\"] = train_df[\"tweet\"].apply(word_tokenize)\n",
    "train_df[\"tweet_token\"].head()"
   ]
  },
  {
   "cell_type": "code",
   "execution_count": 15,
   "id": "22354f38",
   "metadata": {},
   "outputs": [
    {
     "data": {
      "text/plain": [
       "0    [father, dysfunctional, selfish, drags, kids, ...\n",
       "1    [thanks, lyft, credit, use, cause, offer, whee...\n",
       "2                                    [bihday, majesty]\n",
       "3      [model, love, yoyou, take, yoyou, time, yoyour]\n",
       "4                    [factsguide, society, motivation]\n",
       "Name: tweet_token_filtered, dtype: object"
      ]
     },
     "execution_count": 15,
     "metadata": {},
     "output_type": "execute_result"
    }
   ],
   "source": [
    "#11 Удалим стоп-слова из токенов, используя nltk.corpus.stopwords.\n",
    "#   Создадим столбец 'tweet_token_filtered' без стоп-слов.\n",
    "\n",
    "stop = stopwords.words('english')\n",
    "train_df[\"tweet_token_filtered\"] = train_df[\"tweet_token\"].apply(lambda x: [item for item in x if item not in stop])\n",
    "train_df[\"tweet_token_filtered\"].head()"
   ]
  },
  {
   "cell_type": "code",
   "execution_count": 16,
   "id": "da295b43",
   "metadata": {},
   "outputs": [
    {
     "data": {
      "text/plain": [
       "0    [father, dysfunct, selfish, drag, kid, dysfunc...\n",
       "1    [thank, lyft, credit, use, caus, offer, wheelc...\n",
       "2                                    [bihday, majesti]\n",
       "3      [model, love, yoyou, take, yoyou, time, yoyour]\n",
       "4                          [factsguid, societi, motiv]\n",
       "Name: tweet_stemmed, dtype: object"
      ]
     },
     "execution_count": 16,
     "metadata": {},
     "output_type": "execute_result"
    }
   ],
   "source": [
    "#12 Применим стемминг к токенам с помощью nltk.stem.PorterStemmer. Создадим\n",
    "#   столбец 'tweet_stemmed' после применения стемминга.\n",
    "\n",
    "ps = PorterStemmer()\n",
    "\n",
    "def stemmer(sentence):\n",
    "\n",
    "    stemmed_tokens = [ps.stem(token) for token in sentence]\n",
    "    return stemmed_tokens\n",
    "\n",
    "train_df[\"tweet_stemmed\"] = train_df[\"tweet_token_filtered\"].apply(stemmer)\n",
    "train_df[\"tweet_stemmed\"].head()"
   ]
  },
  {
   "cell_type": "code",
   "execution_count": 17,
   "id": "a7aa6fcd",
   "metadata": {},
   "outputs": [
    {
     "data": {
      "text/plain": [
       "0    [father, dysfunctional, selfish, drag, kid, dy...\n",
       "1    [thanks, lyft, credit, use, cause, offer, whee...\n",
       "2                                    [bihday, majesty]\n",
       "3      [model, love, yoyou, take, yoyou, time, yoyour]\n",
       "4                    [factsguide, society, motivation]\n",
       "Name: tweet_lemmatized, dtype: object"
      ]
     },
     "execution_count": 17,
     "metadata": {},
     "output_type": "execute_result"
    }
   ],
   "source": [
    "#13 Применим лемматизацию к токенам с помощью \n",
    "#   nltk.stem.wordnet.WordNetLemmatizer. Создадим столбец 'tweet_lemmatized' \n",
    "#   после применения лемматизации.\n",
    "\n",
    "lemma = WordNetLemmatizer()\n",
    "\n",
    "def lemmatize(s):\n",
    "    \n",
    "     s = [lemma.lemmatize(word) for word in s]\n",
    "     return s\n",
    "\n",
    "train_df[\"tweet_lemmatized\"] = train_df[\"tweet_token_filtered\"].apply(lambda x: lemmatize(x))\n",
    "train_df[\"tweet_lemmatized\"].head()"
   ]
  },
  {
   "cell_type": "code",
   "execution_count": 18,
   "id": "f04e52f8",
   "metadata": {},
   "outputs": [
    {
     "data": {
      "text/html": [
       "<div>\n",
       "<style scoped>\n",
       "    .dataframe tbody tr th:only-of-type {\n",
       "        vertical-align: middle;\n",
       "    }\n",
       "\n",
       "    .dataframe tbody tr th {\n",
       "        vertical-align: top;\n",
       "    }\n",
       "\n",
       "    .dataframe thead th {\n",
       "        text-align: right;\n",
       "    }\n",
       "</style>\n",
       "<table border=\"1\" class=\"dataframe\">\n",
       "  <thead>\n",
       "    <tr style=\"text-align: right;\">\n",
       "      <th></th>\n",
       "      <th>id</th>\n",
       "      <th>label</th>\n",
       "      <th>tweet</th>\n",
       "      <th>tweet_token</th>\n",
       "      <th>tweet_token_filtered</th>\n",
       "      <th>tweet_stemmed</th>\n",
       "      <th>tweet_lemmatized</th>\n",
       "    </tr>\n",
       "  </thead>\n",
       "  <tbody>\n",
       "    <tr>\n",
       "      <th>0</th>\n",
       "      <td>1</td>\n",
       "      <td>0</td>\n",
       "      <td>when father is dysfunctional and is so selfish...</td>\n",
       "      <td>[when, father, is, dysfunctional, and, is, so,...</td>\n",
       "      <td>[father, dysfunctional, selfish, drags, kids, ...</td>\n",
       "      <td>[father, dysfunct, selfish, drag, kid, dysfunc...</td>\n",
       "      <td>[father, dysfunctional, selfish, drag, kid, dy...</td>\n",
       "    </tr>\n",
       "    <tr>\n",
       "      <th>1</th>\n",
       "      <td>2</td>\n",
       "      <td>0</td>\n",
       "      <td>thanks for lyft credit cannot use cause they d...</td>\n",
       "      <td>[thanks, for, lyft, credit, can, not, use, cau...</td>\n",
       "      <td>[thanks, lyft, credit, use, cause, offer, whee...</td>\n",
       "      <td>[thank, lyft, credit, use, caus, offer, wheelc...</td>\n",
       "      <td>[thanks, lyft, credit, use, cause, offer, whee...</td>\n",
       "    </tr>\n",
       "    <tr>\n",
       "      <th>2</th>\n",
       "      <td>3</td>\n",
       "      <td>0</td>\n",
       "      <td>bihday your majesty</td>\n",
       "      <td>[bihday, your, majesty]</td>\n",
       "      <td>[bihday, majesty]</td>\n",
       "      <td>[bihday, majesti]</td>\n",
       "      <td>[bihday, majesty]</td>\n",
       "    </tr>\n",
       "  </tbody>\n",
       "</table>\n",
       "</div>"
      ],
      "text/plain": [
       "   id  label                                              tweet  \\\n",
       "0   1      0  when father is dysfunctional and is so selfish...   \n",
       "1   2      0  thanks for lyft credit cannot use cause they d...   \n",
       "2   3      0                                bihday your majesty   \n",
       "\n",
       "                                         tweet_token  \\\n",
       "0  [when, father, is, dysfunctional, and, is, so,...   \n",
       "1  [thanks, for, lyft, credit, can, not, use, cau...   \n",
       "2                            [bihday, your, majesty]   \n",
       "\n",
       "                                tweet_token_filtered  \\\n",
       "0  [father, dysfunctional, selfish, drags, kids, ...   \n",
       "1  [thanks, lyft, credit, use, cause, offer, whee...   \n",
       "2                                  [bihday, majesty]   \n",
       "\n",
       "                                       tweet_stemmed  \\\n",
       "0  [father, dysfunct, selfish, drag, kid, dysfunc...   \n",
       "1  [thank, lyft, credit, use, caus, offer, wheelc...   \n",
       "2                                  [bihday, majesti]   \n",
       "\n",
       "                                    tweet_lemmatized  \n",
       "0  [father, dysfunctional, selfish, drag, kid, dy...  \n",
       "1  [thanks, lyft, credit, use, cause, offer, whee...  \n",
       "2                                  [bihday, majesty]  "
      ]
     },
     "execution_count": 18,
     "metadata": {},
     "output_type": "execute_result"
    }
   ],
   "source": [
    "#14 Сохраним результат предобработки в pickle-файл.\n",
    "\n",
    "train_df.head(3)"
   ]
  },
  {
   "cell_type": "code",
   "execution_count": 19,
   "id": "0b495897",
   "metadata": {},
   "outputs": [],
   "source": [
    "with open('tweet.pkl', 'wb') as f:\n",
    "    pickle.dump(train_df, f)"
   ]
  }
 ],
 "metadata": {
  "kernelspec": {
   "display_name": "Python 3 (ipykernel)",
   "language": "python",
   "name": "python3"
  },
  "language_info": {
   "codemirror_mode": {
    "name": "ipython",
    "version": 3
   },
   "file_extension": ".py",
   "mimetype": "text/x-python",
   "name": "python",
   "nbconvert_exporter": "python",
   "pygments_lexer": "ipython3",
   "version": "3.9.12"
  }
 },
 "nbformat": 4,
 "nbformat_minor": 5
}
