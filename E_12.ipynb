{
  "nbformat": 4,
  "nbformat_minor": 0,
  "metadata": {
    "colab": {
      "provenance": []
    },
    "kernelspec": {
      "name": "python3",
      "display_name": "Python 3"
    },
    "language_info": {
      "name": "python"
    },
    "widgets": {
      "application/vnd.jupyter.widget-state+json": {
        "44c18b4141a64b6c82e13da2fc1d2962": {
          "model_module": "@jupyter-widgets/controls",
          "model_name": "HBoxModel",
          "model_module_version": "1.5.0",
          "state": {
            "_dom_classes": [],
            "_model_module": "@jupyter-widgets/controls",
            "_model_module_version": "1.5.0",
            "_model_name": "HBoxModel",
            "_view_count": null,
            "_view_module": "@jupyter-widgets/controls",
            "_view_module_version": "1.5.0",
            "_view_name": "HBoxView",
            "box_style": "",
            "children": [
              "IPY_MODEL_576b1e27346d4ead87670153837249f3",
              "IPY_MODEL_8e62851e01784a0bb77e059d509ea723",
              "IPY_MODEL_43f0fc9284ff44b09c8e195e315fb659"
            ],
            "layout": "IPY_MODEL_7252f372f95548b1abc452be3bf5f6c6"
          }
        },
        "576b1e27346d4ead87670153837249f3": {
          "model_module": "@jupyter-widgets/controls",
          "model_name": "HTMLModel",
          "model_module_version": "1.5.0",
          "state": {
            "_dom_classes": [],
            "_model_module": "@jupyter-widgets/controls",
            "_model_module_version": "1.5.0",
            "_model_name": "HTMLModel",
            "_view_count": null,
            "_view_module": "@jupyter-widgets/controls",
            "_view_module_version": "1.5.0",
            "_view_name": "HTMLView",
            "description": "",
            "description_tooltip": null,
            "layout": "IPY_MODEL_d020c8c7193b400490412ac26e91d74b",
            "placeholder": "​",
            "style": "IPY_MODEL_184d83e061bc4754a6d8f27b3b2d028c",
            "value": ""
          }
        },
        "8e62851e01784a0bb77e059d509ea723": {
          "model_module": "@jupyter-widgets/controls",
          "model_name": "FloatProgressModel",
          "model_module_version": "1.5.0",
          "state": {
            "_dom_classes": [],
            "_model_module": "@jupyter-widgets/controls",
            "_model_module_version": "1.5.0",
            "_model_name": "FloatProgressModel",
            "_view_count": null,
            "_view_module": "@jupyter-widgets/controls",
            "_view_module_version": "1.5.0",
            "_view_name": "ProgressView",
            "bar_style": "danger",
            "description": "",
            "description_tooltip": null,
            "layout": "IPY_MODEL_0a747e14629a4783b9ae6e1b0f371d14",
            "max": 1,
            "min": 0,
            "orientation": "horizontal",
            "style": "IPY_MODEL_bdeda48d957d449fb16d2f2642d5be9e",
            "value": 1
          }
        },
        "43f0fc9284ff44b09c8e195e315fb659": {
          "model_module": "@jupyter-widgets/controls",
          "model_name": "HTMLModel",
          "model_module_version": "1.5.0",
          "state": {
            "_dom_classes": [],
            "_model_module": "@jupyter-widgets/controls",
            "_model_module_version": "1.5.0",
            "_model_name": "HTMLModel",
            "_view_count": null,
            "_view_module": "@jupyter-widgets/controls",
            "_view_module_version": "1.5.0",
            "_view_name": "HTMLView",
            "description": "",
            "description_tooltip": null,
            "layout": "IPY_MODEL_5f9ff6a145bf4d28b1faba5ec32d69f6",
            "placeholder": "​",
            "style": "IPY_MODEL_5dc51677a21e4807a6e7b82329c440c3",
            "value": " 1000/? [01:07&lt;00:00,  9.67it/s]"
          }
        },
        "7252f372f95548b1abc452be3bf5f6c6": {
          "model_module": "@jupyter-widgets/base",
          "model_name": "LayoutModel",
          "model_module_version": "1.2.0",
          "state": {
            "_model_module": "@jupyter-widgets/base",
            "_model_module_version": "1.2.0",
            "_model_name": "LayoutModel",
            "_view_count": null,
            "_view_module": "@jupyter-widgets/base",
            "_view_module_version": "1.2.0",
            "_view_name": "LayoutView",
            "align_content": null,
            "align_items": null,
            "align_self": null,
            "border": null,
            "bottom": null,
            "display": null,
            "flex": null,
            "flex_flow": null,
            "grid_area": null,
            "grid_auto_columns": null,
            "grid_auto_flow": null,
            "grid_auto_rows": null,
            "grid_column": null,
            "grid_gap": null,
            "grid_row": null,
            "grid_template_areas": null,
            "grid_template_columns": null,
            "grid_template_rows": null,
            "height": null,
            "justify_content": null,
            "justify_items": null,
            "left": null,
            "margin": null,
            "max_height": null,
            "max_width": null,
            "min_height": null,
            "min_width": null,
            "object_fit": null,
            "object_position": null,
            "order": null,
            "overflow": null,
            "overflow_x": null,
            "overflow_y": null,
            "padding": null,
            "right": null,
            "top": null,
            "visibility": null,
            "width": null
          }
        },
        "d020c8c7193b400490412ac26e91d74b": {
          "model_module": "@jupyter-widgets/base",
          "model_name": "LayoutModel",
          "model_module_version": "1.2.0",
          "state": {
            "_model_module": "@jupyter-widgets/base",
            "_model_module_version": "1.2.0",
            "_model_name": "LayoutModel",
            "_view_count": null,
            "_view_module": "@jupyter-widgets/base",
            "_view_module_version": "1.2.0",
            "_view_name": "LayoutView",
            "align_content": null,
            "align_items": null,
            "align_self": null,
            "border": null,
            "bottom": null,
            "display": null,
            "flex": null,
            "flex_flow": null,
            "grid_area": null,
            "grid_auto_columns": null,
            "grid_auto_flow": null,
            "grid_auto_rows": null,
            "grid_column": null,
            "grid_gap": null,
            "grid_row": null,
            "grid_template_areas": null,
            "grid_template_columns": null,
            "grid_template_rows": null,
            "height": null,
            "justify_content": null,
            "justify_items": null,
            "left": null,
            "margin": null,
            "max_height": null,
            "max_width": null,
            "min_height": null,
            "min_width": null,
            "object_fit": null,
            "object_position": null,
            "order": null,
            "overflow": null,
            "overflow_x": null,
            "overflow_y": null,
            "padding": null,
            "right": null,
            "top": null,
            "visibility": null,
            "width": null
          }
        },
        "184d83e061bc4754a6d8f27b3b2d028c": {
          "model_module": "@jupyter-widgets/controls",
          "model_name": "DescriptionStyleModel",
          "model_module_version": "1.5.0",
          "state": {
            "_model_module": "@jupyter-widgets/controls",
            "_model_module_version": "1.5.0",
            "_model_name": "DescriptionStyleModel",
            "_view_count": null,
            "_view_module": "@jupyter-widgets/base",
            "_view_module_version": "1.2.0",
            "_view_name": "StyleView",
            "description_width": ""
          }
        },
        "0a747e14629a4783b9ae6e1b0f371d14": {
          "model_module": "@jupyter-widgets/base",
          "model_name": "LayoutModel",
          "model_module_version": "1.2.0",
          "state": {
            "_model_module": "@jupyter-widgets/base",
            "_model_module_version": "1.2.0",
            "_model_name": "LayoutModel",
            "_view_count": null,
            "_view_module": "@jupyter-widgets/base",
            "_view_module_version": "1.2.0",
            "_view_name": "LayoutView",
            "align_content": null,
            "align_items": null,
            "align_self": null,
            "border": null,
            "bottom": null,
            "display": null,
            "flex": null,
            "flex_flow": null,
            "grid_area": null,
            "grid_auto_columns": null,
            "grid_auto_flow": null,
            "grid_auto_rows": null,
            "grid_column": null,
            "grid_gap": null,
            "grid_row": null,
            "grid_template_areas": null,
            "grid_template_columns": null,
            "grid_template_rows": null,
            "height": null,
            "justify_content": null,
            "justify_items": null,
            "left": null,
            "margin": null,
            "max_height": null,
            "max_width": null,
            "min_height": null,
            "min_width": null,
            "object_fit": null,
            "object_position": null,
            "order": null,
            "overflow": null,
            "overflow_x": null,
            "overflow_y": null,
            "padding": null,
            "right": null,
            "top": null,
            "visibility": null,
            "width": "20px"
          }
        },
        "bdeda48d957d449fb16d2f2642d5be9e": {
          "model_module": "@jupyter-widgets/controls",
          "model_name": "ProgressStyleModel",
          "model_module_version": "1.5.0",
          "state": {
            "_model_module": "@jupyter-widgets/controls",
            "_model_module_version": "1.5.0",
            "_model_name": "ProgressStyleModel",
            "_view_count": null,
            "_view_module": "@jupyter-widgets/base",
            "_view_module_version": "1.2.0",
            "_view_name": "StyleView",
            "bar_color": null,
            "description_width": ""
          }
        },
        "5f9ff6a145bf4d28b1faba5ec32d69f6": {
          "model_module": "@jupyter-widgets/base",
          "model_name": "LayoutModel",
          "model_module_version": "1.2.0",
          "state": {
            "_model_module": "@jupyter-widgets/base",
            "_model_module_version": "1.2.0",
            "_model_name": "LayoutModel",
            "_view_count": null,
            "_view_module": "@jupyter-widgets/base",
            "_view_module_version": "1.2.0",
            "_view_name": "LayoutView",
            "align_content": null,
            "align_items": null,
            "align_self": null,
            "border": null,
            "bottom": null,
            "display": null,
            "flex": null,
            "flex_flow": null,
            "grid_area": null,
            "grid_auto_columns": null,
            "grid_auto_flow": null,
            "grid_auto_rows": null,
            "grid_column": null,
            "grid_gap": null,
            "grid_row": null,
            "grid_template_areas": null,
            "grid_template_columns": null,
            "grid_template_rows": null,
            "height": null,
            "justify_content": null,
            "justify_items": null,
            "left": null,
            "margin": null,
            "max_height": null,
            "max_width": null,
            "min_height": null,
            "min_width": null,
            "object_fit": null,
            "object_position": null,
            "order": null,
            "overflow": null,
            "overflow_x": null,
            "overflow_y": null,
            "padding": null,
            "right": null,
            "top": null,
            "visibility": null,
            "width": null
          }
        },
        "5dc51677a21e4807a6e7b82329c440c3": {
          "model_module": "@jupyter-widgets/controls",
          "model_name": "DescriptionStyleModel",
          "model_module_version": "1.5.0",
          "state": {
            "_model_module": "@jupyter-widgets/controls",
            "_model_module_version": "1.5.0",
            "_model_name": "DescriptionStyleModel",
            "_view_count": null,
            "_view_module": "@jupyter-widgets/base",
            "_view_module_version": "1.2.0",
            "_view_name": "StyleView",
            "description_width": ""
          }
        }
      }
    }
  },
  "cells": [
    {
      "cell_type": "code",
      "source": [
        "import numpy as np\n",
        "from numpy.linalg import norm\n",
        "import re\n",
        "import razdel\n",
        "import spacy\n",
        "import pymorphy2\n",
        "from collections import Counter\n",
        "from tqdm.notebook import tqdm\n",
        "from summa.summarizer import summarize\n",
        "from itertools import combinations\n",
        "import networkx as nx"
      ],
      "metadata": {
        "id": "6zY6O8GFCv83"
      },
      "execution_count": null,
      "outputs": []
    },
    {
      "cell_type": "code",
      "source": [
        "from sumy.summarizers.lsa import LsaSummarizer\n",
        "from sumy.nlp.tokenizers import Tokenizer\n",
        "from sumy.parsers.plaintext import PlaintextParser"
      ],
      "metadata": {
        "id": "H18UBbG0E7dM"
      },
      "execution_count": null,
      "outputs": []
    },
    {
      "cell_type": "code",
      "source": [
        "from nltk.translate.bleu_score import corpus_bleu\n",
        "import nltk; nltk.download('punkt');\n",
        "from rouge import Rouge"
      ],
      "metadata": {
        "id": "eO9UlFFgPzV5"
      },
      "execution_count": null,
      "outputs": []
    },
    {
      "cell_type": "code",
      "source": [
        "from google.colab import files\n",
        "uploaded = files.upload()"
      ],
      "metadata": {
        "colab": {
          "base_uri": "https://localhost:8080/",
          "height": 73
        },
        "id": "Yq7cmWtSqMsg",
        "outputId": "ff0cc56d-177e-49ce-e23c-6b4c611bfa5d"
      },
      "execution_count": null,
      "outputs": [
        {
          "output_type": "display_data",
          "data": {
            "text/plain": [
              "<IPython.core.display.HTML object>"
            ],
            "text/html": [
              "\n",
              "     <input type=\"file\" id=\"files-4ad453d4-16b4-4cfc-a022-e02dea96b870\" name=\"files[]\" multiple disabled\n",
              "        style=\"border:none\" />\n",
              "     <output id=\"result-4ad453d4-16b4-4cfc-a022-e02dea96b870\">\n",
              "      Upload widget is only available when the cell has been executed in the\n",
              "      current browser session. Please rerun this cell to enable.\n",
              "      </output>\n",
              "      <script>// Copyright 2017 Google LLC\n",
              "//\n",
              "// Licensed under the Apache License, Version 2.0 (the \"License\");\n",
              "// you may not use this file except in compliance with the License.\n",
              "// You may obtain a copy of the License at\n",
              "//\n",
              "//      http://www.apache.org/licenses/LICENSE-2.0\n",
              "//\n",
              "// Unless required by applicable law or agreed to in writing, software\n",
              "// distributed under the License is distributed on an \"AS IS\" BASIS,\n",
              "// WITHOUT WARRANTIES OR CONDITIONS OF ANY KIND, either express or implied.\n",
              "// See the License for the specific language governing permissions and\n",
              "// limitations under the License.\n",
              "\n",
              "/**\n",
              " * @fileoverview Helpers for google.colab Python module.\n",
              " */\n",
              "(function(scope) {\n",
              "function span(text, styleAttributes = {}) {\n",
              "  const element = document.createElement('span');\n",
              "  element.textContent = text;\n",
              "  for (const key of Object.keys(styleAttributes)) {\n",
              "    element.style[key] = styleAttributes[key];\n",
              "  }\n",
              "  return element;\n",
              "}\n",
              "\n",
              "// Max number of bytes which will be uploaded at a time.\n",
              "const MAX_PAYLOAD_SIZE = 100 * 1024;\n",
              "\n",
              "function _uploadFiles(inputId, outputId) {\n",
              "  const steps = uploadFilesStep(inputId, outputId);\n",
              "  const outputElement = document.getElementById(outputId);\n",
              "  // Cache steps on the outputElement to make it available for the next call\n",
              "  // to uploadFilesContinue from Python.\n",
              "  outputElement.steps = steps;\n",
              "\n",
              "  return _uploadFilesContinue(outputId);\n",
              "}\n",
              "\n",
              "// This is roughly an async generator (not supported in the browser yet),\n",
              "// where there are multiple asynchronous steps and the Python side is going\n",
              "// to poll for completion of each step.\n",
              "// This uses a Promise to block the python side on completion of each step,\n",
              "// then passes the result of the previous step as the input to the next step.\n",
              "function _uploadFilesContinue(outputId) {\n",
              "  const outputElement = document.getElementById(outputId);\n",
              "  const steps = outputElement.steps;\n",
              "\n",
              "  const next = steps.next(outputElement.lastPromiseValue);\n",
              "  return Promise.resolve(next.value.promise).then((value) => {\n",
              "    // Cache the last promise value to make it available to the next\n",
              "    // step of the generator.\n",
              "    outputElement.lastPromiseValue = value;\n",
              "    return next.value.response;\n",
              "  });\n",
              "}\n",
              "\n",
              "/**\n",
              " * Generator function which is called between each async step of the upload\n",
              " * process.\n",
              " * @param {string} inputId Element ID of the input file picker element.\n",
              " * @param {string} outputId Element ID of the output display.\n",
              " * @return {!Iterable<!Object>} Iterable of next steps.\n",
              " */\n",
              "function* uploadFilesStep(inputId, outputId) {\n",
              "  const inputElement = document.getElementById(inputId);\n",
              "  inputElement.disabled = false;\n",
              "\n",
              "  const outputElement = document.getElementById(outputId);\n",
              "  outputElement.innerHTML = '';\n",
              "\n",
              "  const pickedPromise = new Promise((resolve) => {\n",
              "    inputElement.addEventListener('change', (e) => {\n",
              "      resolve(e.target.files);\n",
              "    });\n",
              "  });\n",
              "\n",
              "  const cancel = document.createElement('button');\n",
              "  inputElement.parentElement.appendChild(cancel);\n",
              "  cancel.textContent = 'Cancel upload';\n",
              "  const cancelPromise = new Promise((resolve) => {\n",
              "    cancel.onclick = () => {\n",
              "      resolve(null);\n",
              "    };\n",
              "  });\n",
              "\n",
              "  // Wait for the user to pick the files.\n",
              "  const files = yield {\n",
              "    promise: Promise.race([pickedPromise, cancelPromise]),\n",
              "    response: {\n",
              "      action: 'starting',\n",
              "    }\n",
              "  };\n",
              "\n",
              "  cancel.remove();\n",
              "\n",
              "  // Disable the input element since further picks are not allowed.\n",
              "  inputElement.disabled = true;\n",
              "\n",
              "  if (!files) {\n",
              "    return {\n",
              "      response: {\n",
              "        action: 'complete',\n",
              "      }\n",
              "    };\n",
              "  }\n",
              "\n",
              "  for (const file of files) {\n",
              "    const li = document.createElement('li');\n",
              "    li.append(span(file.name, {fontWeight: 'bold'}));\n",
              "    li.append(span(\n",
              "        `(${file.type || 'n/a'}) - ${file.size} bytes, ` +\n",
              "        `last modified: ${\n",
              "            file.lastModifiedDate ? file.lastModifiedDate.toLocaleDateString() :\n",
              "                                    'n/a'} - `));\n",
              "    const percent = span('0% done');\n",
              "    li.appendChild(percent);\n",
              "\n",
              "    outputElement.appendChild(li);\n",
              "\n",
              "    const fileDataPromise = new Promise((resolve) => {\n",
              "      const reader = new FileReader();\n",
              "      reader.onload = (e) => {\n",
              "        resolve(e.target.result);\n",
              "      };\n",
              "      reader.readAsArrayBuffer(file);\n",
              "    });\n",
              "    // Wait for the data to be ready.\n",
              "    let fileData = yield {\n",
              "      promise: fileDataPromise,\n",
              "      response: {\n",
              "        action: 'continue',\n",
              "      }\n",
              "    };\n",
              "\n",
              "    // Use a chunked sending to avoid message size limits. See b/62115660.\n",
              "    let position = 0;\n",
              "    do {\n",
              "      const length = Math.min(fileData.byteLength - position, MAX_PAYLOAD_SIZE);\n",
              "      const chunk = new Uint8Array(fileData, position, length);\n",
              "      position += length;\n",
              "\n",
              "      const base64 = btoa(String.fromCharCode.apply(null, chunk));\n",
              "      yield {\n",
              "        response: {\n",
              "          action: 'append',\n",
              "          file: file.name,\n",
              "          data: base64,\n",
              "        },\n",
              "      };\n",
              "\n",
              "      let percentDone = fileData.byteLength === 0 ?\n",
              "          100 :\n",
              "          Math.round((position / fileData.byteLength) * 100);\n",
              "      percent.textContent = `${percentDone}% done`;\n",
              "\n",
              "    } while (position < fileData.byteLength);\n",
              "  }\n",
              "\n",
              "  // All done.\n",
              "  yield {\n",
              "    response: {\n",
              "      action: 'complete',\n",
              "    }\n",
              "  };\n",
              "}\n",
              "\n",
              "scope.google = scope.google || {};\n",
              "scope.google.colab = scope.google.colab || {};\n",
              "scope.google.colab._files = {\n",
              "  _uploadFiles,\n",
              "  _uploadFilesContinue,\n",
              "};\n",
              "})(self);\n",
              "</script> "
            ]
          },
          "metadata": {}
        },
        {
          "output_type": "stream",
          "name": "stdout",
          "text": [
            "Saving text.txt to text (2).txt\n"
          ]
        }
      ]
    },
    {
      "cell_type": "markdown",
      "source": [
        "**Сравним работу трёх известных алгоритмов суммаризации текста на примере какой-либо новостной статьи.**"
      ],
      "metadata": {
        "id": "ncYbcRkY1433"
      }
    },
    {
      "cell_type": "code",
      "source": [
        "for f in uploaded.keys():\n",
        "    file = open(f, 'r', encoding='ср-1251')\n",
        "    lines = file.read(6000)"
      ],
      "metadata": {
        "id": "fwJ46OH70pNn"
      },
      "execution_count": null,
      "outputs": []
    },
    {
      "cell_type": "code",
      "source": [],
      "metadata": {
        "id": "J8LC0qXg27pr"
      },
      "execution_count": null,
      "outputs": []
    },
    {
      "cell_type": "code",
      "source": [
        "lines = lines.replace('\\n\\n', ' ')\n",
        "lines"
      ],
      "metadata": {
        "id": "caqxKonaHufM",
        "colab": {
          "base_uri": "https://localhost:8080/",
          "height": 140
        },
        "outputId": "5945b1b4-5239-4493-ccd1-2a74edf92ea7"
      },
      "execution_count": null,
      "outputs": [
        {
          "output_type": "execute_result",
          "data": {
            "text/plain": [
              "'По сообщениям Роскосмоса, российская космическая станция «Луна-25» перешла на нерасчетную орбиту и столкнулась с Луной, прекратив свое существование. Специалисты считают, что это очень большая потеря для отечественной космонавтики. По данным инсайдеров, случилось примерно следующее: станции был задан тормозной импульс для того, чтобы немного уменьшить периселений - лунный перигей (ближайшая к Луне точка орбиты ее искусственного спутника). Это было необходимо для приближения момента удачной посадки. Однако двигательная установка отработала импульс неправильно, похоже, что в полтора раза больше положенного. Если это действительно так, то станция могла выйти на незамкнутую орбиту снижения, то есть прямой наводкой на Луну... В миссии «Луна-25» были поставлены как научные, так и более практические задачи. Первые связаны с разработкой проблем происхождения и эволюции Луны, вторые - с возможностью освоения Луны в будущем. Главной задачей экспедиции была отработка технологии мягкой посадки возле Южного полюса, чтобы создать задел для будущих миссий. Как отмечали в Роскосмосе, критическую важность мягкой посадки уже показал опыт других стран: в апреле при посадке на Луну разбился японский лунный модуль Hakuto-R, на борту которого находился луноход ОАЭ Rashid, а в 2019-м при ударе о лунную поверхность потерпел крушение и индийский аппарат «Чандраян-2». Посадочный аппарат «Луны-25» должен был исследовать поверхность в районе Южного полюса. Основная задача - поиск воды. Если когда-нибудь ее найдут, это освободит космические миссии от необходимости доставлять воду с Земли, а в перспективе она может понадобиться в качестве сырья для создания ракетного топлива (с помощью тока воду можно расщепить на кислород и водород). Но пока ничего из этого не удалось... Катастрофа вдруг напомнила, что прошлый полет к Луне был аж в 1976 году. 47 лет назад! Этот потрясающий факт очень наглядно показывает отношение нынешнего государства к лунным программам и в целом к освоению космоса! По свидетельству экспертов, РФ с начала 90-х фактически прекратила развитие космической отрасли. По сути, с 1992 по 2015 год страна превратилась в космического таксиста. Вся космическая программа остановилась на запусках к станции «Мир», а потом МКС, на выводе спутников разных стран на орбиту Земли. За эти годы не было новых российских научных программ по освоению космоса, разработки новых космических кораблей для полетов в космос и к той же Луне. Россия просто участвовала в международных программах, пока нам это позволяли. За это время пара миллиардеров в США организовала, развила и успешно использует свои собственные космические программы. А российские миллиардеры занимались скупкой яхт и иностранной недвижимости, выводя средства из страны! И государство этому не препятствовало. Роскосмос стал государственной корпорацией в 2015 году путем преобразования Федерального космического агентства. Тогда это решение многим показалось спорным. Бюджетные деньги как только попадают в госкорпорацию, становятся частью ее уставного капитала и переходят в частную собственность. На этом госконтроль заканчивается. «Получается, что госкорпорация в нашей стране — это плавный переход от государственного управления к частному, - отмечал бывший глава Счетной палаты Сергей Степашин. - Но космос нельзя отдавать в частные руки. А значит, вариант с созданием отдельного акционерного общества в роли заказчика недопустим». Казенные средства, которые попадают в госкорпорацию, фактически растворяются в ней. Заинтересованные круги пролоббировали идею космической госкорпорации, что и предопределило судьбу нашей некогда славной космической отрасли. Помнится, бывший глава госкорпорации Дмитрий Рогозин хвастал президенту, что в 2019 году Роскосмос планирует вдвое нарастить число запусков: «В 2019 году 45 пусков предстоит - увеличение более чем в два раза. Нагрузка большая, но я считаю, что мы с ней справимся». Соврал! Следующий, 2020 год стал «рекордным» для отрасли - состоялось лишь 17 космических пусков. Меньше стартов было только на заре космонавтики с 1957 по 1961 год - от двух до девяти ежегодно. Увы, некогда лучший в мире космический комплекс, гордость страны, создававшийся поколениями замечательных советских конструкторов, инженеров, рабочих, оказался в собственности некой госкорпорации, где его стали растаскивать... Все это происходит на фоне хронического недофинансирования российской науки. В РФ на эти цели тратится 0,2% ВВП, что меньше, чем в странах Европы, которые в космос не летают. Российский хай-тек живет в условиях инвестиционного голода. По итогам 2021 года в высокотехнологичные компании в стране было вложено всего 800 млн долларов — это в 442 раза меньше, чем в США, в 114 раз меньше, чем в Китае, и в 69 раз меньше, чем в Великобритании. Сможем мы с ними конкурировать в космосе?! Руководство РАН постоянно призывает правительство увеличить капвложения в науку, но власти его не слышат. Как не слышат и заявлений о том, что за последние несколько лет из России уехали десятки тысяч молодых ученых. Кто будет завтра осваивать космос? Напрашивается вывод, что катастрофа «Луны-25» — это не просто ошибка операторов или отказ техники. Это системный сбой, причины которого лежат глубоко.'"
            ],
            "application/vnd.google.colaboratory.intrinsic+json": {
              "type": "string"
            }
          },
          "metadata": {},
          "execution_count": 49
        }
      ]
    },
    {
      "cell_type": "markdown",
      "source": [
        "## Метод Луна"
      ],
      "metadata": {
        "id": "dfbD61LxzvWU"
      }
    },
    {
      "cell_type": "code",
      "source": [
        "BAD_POS = (\"PREP\", \"NPRO\", \"CONJ\", \"PRCL\", \"NUMR\", \"PRED\", \"INTJ\", \"PUNCT\", \"CCONJ\", \"ADP\", \"DET\", \"ADV\")\n",
        "spacy_model = spacy.load(\"ru_core_news_md\")\n",
        "\n",
        "def sentenize(text):\n",
        "    return [s.text for s in razdel.sentenize(text)]\n",
        "\n",
        "\n",
        "def tokenize_sentence(sentence):\n",
        "    sentence = sentence.strip().replace(\"\\xa0\", \"\")\n",
        "    tokens = [token.lemma_ for token in spacy_model(sentence) if token.pos_ not in BAD_POS]\n",
        "    tokens = [token for token in tokens if len(token) > 2]\n",
        "    return tokens\n",
        "\n",
        "def tokenize_text(text):\n",
        "    all_tokens = []\n",
        "    for sentence in sentenize(text):\n",
        "        all_tokens.extend(tokenize_sentence(sentence))\n",
        "    return all_tokens\n",
        "\n",
        "text = lines\n",
        "sentences = sentenize(text)\n",
        "print(tokenize_sentence(sentences[0]))\n",
        "print(tokenize_text(text))"
      ],
      "metadata": {
        "colab": {
          "base_uri": "https://localhost:8080/"
        },
        "id": "RZzNn1VCxu_V",
        "outputId": "afd352b0-e553-4dc8-b82c-588b08accd25"
      },
      "execution_count": null,
      "outputs": [
        {
          "output_type": "stream",
          "name": "stdout",
          "text": [
            "['сообщение', 'роскосмос', 'российский', 'космический', 'станция', 'луна-25', 'перейти', 'нерасчётный', 'орбита', 'столкнуться', 'луна', 'прекратить', 'существование']\n",
            "['сообщение', 'роскосмос', 'российский', 'космический', 'станция', 'луна-25', 'перейти', 'нерасчётный', 'орбита', 'столкнуться', 'луна', 'прекратить', 'существование', 'специалист', 'считать', 'что', 'это', 'больший', 'потеря', 'отечественный', 'космонавтика', 'данным', 'инсайдер', 'случиться', 'следующий', 'станция', 'быть', 'задать', 'тормозной', 'импульс', 'того', 'чтобы', 'уменьшить', 'периселений', 'лунный', 'перигей', 'близкий', 'луна', 'точка', 'орбита', 'искусственный', 'спутник', 'это', 'было', 'необходимый', 'приближение', 'момент', 'удачный', 'посадка', 'двигательный', 'установка', 'отработать', 'импульс', 'похожий', 'что', 'полтора', 'раз', 'больше', 'положенный', 'если', 'это', 'станция', 'мочь', 'выйти', 'незамкнутый', 'орбита', 'снижение', 'быть', 'прямой', 'наводка', 'луна', 'миссия', 'луна-25', 'были', 'поставить', 'как', 'научный', 'практический', 'задача', 'первый', 'связать', 'разработка', 'проблема', 'происхождение', 'эволюция', 'луна', 'второй', 'возможность', 'освоение', 'луна', 'будущее', 'главный', 'задача', 'экспедиция', 'быть', 'отработка', 'технология', 'мягкий', 'посадка', 'южный', 'полюс', 'чтобы', 'создать', 'задел', 'будущий', 'миссия', 'как', 'отмечать', 'роскосмос', 'критический', 'важность', 'мягкий', 'посадка', 'показать', 'опыт', 'других', 'страна', 'апрель', 'посадка', 'луна', 'разбиться', 'японский', 'лунный', 'модуль', 'hakuto', 'борт', 'которого', 'находиться', 'луноход', 'оаэ', 'rashid', '2019-м', 'удар', 'лунный', 'поверхность', 'потерпеть', 'крушение', 'индийский', 'аппарат', 'чандраян-2', 'посадочный', 'аппарат', 'луны-25', 'должный', 'быть', 'исследовать', 'поверхность', 'район', 'южный', 'полюс', 'основный', 'задача', 'поиск', 'вода', 'если', 'найти', 'это', 'освободить', 'космический', 'миссия', 'необходимость', 'доставлять', 'вода', 'земля', 'перспектива', 'она', 'мочь', 'понадобиться', 'качество', 'сырьё', 'создание', 'ракетный', 'топливо', 'помощь', 'ток', 'вода', 'расщепить', 'кислород', 'водород', 'ничто', 'это', 'удаться', 'катастрофа', 'напомнить', 'что', 'прошлый', 'полёт', 'луна', 'быть', '1976', 'год', 'год', 'потрясающий', 'факт', 'показывать', 'отношение', 'нынешний', 'государство', 'лунный', 'программа', 'целое', 'освоение', 'космос', 'свидетельство', 'эксперт', 'начало', '90-й', 'прекратить', 'развитие', 'космический', 'отрасль', 'суть', '1992', '2015', 'год', 'страна', 'превратиться', 'космический', 'таксист', 'космический', 'программа', 'остановиться', 'запуск', 'станция', 'мир', 'мкс', 'вывод', 'спутник', 'разный', 'страна', 'орбита', 'земля', 'год', 'быть', 'новый', 'российский', 'научный', 'программа', 'освоение', 'космос', 'разработка', 'новый', 'космический', 'корабль', 'полёт', 'космос', 'луна', 'россия', 'просто', 'участвовать', 'международный', 'программа', 'пока', 'нам', 'это', 'позволять', 'время', 'пара', 'миллиардер', 'сша', 'организовать', 'развить', 'использовать', 'собственный', 'космический', 'программа', 'российский', 'миллиардер', 'заниматься', 'скупка', 'яхта', 'иностранный', 'недвижимость', 'выводить', 'средство', 'страна', 'государство', 'это', 'препятствовать', 'роскосмос', 'стать', 'государственный', 'корпорация', '2015', 'год', 'преобразование', 'федеральный', 'космический', 'агентство', 'решение', 'многим', 'показаться', 'спорный', 'бюджетный', 'деньга', 'как', 'только', 'попадать', 'госкорпорация', 'становиться', 'часть', 'уставный', 'капитал', 'переходить', 'частный', 'собственность', 'это', 'госконтроль', 'заканчиваться', 'получаться', 'что', 'госкорпорация', 'страна', 'это', 'плавный', 'переход', 'государственный', 'управление', 'частный', 'отмечать', 'бывший', 'глава', 'счётный', 'палата', 'сергей', 'степашин', 'космос', 'отдавать', 'частный', 'рука', 'значить', 'вариант', 'создание', 'отдельный', 'акционерный', 'общество', 'роль', 'заказчик', 'недопустимый', 'казённый', 'средство', 'которые', 'попадать', 'госкорпорация', 'растворяться', 'ней', 'заинтересованный', 'круг', 'пролоббировали', 'идея', 'космический', 'госкорпорация', 'что', 'предопределить', 'судьба', 'славный', 'космический', 'отрасль', 'помниться', 'бывший', 'глава', 'госкорпорация', 'дмитрий', 'рогозин', 'хвастать', 'президент', 'что', '2019', 'год', 'роскосмос', 'планировать', 'нарастить', 'число', 'запуск', '2019', 'год', 'пуск', 'предстоять', 'увеличение', 'чем', 'два', 'раз', 'нагрузка', 'больший', 'считать', 'что', 'ней', 'справиться', 'соврал', 'следующий', '2020', 'год', 'стать', 'рекордный', 'отрасль', 'состояться', 'лишь', 'космический', 'пуск', 'меньше', 'старт', 'было', 'только', 'заря', 'космонавтика', '1957', '1961', 'год', 'два', 'девять', 'хороший', 'мир', 'космический', 'комплекс', 'гордость', 'страна', 'создаваться', 'поколение', 'замечательный', 'советский', 'конструктор', 'инженер', 'рабочий', 'оказаться', 'собственность', 'госкорпорация', 'его', 'стать', 'растаскивать', 'это', 'происходить', 'фон', 'хронический', 'недофинансирование', 'российский', 'наука', 'цель', 'тратиться', '0,2', 'ввп', 'что', 'меньше', 'чем', 'страна', 'европа', 'которые', 'космос', 'летать', 'российский', 'хай', 'тек', 'жить', 'условие', 'инвестиционный', 'голод', 'итог', '2021', 'год', 'высокотехнологичный', 'компания', 'страна', 'было', 'вложить', 'всего', '800', 'млн', 'доллар', 'это', '442', 'раз', 'меньше', 'чем', 'сша', '114', 'раз', 'меньше', 'чем', 'китай', 'раз', 'меньше', 'чем', 'великобритания', 'смочь', 'ними', 'конкурировать', 'космос', 'руководство', 'ран', 'призывать', 'правительство', 'увеличить', 'капвложение', 'наука', 'власть', 'его', 'слышать', 'как', 'слышать', 'заявление', 'том', 'что', 'последний', 'несколько', 'год', 'россия', 'уехать', 'десяток', 'тысяча', 'молодой', 'учёный', 'кто', 'быть', 'осваивать', 'космос', 'напрашиваться', 'вывод', 'что', 'катастрофа', 'луны-25', 'это', 'просто', 'ошибка', 'оператор', 'отказ', 'техника', 'это', 'системный', 'сбой', 'причина', 'которого', 'лежать']\n"
          ]
        }
      ]
    },
    {
      "cell_type": "code",
      "source": [
        "class LuhnSummarizer:\n",
        "\n",
        "    def __init__(\n",
        "        self,\n",
        "        significant_percentage = 0.4,\n",
        "        min_token_freq = 2,\n",
        "        max_gap_size = 4,\n",
        "        verbose = False\n",
        "    ):\n",
        "        self.significant_percentage = significant_percentage\n",
        "        self.min_token_freq = min_token_freq\n",
        "        self.max_gap_size = max_gap_size\n",
        "        self.chunk_ending_mask = [0] * self.max_gap_size\n",
        "        self.verbose = verbose\n",
        "\n",
        "    def __call__(self, text, target_sentences_count):\n",
        "\n",
        "        all_significant_tokens = self._get_significant_tokens(text)\n",
        "        if self.verbose:\n",
        "            print(\"Значимые токены: \", all_significant_tokens)\n",
        "\n",
        "        ratings = []\n",
        "        for sentence_index, sentence in enumerate(sentenize(text)):\n",
        "\n",
        "            sentence_rating = self._get_chunk_ratings(sentence, all_significant_tokens)\n",
        "            if self.verbose:\n",
        "                print(\"\\tПРЕДЛОЖЕНИЕ. Значимость: {}, текст: {}\".format(sentence_rating, sentence))\n",
        "            ratings.append((sentence_rating, sentence_index))\n",
        "\n",
        "        ratings.sort(reverse=True)\n",
        "\n",
        "        ratings = ratings[:target_sentences_count]\n",
        "        indices = [index for _, index in ratings]\n",
        "        indices.sort()\n",
        "        return \" \".join([sentences[index] for index in indices])\n",
        "\n",
        "    def _get_significant_tokens(self, text):\n",
        "\n",
        "        tokens_counter = Counter(tokenize_text(text))\n",
        "        significant_tokens_max_count = int(len(tokens_counter) * self.significant_percentage)\n",
        "        significant_tokens = tokens_counter.most_common(significant_tokens_max_count)\n",
        "        significant_tokens = {token for token, cnt in significant_tokens if cnt >= self.min_token_freq}\n",
        "        return significant_tokens\n",
        "\n",
        "    def _get_chunk_ratings(self, sentence, significant_tokens):\n",
        "\n",
        "        tokens = tokenize_sentence(sentence)\n",
        "\n",
        "        chunks, masks = [], []\n",
        "        in_chunk = False\n",
        "        for token in tokens:\n",
        "            is_significant_token = token in significant_tokens\n",
        "\n",
        "            if is_significant_token and not in_chunk:\n",
        "                in_chunk = True\n",
        "                masks.append([int(is_significant_token)])\n",
        "                chunks.append([token])\n",
        "            elif in_chunk:\n",
        "                last_mask = masks[-1]\n",
        "                last_mask.append(int(is_significant_token))\n",
        "                last_chunk = chunks[-1]\n",
        "                last_chunk.append(token)\n",
        "            if not chunks:\n",
        "                continue\n",
        "\n",
        "            last_chunk_ending_mask = masks[-1][-self.max_gap_size:]\n",
        "            if last_chunk_ending_mask == self.chunk_ending_mask:\n",
        "                in_chunk = False\n",
        "\n",
        "        ratings = []\n",
        "        for chunk, mask in zip(chunks, masks):\n",
        "            rating = self._get_chunk_rating(mask, chunk)\n",
        "            ratings.append(rating)\n",
        "        return ratings\n",
        "\n",
        "    def _get_chunk_rating(self, original_mask, chunk):\n",
        "\n",
        "        original_mask = \"\".join(map(str, original_mask))\n",
        "        mask = original_mask.rstrip(\"0\")\n",
        "\n",
        "        end_index = original_mask.rfind(\"1\") + 1\n",
        "        chunk = chunk[:end_index]\n",
        "        assert len(mask) == len(chunk)\n",
        "        chunk = \" \".join(chunk)\n",
        "\n",
        "        words_count = len(mask)\n",
        "        assert words_count > 0\n",
        "        significant_words_count = mask.count(\"1\")\n",
        "        assert significant_words_count > 0\n",
        "\n",
        "        rating = significant_words_count * significant_words_count / words_count\n",
        "        if self.verbose:\n",
        "            print(\"ПРОМЕЖУТОК. Значимость: {}, маска: {}, текст: {}\".format(rating, mask, chunk))\n",
        "        return rating"
      ],
      "metadata": {
        "id": "6z-h8jeu0nx-"
      },
      "execution_count": null,
      "outputs": []
    },
    {
      "cell_type": "code",
      "source": [
        "luhn = LuhnSummarizer(verbose=False)\n",
        "summary = luhn(text, 3)\n",
        "print(\"Итоговый реферат: {}\".format(summary))"
      ],
      "metadata": {
        "colab": {
          "base_uri": "https://localhost:8080/"
        },
        "id": "rFgB5-8DxvUD",
        "outputId": "1a95b047-501b-4d66-e06a-aa54e5e28ca0"
      },
      "execution_count": null,
      "outputs": [
        {
          "output_type": "stream",
          "name": "stdout",
          "text": [
            "Итоговый реферат: Вся космическая программа остановилась на запусках к станции «Мир», а потом МКС, на выводе спутников разных стран на орбиту Земли. За эти годы не было новых российских научных программ по освоению космоса, разработки новых космических кораблей для полетов в космос и к той же Луне. «Получается, что госкорпорация в нашей стране — это плавный переход от государственного управления к частному, - отмечал бывший глава Счетной палаты Сергей Степашин.\n"
          ]
        }
      ]
    },
    {
      "cell_type": "markdown",
      "source": [
        "**LSA**\n"
      ],
      "metadata": {
        "id": "Cf-O4E6C-4ir"
      }
    },
    {
      "cell_type": "code",
      "source": [
        "def calc_method_score(records, predict_func, nrows=1000):\n",
        "    references = []\n",
        "    predictions = []\n",
        "\n",
        "    for i, record in enumerate(records):\n",
        "        if nrows is not None and i >= nrows:\n",
        "            break\n",
        "\n",
        "        text = lines\n",
        "        prediction = predict_func(text, summary)\n",
        "        references.append(summary)\n",
        "        predictions.append(prediction)\n",
        "\n",
        "    calc_scores(references, predictions)"
      ],
      "metadata": {
        "id": "pybLyP_JDppd"
      },
      "execution_count": null,
      "outputs": []
    },
    {
      "cell_type": "code",
      "source": [
        "def predict_lsa(text, summary, lsa_summarizer, tokenizer, summary_size=3):\n",
        "    parser = PlaintextParser.from_string(text, tokenizer)\n",
        "    predicted_summary = lsa_summarizer(parser.document, summary_size)\n",
        "    predicted_summary = \" \".join([str(s) for s in predicted_summary])\n",
        "    return predicted_summary\n",
        "\n",
        "lsa_summarizer = LsaSummarizer()\n",
        "tokenizer = Tokenizer(\"russian\")\n",
        "calc_method_score(lines, lambda x, y: predict_lsa(x, y, lsa_summarizer, tokenizer))"
      ],
      "metadata": {
        "id": "e5F-wNS5Cy7d",
        "outputId": "e37826f1-d8c5-419e-8637-956764bf553e",
        "colab": {
          "base_uri": "https://localhost:8080/"
        }
      },
      "execution_count": null,
      "outputs": [
        {
          "output_type": "stream",
          "name": "stderr",
          "text": [
            "[nltk_data] Downloading package punkt to /root/nltk_data...\n",
            "[nltk_data]   Package punkt is already up-to-date!\n"
          ]
        },
        {
          "output_type": "stream",
          "name": "stdout",
          "text": [
            "Count: 1000\n",
            "Ref: Вся космическая программа остановилась на запусках к станции «Мир», а потом МКС, на выводе спутников разных стран на орбиту Земли. За эти годы не было новых российских научных программ по освоению космоса, разработки новых космических кораблей для полетов в космос и к той же Луне. «Получается, что госкорпорация в нашей стране — это плавный переход от государственного управления к частному, - отмечал бывший глава Счетной палаты Сергей Степашин.\n",
            "Hyp: По данным инсайдеров, случилось примерно следующее: станции был задан тормозной импульс для того, чтобы немного уменьшить периселений - лунный перигей (ближайшая к Луне точка орбиты ее искусственного спутника). Но пока ничего из этого не удалось... Катастрофа вдруг напомнила, что прошлый полет к Луне был аж в 1976 году. «Получается, что госкорпорация в нашей стране — это плавный переход от государственного управления к частному, - отмечал бывший глава Счетной палаты Сергей Степашин.\n",
            "BLEU:  0.5584443411693834\n",
            "ROUGE:  {'rouge-1': {'r': 0.43548387096774355, 'p': 0.421875, 'f': 0.4285714235726911}, 'rouge-2': {'r': 0.328358208955229, 'p': 0.318840579710145, 'f': 0.32352940676578884}, 'rouge-l': {'r': 0.43548387096774355, 'p': 0.421875, 'f': 0.4285714235726911}}\n"
          ]
        }
      ]
    },
    {
      "cell_type": "markdown",
      "source": [
        "**Summa**"
      ],
      "metadata": {
        "id": "Xo2I6DM8R5uh"
      }
    },
    {
      "cell_type": "code",
      "source": [
        "def calc_scores(references, predictions, metric=\"all\"):\n",
        "    print(\"Count:\", len(predictions))\n",
        "    print(\"Ref:\", references[-1])\n",
        "    print(\"Hyp:\", predictions[-1])\n",
        "\n",
        "    if metric in (\"bleu\", \"all\"):\n",
        "        print(\"BLEU: \", corpus_bleu([[r] for r in references], predictions))\n",
        "    if metric in (\"rouge\", \"all\"):\n",
        "        rouge = Rouge()\n",
        "        scores = rouge.get_scores(predictions, references, avg=True)\n",
        "        print(\"ROUGE: \", scores)"
      ],
      "metadata": {
        "id": "mZHBzROlC86W"
      },
      "execution_count": null,
      "outputs": []
    },
    {
      "cell_type": "code",
      "source": [
        "def calc_summa_score(records, summary_part=0.1, lower=True, nrows=1000):\n",
        "    references = []\n",
        "    predictions = []\n",
        "\n",
        "    for i, record in tqdm(enumerate(records)):\n",
        "        if i >= nrows:\n",
        "            break\n",
        "\n",
        "        references.append(summary)\n",
        "\n",
        "        text = lines\n",
        "        text = text if not lower else text.lower()\n",
        "        predicted_summary = summarize(text, ratio=summary_part, language='russian').replace(\"\\n\", \" \")\n",
        "        predictions.append(predicted_summary)\n",
        "\n",
        "    calc_scores(references, predictions)\n",
        "\n",
        "calc_summa_score(lines)"
      ],
      "metadata": {
        "colab": {
          "base_uri": "https://localhost:8080/",
          "height": 156,
          "referenced_widgets": [
            "44c18b4141a64b6c82e13da2fc1d2962",
            "576b1e27346d4ead87670153837249f3",
            "8e62851e01784a0bb77e059d509ea723",
            "43f0fc9284ff44b09c8e195e315fb659",
            "7252f372f95548b1abc452be3bf5f6c6",
            "d020c8c7193b400490412ac26e91d74b",
            "184d83e061bc4754a6d8f27b3b2d028c",
            "0a747e14629a4783b9ae6e1b0f371d14",
            "bdeda48d957d449fb16d2f2642d5be9e",
            "5f9ff6a145bf4d28b1faba5ec32d69f6",
            "5dc51677a21e4807a6e7b82329c440c3"
          ]
        },
        "id": "B2r8WpLpOoDH",
        "outputId": "207117cb-a8f1-47dd-8f90-95e186249580"
      },
      "execution_count": null,
      "outputs": [
        {
          "output_type": "display_data",
          "data": {
            "text/plain": [
              "0it [00:00, ?it/s]"
            ],
            "application/vnd.jupyter.widget-view+json": {
              "version_major": 2,
              "version_minor": 0,
              "model_id": "44c18b4141a64b6c82e13da2fc1d2962"
            }
          },
          "metadata": {}
        },
        {
          "output_type": "stream",
          "name": "stdout",
          "text": [
            "Count: 1000\n",
            "Ref: Вся космическая программа остановилась на запусках к станции «Мир», а потом МКС, на выводе спутников разных стран на орбиту Земли. За эти годы не было новых российских научных программ по освоению космоса, разработки новых космических кораблей для полетов в космос и к той же Луне. «Получается, что госкорпорация в нашей стране — это плавный переход от государственного управления к частному, - отмечал бывший глава Счетной палаты Сергей Степашин.\n",
            "Hyp: если когда-нибудь ее найдут, это освободит космические миссии от необходимости доставлять воду с земли, а в перспективе она может понадобиться в качестве сырья для создания ракетного топлива (с помощью тока воду можно расщепить на кислород и водород). за эти годы не было новых российских научных программ по освоению космоса, разработки новых космических кораблей для полетов в космос и к той же луне. за это время пара миллиардеров в сша организовала, развила и успешно использует свои собственные космические программы. в рф на эти цели тратится 0,2% ввп, что меньше, чем в странах европы, которые в космос не летают. по итогам 2021 года в высокотехнологичные компании в стране было вложено всего 800 млн долларов — это в 442 раза меньше, чем в сша, в 114 раз меньше, чем в китае, и в 69 раз меньше, чем в великобритании.\n",
            "BLEU:  0.34998160714488835\n",
            "ROUGE:  {'rouge-1': {'r': 0.467741935483859, 'p': 0.29292929292929293, 'f': 0.3602484424690346}, 'rouge-2': {'r': 0.3432835820895545, 'p': 0.18110236220472153, 'f': 0.23711339754012592}, 'rouge-l': {'r': 0.467741935483859, 'p': 0.29292929292929293, 'f': 0.3602484424690346}}\n"
          ]
        }
      ]
    }
  ]
}