{
 "cells": [
  {
   "cell_type": "markdown",
   "id": "7861bd07",
   "metadata": {},
   "source": [
    "### i) Preparation"
   ]
  },
  {
   "cell_type": "code",
   "execution_count": 1,
   "id": "3b8731d7",
   "metadata": {},
   "outputs": [
    {
     "name": "stdout",
     "output_type": "stream",
     "text": [
      "Requirement already satisfied: keras in c:\\programdata\\anaconda3\\lib\\site-packages (2.10.0)\n"
     ]
    }
   ],
   "source": [
    "!pip install keras"
   ]
  },
  {
   "cell_type": "code",
   "execution_count": 2,
   "id": "d489a688",
   "metadata": {},
   "outputs": [],
   "source": [
    "import numpy as np\n",
    "import matplotlib.pyplot as plt"
   ]
  },
  {
   "cell_type": "code",
   "execution_count": 3,
   "id": "ee4c8117",
   "metadata": {},
   "outputs": [],
   "source": [
    "from keras.datasets import mnist"
   ]
  },
  {
   "cell_type": "code",
   "execution_count": 4,
   "id": "951b7b75",
   "metadata": {},
   "outputs": [
    {
     "name": "stdout",
     "output_type": "stream",
     "text": [
      "Downloading data from https://storage.googleapis.com/tensorflow/tf-keras-datasets/mnist.npz\n",
      "11490434/11490434 [==============================] - 5s 0us/step\n"
     ]
    }
   ],
   "source": [
    "(X_train, y_train_labels), (X_test, y_test_labels) = mnist.load_data()"
   ]
  },
  {
   "cell_type": "code",
   "execution_count": 5,
   "id": "f8c4d285",
   "metadata": {},
   "outputs": [
    {
     "data": {
      "text/plain": [
       "((60000, 28, 28), (10000, 28, 28))"
      ]
     },
     "execution_count": 5,
     "metadata": {},
     "output_type": "execute_result"
    }
   ],
   "source": [
    "X_train.shape, X_test.shape\n"
   ]
  },
  {
   "cell_type": "code",
   "execution_count": 6,
   "id": "e52c2773",
   "metadata": {},
   "outputs": [
    {
     "data": {
      "text/plain": [
       "(60000,)"
      ]
     },
     "execution_count": 6,
     "metadata": {},
     "output_type": "execute_result"
    }
   ],
   "source": [
    "y_train_labels.shape"
   ]
  },
  {
   "cell_type": "code",
   "execution_count": 7,
   "id": "72189b09",
   "metadata": {},
   "outputs": [
    {
     "name": "stdout",
     "output_type": "stream",
     "text": [
      "Label is 4\n"
     ]
    },
    {
     "data": {
      "image/png": "[encoded data removed]",
      "text/plain": [
       "<Figure size 432x288 with 1 Axes>"
      ]
     },
     "metadata": {
      "needs_background": "light"
     },
     "output_type": "display_data"
    }
   ],
   "source": [
    "ind = np.random.randint(0, X_train.shape[0])\n",
    "plt.imshow(X_train[ind], cmap='gray')\n",
    "print(f'Label is {y_train_labels[ind]}')"
   ]
  },
  {
   "cell_type": "code",
   "execution_count": 8,
   "id": "75864232",
   "metadata": {},
   "outputs": [
    {
     "data": {
      "text/plain": [
       "(0, 255)"
      ]
     },
     "execution_count": 8,
     "metadata": {},
     "output_type": "execute_result"
    }
   ],
   "source": [
    "X_train.min(), X_train.max()"
   ]
  },
  {
   "cell_type": "code",
   "execution_count": 9,
   "id": "b6d8fde1",
   "metadata": {},
   "outputs": [
    {
     "data": {
      "text/plain": [
       "(0.0, 1.0)"
      ]
     },
     "execution_count": 9,
     "metadata": {},
     "output_type": "execute_result"
    }
   ],
   "source": [
    "X_train = X_train / 255.0\n",
    "X_test = X_test / 255.0\n",
    "X_train.min(), X_train.max()"
   ]
  },
  {
   "cell_type": "code",
   "execution_count": 10,
   "id": "5f5e99b0",
   "metadata": {},
   "outputs": [
    {
     "data": {
      "text/plain": [
       "((60000, 784), (10000, 784))"
      ]
     },
     "execution_count": 10,
     "metadata": {},
     "output_type": "execute_result"
    }
   ],
   "source": [
    "X_train = X_train.reshape((-1, 28 * 28))\n",
    "X_test = X_test.reshape((-1, 28 * 28))\n",
    "\n",
    "X_train.shape, X_test.shape"
   ]
  },
  {
   "cell_type": "markdown",
   "id": "5f325f9a",
   "metadata": {},
   "source": [
    "### ii) model"
   ]
  },
  {
   "cell_type": "code",
   "execution_count": 11,
   "id": "15ef634d",
   "metadata": {},
   "outputs": [],
   "source": [
    "from keras.layers import Dense\n",
    "from keras.models import Sequential"
   ]
  },
  {
   "cell_type": "code",
   "execution_count": 12,
   "id": "67486c14",
   "metadata": {},
   "outputs": [],
   "source": [
    "# Увеличим вдвое кол-во слоёв и поменяем число нейронов в остальных\n",
    "model = Sequential([\n",
    "    Dense(60, input_shape=(28 * 28,), activation='relu'),\n",
    "    Dense(53, activation='tanh'), # поменяли функцию активации\n",
    "    Dense(41, activation='tanh'),\n",
    "    Dense(32, activation='relu'),\n",
    "    Dense(27, activation='relu'),\n",
    "    Dense(10, activation='sigmoid')\n",
    "])"
   ]
  },
  {
   "cell_type": "code",
   "execution_count": 13,
   "id": "9258d3dd",
   "metadata": {},
   "outputs": [
    {
     "name": "stdout",
     "output_type": "stream",
     "text": [
      "Model: \"sequential\"\n",
      "_________________________________________________________________\n",
      " Layer (type)                Output Shape              Param #   \n",
      "=================================================================\n",
      " dense (Dense)               (None, 60)                47100     \n",
      "                                                                 \n",
      " dense_1 (Dense)             (None, 53)                3233      \n",
      "                                                                 \n",
      " dense_2 (Dense)             (None, 41)                2214      \n",
      "                                                                 \n",
      " dense_3 (Dense)             (None, 32)                1344      \n",
      "                                                                 \n",
      " dense_4 (Dense)             (None, 27)                891       \n",
      "                                                                 \n",
      " dense_5 (Dense)             (None, 10)                280       \n",
      "                                                                 \n",
      "=================================================================\n",
      "Total params: 55,062\n",
      "Trainable params: 55,062\n",
      "Non-trainable params: 0\n",
      "_________________________________________________________________\n"
     ]
    }
   ],
   "source": [
    "model.summary()"
   ]
  },
  {
   "cell_type": "markdown",
   "id": "c8d3c749",
   "metadata": {},
   "source": [
    "### iii) Transfer to learning"
   ]
  },
  {
   "cell_type": "code",
   "execution_count": 14,
   "id": "84778294",
   "metadata": {},
   "outputs": [],
   "source": [
    "from keras.utils.np_utils import to_categorical\n",
    "\n",
    "y_train = to_categorical(y_train_labels)\n",
    "y_test = to_categorical(y_test_labels)"
   ]
  },
  {
   "cell_type": "code",
   "execution_count": 15,
   "id": "9e4fe0d8",
   "metadata": {},
   "outputs": [],
   "source": [
    "model.compile(\n",
    "  optimizer='adam',\n",
    "  loss='categorical_crossentropy',\n",
    "  metrics=['accuracy'],\n",
    ")"
   ]
  },
  {
   "cell_type": "code",
   "execution_count": 16,
   "id": "c41ea633",
   "metadata": {},
   "outputs": [
    {
     "name": "stdout",
     "output_type": "stream",
     "text": [
      "Epoch 1/10\n",
      "240/240 [==============================] - 2s 5ms/step - loss: 0.6061 - accuracy: 0.8248 - val_loss: 0.1969 - val_accuracy: 0.9451\n",
      "Epoch 2/10\n",
      "240/240 [==============================] - 1s 4ms/step - loss: 0.1712 - accuracy: 0.9493 - val_loss: 0.1499 - val_accuracy: 0.9563\n",
      "Epoch 3/10\n",
      "240/240 [==============================] - 1s 4ms/step - loss: 0.1187 - accuracy: 0.9647 - val_loss: 0.1300 - val_accuracy: 0.9616\n",
      "Epoch 4/10\n",
      "240/240 [==============================] - 1s 4ms/step - loss: 0.0929 - accuracy: 0.9716 - val_loss: 0.1167 - val_accuracy: 0.9649\n",
      "Epoch 5/10\n",
      "240/240 [==============================] - 1s 4ms/step - loss: 0.0742 - accuracy: 0.9783 - val_loss: 0.1111 - val_accuracy: 0.9660\n",
      "Epoch 6/10\n",
      "240/240 [==============================] - 1s 4ms/step - loss: 0.0639 - accuracy: 0.9804 - val_loss: 0.1077 - val_accuracy: 0.9682\n",
      "Epoch 7/10\n",
      "240/240 [==============================] - 1s 4ms/step - loss: 0.0543 - accuracy: 0.9830 - val_loss: 0.1057 - val_accuracy: 0.9681\n",
      "Epoch 8/10\n",
      "240/240 [==============================] - 1s 4ms/step - loss: 0.0450 - accuracy: 0.9863 - val_loss: 0.1083 - val_accuracy: 0.9683\n",
      "Epoch 9/10\n",
      "240/240 [==============================] - 1s 4ms/step - loss: 0.0402 - accuracy: 0.9878 - val_loss: 0.1104 - val_accuracy: 0.9694\n",
      "Epoch 10/10\n",
      "240/240 [==============================] - 1s 4ms/step - loss: 0.0331 - accuracy: 0.9903 - val_loss: 0.1248 - val_accuracy: 0.9658\n"
     ]
    }
   ],
   "source": [
    "story = model.fit(X_train, y_train,\n",
    "                    epochs=10,          # увеличим число эпох\n",
    "                    batch_size=200,     # уменьшим batch_size\n",
    "                    verbose=1,\n",
    "                    validation_split=0.2)"
   ]
  },
  {
   "cell_type": "code",
   "execution_count": 17,
   "id": "288c659a",
   "metadata": {},
   "outputs": [
    {
     "data": {
      "image/png": "[encoded data removed]",
      "text/plain": [
       "<Figure size 432x288 with 1 Axes>"
      ]
     },
     "metadata": {
      "needs_background": "light"
     },
     "output_type": "display_data"
    }
   ],
   "source": [
    "train_acc = story.history['accuracy']\n",
    "val_acc = story.history['val_accuracy']\n",
    "\n",
    "plt.plot(train_acc, label='train')\n",
    "plt.plot(val_acc, label='val')\n",
    "plt.legend();"
   ]
  },
  {
   "cell_type": "code",
   "execution_count": 18,
   "id": "07863cb6",
   "metadata": {},
   "outputs": [
    {
     "name": "stdout",
     "output_type": "stream",
     "text": [
      "50/50 [==============================] - 0s 2ms/step - loss: 0.1205 - accuracy: 0.9681\n"
     ]
    },
    {
     "data": {
      "text/plain": [
       "(0.12047264724969864, 0.9681000113487244)"
      ]
     },
     "execution_count": 18,
     "metadata": {},
     "output_type": "execute_result"
    }
   ],
   "source": [
    "loss, metric = model.evaluate(X_test, y_test, batch_size=200)\n",
    "loss, metric"
   ]
  },
  {
   "cell_type": "markdown",
   "id": "202c669c",
   "metadata": {},
   "source": [
    "### iv) start neural network"
   ]
  },
  {
   "cell_type": "code",
   "execution_count": 19,
   "id": "b3fba611",
   "metadata": {},
   "outputs": [
    {
     "data": {
      "text/plain": [
       "(1, 784)"
      ]
     },
     "execution_count": 19,
     "metadata": {},
     "output_type": "execute_result"
    }
   ],
   "source": [
    "X_test[0][None].shape"
   ]
  },
  {
   "cell_type": "code",
   "execution_count": 20,
   "id": "12cb17be",
   "metadata": {},
   "outputs": [
    {
     "name": "stdout",
     "output_type": "stream",
     "text": [
      "1/1 [==============================] - 0s 162ms/step\n"
     ]
    },
    {
     "data": {
      "text/plain": [
       "array([[4.3871838e-01, 7.5068615e-02, 4.2886906e-03, 2.9780632e-01,\n",
       "        8.4502906e-01, 1.9753966e-02, 4.1870464e-04, 8.6857653e-01,\n",
       "        9.3025845e-01, 9.9998158e-01]], dtype=float32)"
      ]
     },
     "execution_count": 20,
     "metadata": {},
     "output_type": "execute_result"
    }
   ],
   "source": [
    "predictions = model.predict(X_test[16][None])\n",
    "predictions"
   ]
  },
  {
   "cell_type": "code",
   "execution_count": 21,
   "id": "6a2fc1ab",
   "metadata": {},
   "outputs": [
    {
     "data": {
      "text/plain": [
       "array([9], dtype=int64)"
      ]
     },
     "execution_count": 21,
     "metadata": {},
     "output_type": "execute_result"
    }
   ],
   "source": [
    "pred_labels = np.argmax(predictions, axis=1)\n",
    "pred_labels"
   ]
  },
  {
   "cell_type": "code",
   "execution_count": 22,
   "id": "3f455ea3",
   "metadata": {},
   "outputs": [
    {
     "data": {
      "text/plain": [
       "array([7, 2, 1, 0, 4, 1, 4, 9, 5, 9, 0, 6, 9, 0, 1, 5, 9, 7, 3, 4],\n",
       "      dtype=uint8)"
      ]
     },
     "execution_count": 22,
     "metadata": {},
     "output_type": "execute_result"
    }
   ],
   "source": [
    "y_test_labels[:20]"
   ]
  },
  {
   "cell_type": "markdown",
   "id": "bd4bbd9f",
   "metadata": {},
   "source": [
    "## Выводы"
   ]
  },
  {
   "cell_type": "markdown",
   "id": "7fa67709",
   "metadata": {},
   "source": [
    "На показатели качества  сильно влияют количество эпох (чем большеб тем точнее) и\n",
    "количество слоёв нейронной сети. Кроме этого результат зависит и от количества \n",
    "нейронов в слоях. В меньшей мере влияют такие показатели как batch_size (как\n",
    "правило чем меньше, тем лучше) и функция активации. Нужно отметить что свой вклад привносит выбор оптимайзера."
   ]
  }
 ],
 "metadata": {
  "kernelspec": {
   "display_name": "Python 3 (ipykernel)",
   "language": "python",
   "name": "python3"
  },
  "language_info": {
   "codemirror_mode": {
    "name": "ipython",
    "version": 3
   },
   "file_extension": ".py",
   "mimetype": "text/x-python",
   "name": "python",
   "nbconvert_exporter": "python",
   "pygments_lexer": "ipython3",
   "version": "3.9.12"
  }
 },
 "nbformat": 4,
 "nbformat_minor": 5
}
