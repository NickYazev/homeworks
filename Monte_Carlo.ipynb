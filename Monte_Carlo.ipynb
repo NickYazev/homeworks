{
 "cells": [
  {
   "cell_type": "markdown",
   "id": "e91b854c",
   "metadata": {},
   "source": [
    "Посмотрим как выглядит решение статистической задачи на двух языках программирования: Python и R.\n",
    "Решение будем искать методом Монте Карло.\n",
    "Между тем теоретическое значение =0,36(86)"
   ]
  },
  {
   "cell_type": "markdown",
   "id": "99f2165e",
   "metadata": {},
   "source": [
    "Задачa:\n",
    "В первом ящике находится 8 мячей, из которых 5 - белые. Во втором ящике - 12 мячей, из которых 5 белых. Из первого ящика вытаскивают случайным образом два мяча, из второго - 4. Какова вероятность того, что 3 мяча белые?"
   ]
  },
  {
   "cell_type": "code",
   "execution_count": null,
   "id": "0446037f",
   "metadata": {},
   "outputs": [],
   "source": [
    "# with Pathon"
   ]
  },
  {
   "cell_type": "code",
   "execution_count": 8,
   "id": "8927f5be",
   "metadata": {},
   "outputs": [],
   "source": [
    "import random"
   ]
  },
  {
   "cell_type": "code",
   "execution_count": 7,
   "id": "bc6e1bcb",
   "metadata": {},
   "outputs": [
    {
     "name": "stdout",
     "output_type": "stream",
     "text": [
      "0.36871142\n"
     ]
    }
   ],
   "source": [
    "n = 100000000\n",
    "s = 0\n",
    "\n",
    "for i in range(n):\n",
    "    \n",
    "    a = [1,1,1,1,1,0,0,0]\n",
    "    b = [1,1,1,1,1,0,0,0,0,0,0,0]\n",
    "    \n",
    "    x1 = random.choice(a)\n",
    "    a.remove(x1)\n",
    "    x2 = random.choice(a)\n",
    "    \n",
    "    y1 = random.choice(b)\n",
    "    b.remove(y1)\n",
    "    y2 = random.choice(b)\n",
    "    b.remove(y2)\n",
    "    y3 = random.choice(b)\n",
    "    b.remove(y3)\n",
    "    y4 = random.choice(b)\n",
    "    \n",
    "    if x1 + x2 + y1 + y2 + y3 + y4 == 3:\n",
    "        s += 1\n",
    "\n",
    "print(s / n) # =0.36871142"
   ]
  },
  {
   "cell_type": "code",
   "execution_count": null,
   "id": "465aba75",
   "metadata": {},
   "outputs": [],
   "source": [
    "# with R"
   ]
  },
  {
   "cell_type": "markdown",
   "id": "909687c3",
   "metadata": {},
   "source": [
    "> a <- c(0,0,0,0,0,1,1,1)\n",
    "> b <- c(0,0,0,0,0,1,1,1,1,1,1,1)\n",
    "> sam.a <- sample(a,2)\n",
    "> sam.b <- sample(b,4)\n",
    "> sam.a\n",
    "[1] 0 0\n",
    "> sam.b\n",
    "[1] 1 1 0 1\n",
    "\n",
    "> s <- sum(c(sam.a, sam.b))\n",
    "> mc <- function(m,n) {sam.a <- sample(a,m);  sam.b <- sample(b,n);  s <- sum(c(sam.a, sam.b))}\n",
    "> m <- replicate(100,mc(2,4))\n",
    "\n",
    "> mean(m == 3)\n",
    "[1] 0.41\n",
    "\n",
    "> m1 <- replicate(10000,mc(2,4))\n",
    "> mean(m1 == 3)\n",
    "[1] 0.3637\n",
    "\n",
    "> m2 <- replicate(1000000,mc(2,4))\n",
    "> mean(m2 == 3)\n",
    "[1] 0.368789\n",
    "\n",
    "> m3 <- replicate(100000000,mc(2,4))\n",
    "> mean(m3 == 3)\n",
    "[1] 0.3686592"
   ]
  }
 ],
 "metadata": {
  "kernelspec": {
   "display_name": "Python 3 (ipykernel)",
   "language": "python",
   "name": "python3"
  },
  "language_info": {
   "codemirror_mode": {
    "name": "ipython",
    "version": 3
   },
   "file_extension": ".py",
   "mimetype": "text/x-python",
   "name": "python",
   "nbconvert_exporter": "python",
   "pygments_lexer": "ipython3",
   "version": "3.9.12"
  }
 },
 "nbformat": 4,
 "nbformat_minor": 5
}
