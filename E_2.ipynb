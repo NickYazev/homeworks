{
 "cells": [
  {
   "cell_type": "code",
   "execution_count": 1,
   "id": "7d4f5598",
   "metadata": {},
   "outputs": [],
   "source": [
    "import numpy as np\n",
    "import pandas as pd\n",
    "from collections import Counter"
   ]
  },
  {
   "cell_type": "code",
   "execution_count": 2,
   "id": "c905e107",
   "metadata": {},
   "outputs": [],
   "source": [
    "from sklearn.metrics import *\n",
    "from sklearn.model_selection import train_test_split\n",
    "from sklearn.linear_model import LogisticRegression\n",
    "from sklearn.feature_extraction.text import CountVectorizer"
   ]
  },
  {
   "cell_type": "code",
   "execution_count": 3,
   "id": "d8876ece",
   "metadata": {},
   "outputs": [],
   "source": [
    "import nltk\n",
    "from nltk import ngrams\n",
    "from nltk.corpus import stopwords\n",
    "from string import punctuation\n",
    "import re\n",
    "from nltk.tokenize import word_tokenize"
   ]
  },
  {
   "cell_type": "code",
   "execution_count": 4,
   "id": "0fffe852",
   "metadata": {},
   "outputs": [],
   "source": [
    "import warnings\n",
    "warnings.filterwarnings(\"ignore\")"
   ]
  },
  {
   "cell_type": "markdown",
   "id": "6005f66e",
   "metadata": {},
   "source": [
    "# Задание 1 "
   ]
  },
  {
   "cell_type": "code",
   "execution_count": 5,
   "id": "1367107e",
   "metadata": {},
   "outputs": [],
   "source": [
    "positive = pd.read_csv('positive.csv', sep=';', usecols=[3], names=['text'])\n",
    "positive['label'] = ['positive'] * len(positive)\n",
    "negative = pd.read_csv('negative.csv', sep=';', usecols=[3], names=['text'])\n",
    "negative['label'] = ['negative'] * len(negative)\n",
    "df = positive.append(negative)"
   ]
  },
  {
   "cell_type": "code",
   "execution_count": 6,
   "id": "a125ab51",
   "metadata": {},
   "outputs": [],
   "source": [
    "def del_sub(text, pattern):\n",
    "    r = re.findall(pattern, text)\n",
    "    for i in r:\n",
    "        text = re.sub(i, '', text)\n",
    "    return text\n",
    "\n",
    "df[\"text\"] = np.vectorize(del_sub)(df['text'], \"@[\\w]*\")\n",
    "df[\"text\"] = np.vectorize(del_sub)(df['text'], \"RT\")"
   ]
  },
  {
   "cell_type": "code",
   "execution_count": 7,
   "id": "17eded0d",
   "metadata": {},
   "outputs": [],
   "source": [
    "def low_words(tweet):\n",
    "    \n",
    "    for word in tweet.split():\n",
    "        tweet = tweet.lower()\n",
    "    return tweet\n",
    "\n",
    "df['text'] = df['text'].apply(low_words)"
   ]
  },
  {
   "cell_type": "code",
   "execution_count": 8,
   "id": "e34d4c42",
   "metadata": {},
   "outputs": [
    {
     "data": {
      "text/html": [
       "<div>\n",
       "<style scoped>\n",
       "    .dataframe tbody tr th:only-of-type {\n",
       "        vertical-align: middle;\n",
       "    }\n",
       "\n",
       "    .dataframe tbody tr th {\n",
       "        vertical-align: top;\n",
       "    }\n",
       "\n",
       "    .dataframe thead th {\n",
       "        text-align: right;\n",
       "    }\n",
       "</style>\n",
       "<table border=\"1\" class=\"dataframe\">\n",
       "  <thead>\n",
       "    <tr style=\"text-align: right;\">\n",
       "      <th></th>\n",
       "      <th>text</th>\n",
       "      <th>label</th>\n",
       "    </tr>\n",
       "  </thead>\n",
       "  <tbody>\n",
       "    <tr>\n",
       "      <th>0</th>\n",
       "      <td>хоть я и школота, но поверь, у нас то же само...</td>\n",
       "      <td>positive</td>\n",
       "    </tr>\n",
       "    <tr>\n",
       "      <th>1</th>\n",
       "      <td>да, все-таки он немного похож на него. но мой ...</td>\n",
       "      <td>positive</td>\n",
       "    </tr>\n",
       "    <tr>\n",
       "      <th>2</th>\n",
       "      <td>: ну ты идиотка) я испугалась за тебя!!!</td>\n",
       "      <td>positive</td>\n",
       "    </tr>\n",
       "    <tr>\n",
       "      <th>3</th>\n",
       "      <td>: \"кто то в углу сидит и погибает от голода, ...</td>\n",
       "      <td>positive</td>\n",
       "    </tr>\n",
       "    <tr>\n",
       "      <th>4</th>\n",
       "      <td>вот что значит страшилка :d\\nно блин,посмотре...</td>\n",
       "      <td>positive</td>\n",
       "    </tr>\n",
       "  </tbody>\n",
       "</table>\n",
       "</div>"
      ],
      "text/plain": [
       "                                                text     label\n",
       "0   хоть я и школота, но поверь, у нас то же само...  positive\n",
       "1  да, все-таки он немного похож на него. но мой ...  positive\n",
       "2           : ну ты идиотка) я испугалась за тебя!!!  positive\n",
       "3   : \"кто то в углу сидит и погибает от голода, ...  positive\n",
       "4   вот что значит страшилка :d\\nно блин,посмотре...  positive"
      ]
     },
     "execution_count": 8,
     "metadata": {},
     "output_type": "execute_result"
    }
   ],
   "source": [
    "df.head()"
   ]
  },
  {
   "cell_type": "code",
   "execution_count": 9,
   "id": "1a2e4448",
   "metadata": {},
   "outputs": [],
   "source": [
    "noise = stopwords.words('russian') + list(punctuation)"
   ]
  },
  {
   "cell_type": "code",
   "execution_count": 10,
   "id": "8e6c2768",
   "metadata": {},
   "outputs": [
    {
     "name": "stdout",
     "output_type": "stream",
     "text": [
      "1710589\n"
     ]
    },
    {
     "data": {
      "text/plain": [
       "['школота',\n",
       " 'поверь',\n",
       " 'самое',\n",
       " 'd',\n",
       " 'общество',\n",
       " 'профилирующий',\n",
       " 'предмет',\n",
       " 'типа',\n",
       " 'все-таки',\n",
       " 'немного']"
      ]
     },
     "execution_count": 10,
     "metadata": {},
     "output_type": "execute_result"
    }
   ],
   "source": [
    "corpus = [token for tweet in df.text for token in word_tokenize(tweet) if token not in noise]\n",
    "print(len(corpus))\n",
    "corpus[:10]"
   ]
  },
  {
   "cell_type": "code",
   "execution_count": 11,
   "id": "dd9a2b91",
   "metadata": {},
   "outputs": [],
   "source": [
    "freq_dict = Counter(corpus)\n",
    "freq_dict_sorted = sorted(freq_dict.items(), key=lambda x: -x[1])"
   ]
  },
  {
   "cell_type": "code",
   "execution_count": 12,
   "id": "2a60d4ce",
   "metadata": {},
   "outputs": [
    {
     "data": {
      "text/plain": [
       "235596"
      ]
     },
     "execution_count": 12,
     "metadata": {},
     "output_type": "execute_result"
    }
   ],
   "source": [
    "len(freq_dict_sorted)"
   ]
  },
  {
   "cell_type": "code",
   "execution_count": 13,
   "id": "460d0f99",
   "metadata": {},
   "outputs": [
    {
     "name": "stdout",
     "output_type": "stream",
     "text": [
      "47119 94238 94239\n"
     ]
    }
   ],
   "source": [
    "high_freq = freq_dict_sorted[:47119]       # 0-20%\n",
    "aver_freq = freq_dict_sorted[47119:141357] # 20-60%\n",
    "low_freq = freq_dict_sorted[141357:]       # 60-100%\n",
    "\n",
    "print(len(high_freq), len(aver_freq), len(low_freq))"
   ]
  },
  {
   "cell_type": "code",
   "execution_count": 14,
   "id": "f671916a",
   "metadata": {},
   "outputs": [],
   "source": [
    "high = []\n",
    "for i in range(47119):\n",
    "    token = high_freq[i][0]\n",
    "    high.append(token)  \n",
    "\n",
    "aver = []\n",
    "for i in range(94238):\n",
    "    token = aver_freq[i][0]\n",
    "    aver.append(token)\n",
    "    \n",
    "low = []\n",
    "for i in range(94239):\n",
    "    token = low_freq[i][0]\n",
    "    low.append(token)"
   ]
  },
  {
   "cell_type": "markdown",
   "id": "bda77319",
   "metadata": {},
   "source": [
    "### 1) обучение на токенах с высокой частотой"
   ]
  },
  {
   "cell_type": "code",
   "execution_count": 15,
   "id": "394aa803",
   "metadata": {},
   "outputs": [],
   "source": [
    "df_1 = df"
   ]
  },
  {
   "cell_type": "code",
   "execution_count": 16,
   "id": "2aa8a65a",
   "metadata": {},
   "outputs": [],
   "source": [
    "def match_words1(words):\n",
    "    \n",
    "    for word in words.split():\n",
    "        if word  in high:\n",
    "            words = word\n",
    "            break\n",
    "        if word not in high:\n",
    "            words = ''\n",
    "            \n",
    "    return words\n",
    "\n",
    "df_1['text'] = df['text'].apply(match_words1)"
   ]
  },
  {
   "cell_type": "code",
   "execution_count": 17,
   "id": "7574fbcb",
   "metadata": {},
   "outputs": [
    {
     "data": {
      "text/html": [
       "<div>\n",
       "<style scoped>\n",
       "    .dataframe tbody tr th:only-of-type {\n",
       "        vertical-align: middle;\n",
       "    }\n",
       "\n",
       "    .dataframe tbody tr th {\n",
       "        vertical-align: top;\n",
       "    }\n",
       "\n",
       "    .dataframe thead th {\n",
       "        text-align: right;\n",
       "    }\n",
       "</style>\n",
       "<table border=\"1\" class=\"dataframe\">\n",
       "  <thead>\n",
       "    <tr style=\"text-align: right;\">\n",
       "      <th></th>\n",
       "      <th>text</th>\n",
       "      <th>label</th>\n",
       "    </tr>\n",
       "  </thead>\n",
       "  <tbody>\n",
       "    <tr>\n",
       "      <th>0</th>\n",
       "      <td>самое</td>\n",
       "      <td>positive</td>\n",
       "    </tr>\n",
       "    <tr>\n",
       "      <th>1</th>\n",
       "      <td>все-таки</td>\n",
       "      <td>positive</td>\n",
       "    </tr>\n",
       "    <tr>\n",
       "      <th>2</th>\n",
       "      <td>испугалась</td>\n",
       "      <td>positive</td>\n",
       "    </tr>\n",
       "    <tr>\n",
       "      <th>3</th>\n",
       "      <td>углу</td>\n",
       "      <td>positive</td>\n",
       "    </tr>\n",
       "    <tr>\n",
       "      <th>4</th>\n",
       "      <td>значит</td>\n",
       "      <td>positive</td>\n",
       "    </tr>\n",
       "  </tbody>\n",
       "</table>\n",
       "</div>"
      ],
      "text/plain": [
       "         text     label\n",
       "0       самое  positive\n",
       "1    все-таки  positive\n",
       "2  испугалась  positive\n",
       "3        углу  positive\n",
       "4      значит  positive"
      ]
     },
     "execution_count": 17,
     "metadata": {},
     "output_type": "execute_result"
    }
   ],
   "source": [
    "df_1 = df_1.loc[df_1['text'] != '']\n",
    "df_1.head()"
   ]
  },
  {
   "cell_type": "code",
   "execution_count": 18,
   "id": "58814b41",
   "metadata": {},
   "outputs": [],
   "source": [
    "X = df_1.text\n",
    "y = df_1.label"
   ]
  },
  {
   "cell_type": "code",
   "execution_count": 19,
   "id": "979905d1",
   "metadata": {},
   "outputs": [],
   "source": [
    "X_train, X_test, y_train, y_test = train_test_split(X, y)"
   ]
  },
  {
   "cell_type": "code",
   "execution_count": 20,
   "id": "97fb3dfb",
   "metadata": {},
   "outputs": [
    {
     "name": "stdout",
     "output_type": "stream",
     "text": [
      "              precision    recall  f1-score   support\n",
      "\n",
      "    negative       0.00      0.00      0.00         0\n",
      "    positive       1.00      0.51      0.67     54617\n",
      "\n",
      "    accuracy                           0.51     54617\n",
      "   macro avg       0.50      0.25      0.34     54617\n",
      "weighted avg       1.00      0.51      0.67     54617\n",
      "\n"
     ]
    }
   ],
   "source": [
    "vec = CountVectorizer(ngram_range=(3, 3))\n",
    "bow = vec.fit_transform(X_train)\n",
    "clf = LogisticRegression(random_state=16)\n",
    "clf.fit(bow, y_train)\n",
    "pred = clf.predict(vec.transform(X_test))\n",
    "print(classification_report(pred, y_test))"
   ]
  },
  {
   "cell_type": "markdown",
   "id": "c528c5a7",
   "metadata": {},
   "source": [
    "### 2) обучение на токенах со средней частотой"
   ]
  },
  {
   "cell_type": "code",
   "execution_count": 22,
   "id": "a98f823d",
   "metadata": {},
   "outputs": [],
   "source": [
    "df_2 = df"
   ]
  },
  {
   "cell_type": "code",
   "execution_count": 42,
   "id": "24c7b3d3",
   "metadata": {},
   "outputs": [],
   "source": [
    "def match_words2(words):\n",
    "    \n",
    "    for word in words.split():\n",
    "        if word  in aver:\n",
    "            words = word\n",
    "            break\n",
    "        if word not in aver:\n",
    "            words = ''\n",
    "            \n",
    "    return words\n",
    "\n",
    "df_2['text'] = df['text'].apply(match_words2)"
   ]
  },
  {
   "cell_type": "code",
   "execution_count": 43,
   "id": "912e2bd9",
   "metadata": {},
   "outputs": [
    {
     "data": {
      "text/html": [
       "<div>\n",
       "<style scoped>\n",
       "    .dataframe tbody tr th:only-of-type {\n",
       "        vertical-align: middle;\n",
       "    }\n",
       "\n",
       "    .dataframe tbody tr th {\n",
       "        vertical-align: top;\n",
       "    }\n",
       "\n",
       "    .dataframe thead th {\n",
       "        text-align: right;\n",
       "    }\n",
       "</style>\n",
       "<table border=\"1\" class=\"dataframe\">\n",
       "  <thead>\n",
       "    <tr style=\"text-align: right;\">\n",
       "      <th></th>\n",
       "      <th>text</th>\n",
       "      <th>label</th>\n",
       "    </tr>\n",
       "  </thead>\n",
       "  <tbody>\n",
       "    <tr>\n",
       "      <th>0</th>\n",
       "      <td>профилирующий</td>\n",
       "      <td>positive</td>\n",
       "    </tr>\n",
       "    <tr>\n",
       "      <th>4</th>\n",
       "      <td>страшилка</td>\n",
       "      <td>positive</td>\n",
       "    </tr>\n",
       "    <tr>\n",
       "      <th>6</th>\n",
       "      <td>ох,900</td>\n",
       "      <td>positive</td>\n",
       "    </tr>\n",
       "    <tr>\n",
       "      <th>9</th>\n",
       "      <td>сиднея</td>\n",
       "      <td>positive</td>\n",
       "    </tr>\n",
       "    <tr>\n",
       "      <th>15</th>\n",
       "      <td>аспирантуру</td>\n",
       "      <td>positive</td>\n",
       "    </tr>\n",
       "  </tbody>\n",
       "</table>\n",
       "</div>"
      ],
      "text/plain": [
       "             text     label\n",
       "0   профилирующий  positive\n",
       "4       страшилка  positive\n",
       "6          ох,900  positive\n",
       "9          сиднея  positive\n",
       "15    аспирантуру  positive"
      ]
     },
     "execution_count": 43,
     "metadata": {},
     "output_type": "execute_result"
    }
   ],
   "source": [
    "df_2 = df_2.loc[df_2['text'] != '']\n",
    "df_2.head()"
   ]
  },
  {
   "cell_type": "code",
   "execution_count": 44,
   "id": "bbb9f46c",
   "metadata": {},
   "outputs": [],
   "source": [
    "X = df_2.text\n",
    "y = df_2.label"
   ]
  },
  {
   "cell_type": "code",
   "execution_count": 45,
   "id": "25548d9e",
   "metadata": {},
   "outputs": [],
   "source": [
    "X_train, X_test, y_train, y_test = train_test_split(X, y)"
   ]
  },
  {
   "cell_type": "code",
   "execution_count": 46,
   "id": "0708ef1e",
   "metadata": {},
   "outputs": [
    {
     "name": "stdout",
     "output_type": "stream",
     "text": [
      "              precision    recall  f1-score   support\n",
      "\n",
      "    negative       0.00      1.00      0.00         2\n",
      "    positive       1.00      0.66      0.80     14268\n",
      "\n",
      "    accuracy                           0.66     14270\n",
      "   macro avg       0.50      0.83      0.40     14270\n",
      "weighted avg       1.00      0.66      0.80     14270\n",
      "\n"
     ]
    }
   ],
   "source": [
    "vec = CountVectorizer(ngram_range=(3, 3))\n",
    "bow = vec.fit_transform(X_train)\n",
    "clf = LogisticRegression(random_state=16)\n",
    "clf.fit(bow, y_train)\n",
    "pred = clf.predict(vec.transform(X_test))\n",
    "print(classification_report(pred, y_test))"
   ]
  },
  {
   "cell_type": "markdown",
   "id": "b9e061a5",
   "metadata": {},
   "source": [
    "### 3) обучение на токенах с низкой частотой"
   ]
  },
  {
   "cell_type": "code",
   "execution_count": 15,
   "id": "4b01ff07",
   "metadata": {},
   "outputs": [],
   "source": [
    "df_3 = df"
   ]
  },
  {
   "cell_type": "code",
   "execution_count": 16,
   "id": "37d9315b",
   "metadata": {},
   "outputs": [],
   "source": [
    "def match_words3(words):\n",
    "    \n",
    "    for word in words.split():\n",
    "        if word  in low:\n",
    "            words = word\n",
    "            break\n",
    "        if word not in low:\n",
    "            words = ''\n",
    "            \n",
    "    return words\n",
    "\n",
    "df_3['text'] = df['text'].apply(match_words3)"
   ]
  },
  {
   "cell_type": "code",
   "execution_count": 17,
   "id": "10fc9c96",
   "metadata": {},
   "outputs": [
    {
     "data": {
      "text/html": [
       "<div>\n",
       "<style scoped>\n",
       "    .dataframe tbody tr th:only-of-type {\n",
       "        vertical-align: middle;\n",
       "    }\n",
       "\n",
       "    .dataframe tbody tr th {\n",
       "        vertical-align: top;\n",
       "    }\n",
       "\n",
       "    .dataframe thead th {\n",
       "        text-align: right;\n",
       "    }\n",
       "</style>\n",
       "<table border=\"1\" class=\"dataframe\">\n",
       "  <thead>\n",
       "    <tr style=\"text-align: right;\">\n",
       "      <th></th>\n",
       "      <th>text</th>\n",
       "      <th>label</th>\n",
       "    </tr>\n",
       "  </thead>\n",
       "  <tbody>\n",
       "    <tr>\n",
       "      <th>60</th>\n",
       "      <td>т.е.</td>\n",
       "      <td>positive</td>\n",
       "    </tr>\n",
       "    <tr>\n",
       "      <th>71</th>\n",
       "      <td>знала.</td>\n",
       "      <td>positive</td>\n",
       "    </tr>\n",
       "    <tr>\n",
       "      <th>135</th>\n",
       "      <td>,а</td>\n",
       "      <td>positive</td>\n",
       "    </tr>\n",
       "    <tr>\n",
       "      <th>292</th>\n",
       "      <td>автомобиль.</td>\n",
       "      <td>positive</td>\n",
       "    </tr>\n",
       "    <tr>\n",
       "      <th>534</th>\n",
       "      <td>:сс</td>\n",
       "      <td>positive</td>\n",
       "    </tr>\n",
       "  </tbody>\n",
       "</table>\n",
       "</div>"
      ],
      "text/plain": [
       "            text     label\n",
       "60          т.е.  positive\n",
       "71        знала.  positive\n",
       "135           ,а  positive\n",
       "292  автомобиль.  positive\n",
       "534          :сс  positive"
      ]
     },
     "execution_count": 17,
     "metadata": {},
     "output_type": "execute_result"
    }
   ],
   "source": [
    "df_3 = df_3.loc[df_3['text'] != '']\n",
    "df_3.head()"
   ]
  },
  {
   "cell_type": "code",
   "execution_count": 18,
   "id": "2ca80191",
   "metadata": {},
   "outputs": [],
   "source": [
    "X = df_3.text\n",
    "y = df_3.label"
   ]
  },
  {
   "cell_type": "code",
   "execution_count": 19,
   "id": "dbcc68ea",
   "metadata": {},
   "outputs": [],
   "source": [
    "X_train, X_test, y_train, y_test = train_test_split(X, y)"
   ]
  },
  {
   "cell_type": "code",
   "execution_count": 20,
   "id": "b624cbdb",
   "metadata": {},
   "outputs": [
    {
     "name": "stdout",
     "output_type": "stream",
     "text": [
      "              precision    recall  f1-score   support\n",
      "\n",
      "    negative       0.99      0.69      0.81      9470\n",
      "    positive       0.01      0.35      0.02        80\n",
      "\n",
      "    accuracy                           0.69      9550\n",
      "   macro avg       0.50      0.52      0.42      9550\n",
      "weighted avg       0.98      0.69      0.81      9550\n",
      "\n"
     ]
    }
   ],
   "source": [
    "vec = CountVectorizer(ngram_range=(1, 1))\n",
    "bow = vec.fit_transform(X_train)\n",
    "clf = LogisticRegression(random_state=16)\n",
    "clf.fit(bow, y_train)\n",
    "pred = clf.predict(vec.transform(X_test))\n",
    "print(classification_report(pred, y_test))"
   ]
  },
  {
   "cell_type": "markdown",
   "id": "e9f392e7",
   "metadata": {},
   "source": [
    "#### Как видно из показателей, лучшие результаты получились на обучении на токенах с низкой и средней частотой."
   ]
  }
 ],
 "metadata": {
  "kernelspec": {
   "display_name": "Python 3 (ipykernel)",
   "language": "python",
   "name": "python3"
  },
  "language_info": {
   "codemirror_mode": {
    "name": "ipython",
    "version": 3
   },
   "file_extension": ".py",
   "mimetype": "text/x-python",
   "name": "python",
   "nbconvert_exporter": "python",
   "pygments_lexer": "ipython3",
   "version": "3.9.12"
  }
 },
 "nbformat": 4,
 "nbformat_minor": 5
}
