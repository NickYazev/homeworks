{
 "cells": [
  {
   "cell_type": "markdown",
   "id": "0012d276",
   "metadata": {},
   "source": [
    "При выполнении инженерно-геологических изысканий может возникнуть задача, связанная с сопоставлением данных полевых и лабораторных исследований на одних и тех же грунтах, с целью подтверждения корректной транспортировки проб от объекта изысканий до лаборатории (образцы не были деформированы и/или разрушены в ходе перевозки)."
   ]
  },
  {
   "cell_type": "markdown",
   "id": "a47a76ac",
   "metadata": {},
   "source": [
    "При данной постановке задачи можно применить методику A/B-тестирования со следующими параметрами:\n",
    "измеряемой метрикой будет среднее значение плотности скелета грунта (г/см3), характеризующее сложение проб. Данная величина имеет нормальный закон распределения;\n",
    "критерием проверки гипотезы будет служить t-критерий (критерий Стьюдента): для двух независимых выборок, если сопоставляемые полевые (до транспортировки) и лабораторные (после транспортировки) данные проводились на разных пробах грунта; для двух зависимых выборок, если исследования выполнены на одних и тех же пробах."
   ]
  },
  {
   "cell_type": "code",
   "execution_count": 1,
   "id": "edde4f12",
   "metadata": {},
   "outputs": [],
   "source": [
    "import numpy as np\n",
    "import scipy\n",
    "import matplotlib.pyplot as plt\n",
    "from matplotlib.pyplot import figure"
   ]
  },
  {
   "cell_type": "code",
   "execution_count": 2,
   "id": "0a50d905",
   "metadata": {},
   "outputs": [],
   "source": [
    "from statsmodels.stats.power import TTestIndPower\n",
    "from statsmodels.stats.weightstats import *"
   ]
  },
  {
   "cell_type": "markdown",
   "id": "0b8e4758",
   "metadata": {},
   "source": [
    "1) Значения будут генерироваться.\\\n",
    "2) ES - показательная величина, характеризующая различие, которое мы хотим выявить, равная отношению разности средних значений по выборкам к взвешенному стандартному отклонению. Чтобы её уменьшить нужно больше сделать замеров!"
   ]
  },
  {
   "cell_type": "code",
   "execution_count": 3,
   "id": "0c6e9e38",
   "metadata": {},
   "outputs": [
    {
     "name": "stdout",
     "output_type": "stream",
     "text": [
      "Размер выборки, шт.: 63\n"
     ]
    }
   ],
   "source": [
    "effect = 0.5 # (ES)\n",
    "alpha = 0.05 # вероятность выявить различия между средними при их отсутствии\n",
    "power = 0.8 # вероятность выявления установленного различия между средними значениями\n",
    "\n",
    "analysis = TTestIndPower()\n",
    "\n",
    "#Оценка размера выборки (для достоверности)\n",
    "size = analysis.solve_power(effect, power=power, alpha=alpha)\n",
    "\n",
    "print(f'Размер выборки, шт.: {int(size)}')"
   ]
  },
  {
   "cell_type": "markdown",
   "id": "76e3368f",
   "metadata": {},
   "source": [
    "Измеряемая физическая характеристика грунта имеет нормальный закон распределения (как и многие другие измерения). В рамках данного примера зададим генератору следующие значения среднего (X̄) и стандартного отклонения (S):\n",
    "\n",
    "для первой выборки – X̄1= 1,65 г/см3, S1 = 0.15 г/см3;\n",
    "\n",
    "для второй – X̄2 = 1,60 г/см3, S2 = 0.15 г/см3."
   ]
  },
  {
   "cell_type": "code",
   "execution_count": 4,
   "id": "91ed4e5a",
   "metadata": {},
   "outputs": [],
   "source": [
    "loc_1 = 1.65\n",
    "sigma_1 = 0.15\n",
    "\n",
    "loc_2 = 1.60\n",
    "sigma_2 = 0.15\n",
    "\n",
    "sample_size = 65\n",
    "#Генерируем выборки с заданными параметрами\n",
    "sample_1 = np.random.normal(loc=loc_1, scale=sigma_1, size=sample_size)\n",
    "sample_2 = np.random.normal(loc=loc_2, scale=sigma_2, size=sample_size)"
   ]
  },
  {
   "cell_type": "code",
   "execution_count": 5,
   "id": "31a153a2",
   "metadata": {},
   "outputs": [
    {
     "data": {
      "image/png": "[encoded data removed]",
      "text/plain": [
       "<Figure size 1296x360 with 2 Axes>"
      ]
     },
     "metadata": {
      "needs_background": "light"
     },
     "output_type": "display_data"
    }
   ],
   "source": [
    "fig, axes = plt.subplots(ncols=2, figsize=(18, 5))\n",
    "\n",
    "max_y = np.max(np.hstack([sample_1,sample_2]))\n",
    "#Гистрограмма по выборке 1\n",
    "count_1, bins_1, ignored_1 = axes[0].hist(sample_1, 10, density=True, \n",
    "                                          label=\"Выборка 1\", edgecolor='black',\n",
    "                                          linewidth=1.2)\n",
    "axes[0].plot(bins_1, 1/(sigma_1 * np.sqrt(2 * np.pi)) *\n",
    "               np.exp( - (bins_1 - loc_1) / (2 * sigma_1)),\n",
    "         linewidth=2, color='r', label='плотность вероятности')\n",
    "axes[0].legend()\n",
    "axes[0].set_xlabel(u'Длина сессии, с')\n",
    "axes[0].set_ylabel(u'Количество сессий, шт.')\n",
    "axes[0].set_ylim([0, 5])\n",
    "axes[0].set_xlim([1.1, 2.2])\n",
    "\n",
    "#Гистрограмма по выборке 2\n",
    "count_2, bins_2, ignored_2 = axes[1].hist(sample_2, 10, density=True, \n",
    "                                          label=\"Выборка 2\", edgecolor='black', \n",
    "                                          linewidth=1.2, color=\"green\")\n",
    "axes[1].plot(bins_2, 1/(sigma_2 * np.sqrt(2 * np.pi)) *\n",
    "               np.exp( - (bins_2 - loc_2) / (2 * sigma_2)),\n",
    "         linewidth=2, color='r', label='плотность вероятности')\n",
    "axes[1].legend()\n",
    "axes[1].set_xlabel(u'Длина сессии, с')\n",
    "axes[1].set_ylabel(u'Количество сессий, шт.')\n",
    "axes[1].set_ylim([0, 5])\n",
    "axes[1].set_xlim([1.1, 2.2])\n",
    "plt.show()"
   ]
  },
  {
   "cell_type": "markdown",
   "id": "54649994",
   "metadata": {},
   "source": [
    "Нулевая гипотеза H0: средние значения равны μ1 = μ2.\n",
    "\n",
    "Альтернативная гипотеза H1: средние не равны μ1 ≠ μ2."
   ]
  },
  {
   "cell_type": "markdown",
   "id": "18ce4e6d",
   "metadata": {},
   "source": [
    "### Вариант 1. Для двух независимых выборок"
   ]
  },
  {
   "cell_type": "markdown",
   "id": "47ac2316",
   "metadata": {},
   "source": [
    "С помощью двухвыборочного критерия Стьюдента проверяется гипотезу о равенстве средних выборок."
   ]
  },
  {
   "cell_type": "code",
   "execution_count": 6,
   "id": "4115b32b",
   "metadata": {},
   "outputs": [
    {
     "name": "stdout",
     "output_type": "stream",
     "text": [
      "t-критерий составил 1.04\n",
      "Рассчитанный t-критерий дает достигаемый уровень значимости (p-value) равный 0.301\n"
     ]
    }
   ],
   "source": [
    "t_st, p_val = scipy.stats.ttest_ind(sample_1, sample_2, equal_var = False)\n",
    "print(f't-критерий составил {round(t_st, 2)}')\n",
    "print(f'Рассчитанный t-критерий дает достигаемый \\\n",
    "уровень значимости (p-value) равный {round(p_val, 3)}')"
   ]
  },
  {
   "cell_type": "markdown",
   "id": "c5710e74",
   "metadata": {},
   "source": [
    "Нулевая гипотеза H0 о том, что средняя плотность скелета грунта не изменилась после транспортировки не отвергается на уровне значимости 0,05."
   ]
  },
  {
   "cell_type": "markdown",
   "id": "2c4e96a1",
   "metadata": {},
   "source": [
    "### Вариант 2. Для двух связанных выборок "
   ]
  },
  {
   "cell_type": "markdown",
   "id": "17a37ed3",
   "metadata": {},
   "source": [
    "Проверка нулевой гипотезы об отсутствии изменений в плотности грунта при транспортировке будет осуществляться с помощью двухвыборочного критерия Стьюдента для связанных выборок."
   ]
  },
  {
   "cell_type": "code",
   "execution_count": 7,
   "id": "912ea449",
   "metadata": {},
   "outputs": [
    {
     "name": "stdout",
     "output_type": "stream",
     "text": [
      "t-критерий составил 1.09\n",
      "Рассчитанный t-критерий дает достигаемый уровень значимости (p-value) равный 0.279\n"
     ]
    }
   ],
   "source": [
    "# Для расчета достигаемого уровня значимости воспользуемся методом ttest_rel модуля stats\n",
    "t_st, p_val = stats.ttest_rel(sample_1, sample_2)\n",
    "print(f't-критерий составил {round(t_st, 2)}')\n",
    "print(f'Рассчитанный t-критерий дает достигаемый \\\n",
    "уровень значимости (p-value) равный {round(p_val, 3)}')"
   ]
  },
  {
   "cell_type": "markdown",
   "id": "0898877d",
   "metadata": {},
   "source": [
    "Нулевая гипотеза H0 о том, что средняя плотность скелета грунта не изменилась после транспортировки, не отвергается на уровне значимости 0,05."
   ]
  }
 ],
 "metadata": {
  "kernelspec": {
   "display_name": "Python 3 (ipykernel)",
   "language": "python",
   "name": "python3"
  },
  "language_info": {
   "codemirror_mode": {
    "name": "ipython",
    "version": 3
   },
   "file_extension": ".py",
   "mimetype": "text/x-python",
   "name": "python",
   "nbconvert_exporter": "python",
   "pygments_lexer": "ipython3",
   "version": "3.9.12"
  }
 },
 "nbformat": 4,
 "nbformat_minor": 5
}
