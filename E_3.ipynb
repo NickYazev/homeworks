{
 "cells": [
  {
   "cell_type": "code",
   "execution_count": 1,
   "id": "7ba59693",
   "metadata": {},
   "outputs": [],
   "source": [
    "import pandas as pd\n",
    "import collections\n",
    "import nltk"
   ]
  },
  {
   "cell_type": "code",
   "execution_count": 2,
   "id": "dd9a3c0c",
   "metadata": {},
   "outputs": [],
   "source": [
    "import warnings \n",
    "warnings.filterwarnings(\"ignore\")"
   ]
  },
  {
   "cell_type": "code",
   "execution_count": 3,
   "id": "d77c7593",
   "metadata": {},
   "outputs": [
    {
     "data": {
      "text/html": [
       "<div>\n",
       "<style scoped>\n",
       "    .dataframe tbody tr th:only-of-type {\n",
       "        vertical-align: middle;\n",
       "    }\n",
       "\n",
       "    .dataframe tbody tr th {\n",
       "        vertical-align: top;\n",
       "    }\n",
       "\n",
       "    .dataframe thead th {\n",
       "        text-align: right;\n",
       "    }\n",
       "</style>\n",
       "<table border=\"1\" class=\"dataframe\">\n",
       "  <thead>\n",
       "    <tr style=\"text-align: right;\">\n",
       "      <th></th>\n",
       "      <th>url</th>\n",
       "      <th>title</th>\n",
       "      <th>text</th>\n",
       "      <th>topic</th>\n",
       "      <th>tags</th>\n",
       "    </tr>\n",
       "  </thead>\n",
       "  <tbody>\n",
       "    <tr>\n",
       "      <th>0</th>\n",
       "      <td>https://lenta.ru/news/2018/12/14/cancer/</td>\n",
       "      <td>Названы регионы России с самой высокой смертно...</td>\n",
       "      <td>Вице-премьер по социальным вопросам Татьяна Го...</td>\n",
       "      <td>Россия</td>\n",
       "      <td>Общество</td>\n",
       "    </tr>\n",
       "    <tr>\n",
       "      <th>1</th>\n",
       "      <td>https://lenta.ru/news/2018/12/15/doping/</td>\n",
       "      <td>Австрия не представила доказательств вины росс...</td>\n",
       "      <td>Австрийские правоохранительные органы не предс...</td>\n",
       "      <td>Спорт</td>\n",
       "      <td>Зимние виды</td>\n",
       "    </tr>\n",
       "    <tr>\n",
       "      <th>2</th>\n",
       "      <td>https://lenta.ru/news/2018/12/15/disneyland/</td>\n",
       "      <td>Обнаружено самое счастливое место на планете</td>\n",
       "      <td>Сотрудники социальной сети Instagram проанализ...</td>\n",
       "      <td>Путешествия</td>\n",
       "      <td>Мир</td>\n",
       "    </tr>\n",
       "    <tr>\n",
       "      <th>3</th>\n",
       "      <td>https://lenta.ru/news/2018/12/15/usa25/</td>\n",
       "      <td>В США раскрыли сумму расходов на расследование...</td>\n",
       "      <td>С начала расследования российского вмешательст...</td>\n",
       "      <td>Мир</td>\n",
       "      <td>Политика</td>\n",
       "    </tr>\n",
       "    <tr>\n",
       "      <th>4</th>\n",
       "      <td>https://lenta.ru/news/2018/12/15/integrity/</td>\n",
       "      <td>Хакеры рассказали о планах Великобритании зами...</td>\n",
       "      <td>Хакерская группировка Anonymous опубликовала н...</td>\n",
       "      <td>Мир</td>\n",
       "      <td>Общество</td>\n",
       "    </tr>\n",
       "  </tbody>\n",
       "</table>\n",
       "</div>"
      ],
      "text/plain": [
       "                                            url  \\\n",
       "0      https://lenta.ru/news/2018/12/14/cancer/   \n",
       "1      https://lenta.ru/news/2018/12/15/doping/   \n",
       "2  https://lenta.ru/news/2018/12/15/disneyland/   \n",
       "3       https://lenta.ru/news/2018/12/15/usa25/   \n",
       "4   https://lenta.ru/news/2018/12/15/integrity/   \n",
       "\n",
       "                                               title  \\\n",
       "0  Названы регионы России с самой высокой смертно...   \n",
       "1  Австрия не представила доказательств вины росс...   \n",
       "2       Обнаружено самое счастливое место на планете   \n",
       "3  В США раскрыли сумму расходов на расследование...   \n",
       "4  Хакеры рассказали о планах Великобритании зами...   \n",
       "\n",
       "                                                text        topic         tags  \n",
       "0  Вице-премьер по социальным вопросам Татьяна Го...       Россия     Общество  \n",
       "1  Австрийские правоохранительные органы не предс...        Спорт  Зимние виды  \n",
       "2  Сотрудники социальной сети Instagram проанализ...  Путешествия          Мир  \n",
       "3  С начала расследования российского вмешательст...          Мир     Политика  \n",
       "4  Хакерская группировка Anonymous опубликовала н...          Мир     Общество  "
      ]
     },
     "execution_count": 3,
     "metadata": {},
     "output_type": "execute_result"
    }
   ],
   "source": [
    "df = pd.read_csv('lenta-ru-news.csv')\n",
    "df.head()"
   ]
  },
  {
   "cell_type": "code",
   "execution_count": 4,
   "id": "e04a44c0",
   "metadata": {},
   "outputs": [],
   "source": [
    "df = df[df['text'].notnull()]"
   ]
  },
  {
   "cell_type": "code",
   "execution_count": 5,
   "id": "c73e18e6",
   "metadata": {},
   "outputs": [],
   "source": [
    "def words_union(df):\n",
    "    words_list = []\n",
    "    for line in df['text']:\n",
    "        line_words = line.split()\n",
    "        words_list.extend(line_words)\n",
    "    words = ' '.join(words_list)\n",
    "    return words"
   ]
  },
  {
   "cell_type": "code",
   "execution_count": 6,
   "id": "d2976dfa",
   "metadata": {},
   "outputs": [],
   "source": [
    "words = words_union(df)\n",
    "max_word_limit_spacy = 1000000\n",
    "tokens_list = [(' '.join(c[0] for c in chunk), chunk.label() ) for chunk in nltk.ne_chunk(nltk.pos_tag(nltk.word_tokenize(words[:max_word_limit_spacy]))) if hasattr(chunk, 'label') ]"
   ]
  },
  {
   "cell_type": "code",
   "execution_count": 7,
   "id": "0050a39f",
   "metadata": {},
   "outputs": [
    {
     "data": {
      "text/plain": [
       "[('Татьяна Голикова', 'PERSON'),\n",
       " ('России', 'PERSON'),\n",
       " ('Тверской', 'GPE'),\n",
       " ('Тульской', 'PERSON'),\n",
       " ('России', 'PERSON'),\n",
       " ('России', 'PERSON'),\n",
       " ('Дмитрий Любинский', 'PERSON'),\n",
       " ('Действует', 'PERSON'),\n",
       " ('IBU', 'ORGANIZATION'),\n",
       " ('России', 'PERSON'),\n",
       " ('Антону Шипулину', 'PERSON'),\n",
       " ('Австрии', 'PERSON'),\n",
       " ('Таким', 'PERSON'),\n",
       " ('Associated', 'ORGANIZATION'),\n",
       " ('Минюст США', 'PERSON'),\n",
       " ('Робера Мюллера', 'PERSON'),\n",
       " ('Трампа', 'PERSON'),\n",
       " ('Мюллер', 'PERSON'),\n",
       " ('Трампа', 'PERSON'),\n",
       " ('Белый', 'PERSON')]"
      ]
     },
     "execution_count": 7,
     "metadata": {},
     "output_type": "execute_result"
    }
   ],
   "source": [
    "tokens_list[:20]"
   ]
  },
  {
   "cell_type": "code",
   "execution_count": 8,
   "id": "8d51397a",
   "metadata": {},
   "outputs": [
    {
     "data": {
      "text/plain": [
       "[(('России', 'PERSON'), 239),\n",
       " (('Украины', 'PERSON'), 67),\n",
       " (('Кроме', 'PERSON'), 54),\n",
       " (('Отмечается', 'PERSON'), 50),\n",
       " (('Россия', 'PERSON'), 43),\n",
       " (('Москве', 'PERSON'), 43),\n",
       " (('Украине', 'PERSON'), 38),\n",
       " (('Россией', 'PERSON'), 35),\n",
       " (('США', 'ORGANIZATION'), 29),\n",
       " (('Москва', 'PERSON'), 27),\n",
       " (('УПЦ', 'ORGANIZATION'), 25),\n",
       " (('Москвы', 'PERSON'), 25),\n",
       " (('Газпром', 'PERSON'), 23),\n",
       " (('России Владимир Путин', 'PERSON'), 23),\n",
       " (('Ранее', 'PERSON'), 22),\n",
       " (('Россию', 'PERSON'), 20),\n",
       " (('Это', 'PERSON'), 19),\n",
       " (('Бутина', 'PERSON'), 18),\n",
       " (('Так', 'PERSON'), 17),\n",
       " (('Совета', 'PERSON'), 17)]"
      ]
     },
     "execution_count": 8,
     "metadata": {},
     "output_type": "execute_result"
    }
   ],
   "source": [
    "# TOP-20 популярных NER\n",
    "collections.Counter(tokens_list).most_common(20)"
   ]
  },
  {
   "cell_type": "code",
   "execution_count": 9,
   "id": "b694cdfb",
   "metadata": {},
   "outputs": [
    {
     "data": {
      "text/plain": [
       "[(('России', 'PERSON'), 239),\n",
       " (('Украины', 'PERSON'), 67),\n",
       " (('Кроме', 'PERSON'), 54),\n",
       " (('Отмечается', 'PERSON'), 50),\n",
       " (('Россия', 'PERSON'), 43),\n",
       " (('Москве', 'PERSON'), 43),\n",
       " (('Украине', 'PERSON'), 38),\n",
       " (('Россией', 'PERSON'), 35),\n",
       " (('Москва', 'PERSON'), 27),\n",
       " (('Москвы', 'PERSON'), 25),\n",
       " (('Газпром', 'PERSON'), 23),\n",
       " (('России Владимир Путин', 'PERSON'), 23),\n",
       " (('Ранее', 'PERSON'), 22),\n",
       " (('Россию', 'PERSON'), 20),\n",
       " (('Это', 'PERSON'), 19),\n",
       " (('Бутина', 'PERSON'), 18),\n",
       " (('Так', 'PERSON'), 17),\n",
       " (('Совета', 'PERSON'), 17),\n",
       " (('Новости', 'PERSON'), 16),\n",
       " (('Лукашенко', 'PERSON'), 16)]"
      ]
     },
     "execution_count": 9,
     "metadata": {},
     "output_type": "execute_result"
    }
   ],
   "source": [
    "# TOP-20 популярных личностей\n",
    "person_tokens_list = [(ent[0], ent[1]) for ent in tokens_list if ent[1] == 'PERSON']\n",
    "collections.Counter(person_tokens_list).most_common(20)"
   ]
  },
  {
   "cell_type": "code",
   "execution_count": 10,
   "id": "5ea65bcc",
   "metadata": {},
   "outputs": [
    {
     "data": {
      "text/plain": [
       "[(('США', 'ORGANIZATION'), 29),\n",
       " (('УПЦ', 'ORGANIZATION'), 25),\n",
       " (('ТАСС', 'ORGANIZATION'), 12),\n",
       " (('Daily Mail', 'ORGANIZATION'), 10),\n",
       " (('BBC News', 'ORGANIZATION'), 9),\n",
       " (('УАПЦ', 'ORGANIZATION'), 9),\n",
       " (('National Interest', 'ORGANIZATION'), 8),\n",
       " (('РИА Новости', 'ORGANIZATION'), 7),\n",
       " (('СМИ', 'ORGANIZATION'), 7),\n",
       " (('ФСБ', 'ORGANIZATION'), 7),\n",
       " (('Украинской', 'ORGANIZATION'), 6),\n",
       " (('США Майк Помпео', 'ORGANIZATION'), 6),\n",
       " (('ФСИН', 'ORGANIZATION'), 6),\n",
       " (('ИГ', 'ORGANIZATION'), 6),\n",
       " (('Белоруссии Александр Лукашенко', 'ORGANIZATION'), 6),\n",
       " (('CNN', 'ORGANIZATION'), 6),\n",
       " (('СКР', 'ORGANIZATION'), 6),\n",
       " (('СПГ', 'ORGANIZATION'), 6),\n",
       " (('ФАС', 'ORGANIZATION'), 6),\n",
       " (('НХЛ', 'ORGANIZATION'), 5)]"
      ]
     },
     "execution_count": 10,
     "metadata": {},
     "output_type": "execute_result"
    }
   ],
   "source": [
    "# TOP-20 популярных организаций\n",
    "org_tokens_list = [(ent[0], ent[1]) for ent in tokens_list if ent[1] == 'ORGANIZATION']\n",
    "collections.Counter(org_tokens_list).most_common(20)"
   ]
  },
  {
   "cell_type": "code",
   "execution_count": 11,
   "id": "b0e1ec5b",
   "metadata": {},
   "outputs": [
    {
     "data": {
      "text/plain": [
       "3124"
      ]
     },
     "execution_count": 11,
     "metadata": {},
     "output_type": "execute_result"
    }
   ],
   "source": [
    "# сколько уникальных NER найдено?\n",
    "len(collections.Counter(tokens_list))"
   ]
  },
  {
   "cell_type": "markdown",
   "id": "a6cf2067",
   "metadata": {},
   "source": [
    "### Замечания"
   ]
  },
  {
   "cell_type": "markdown",
   "id": "605ee31b",
   "metadata": {},
   "source": [
    "В среднем алгоритм от nltk правильно опрелеляет до 1/3 токенов."
   ]
  }
 ],
 "metadata": {
  "kernelspec": {
   "display_name": "Python 3 (ipykernel)",
   "language": "python",
   "name": "python3"
  },
  "language_info": {
   "codemirror_mode": {
    "name": "ipython",
    "version": 3
   },
   "file_extension": ".py",
   "mimetype": "text/x-python",
   "name": "python",
   "nbconvert_exporter": "python",
   "pygments_lexer": "ipython3",
   "version": "3.9.12"
  }
 },
 "nbformat": 4,
 "nbformat_minor": 5
}
